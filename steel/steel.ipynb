{
 "cells": [
  {
   "cell_type": "markdown",
   "id": "7c464cdf",
   "metadata": {},
   "source": [
    "# Промышленность. Определение температуры стали\n",
    "\n",
    "Для оптимизации производственных расходов построена эмпирическая модель (LightGBM), предсказывающая конечную температуру стали в плавильном ковше. Модель учитывает не только мощность, подаваемую в расплав, но и тип и объем примесей, продув инертным газом и проч. Так же произведен подробный анализ значимости признаков, позволивший упростить модель, но сохранить ее высокое качество"
   ]
  },
  {
   "cell_type": "markdown",
   "id": "3f8820d4",
   "metadata": {},
   "source": [
    "## Описание данных\n",
    "\n",
    "Данные состоят из файлов, полученных из разных источников:\n",
    "\n",
    "- `data_arc.csv` — данные об электродах;\n",
    "- `data_bulk.csv` — данные о подаче сыпучих материалов (объём);\n",
    "- `data_bulk_time.csv` *—* данные о подаче сыпучих материалов (время);\n",
    "- `data_gas.csv` — данные о продувке сплава газом;\n",
    "- `data_temp.csv` — результаты измерения температуры;\n",
    "- `data_wire.csv` — данные о проволочных материалах (объём);\n",
    "- `data_wire_time.csv` — данные о проволочных материалах (время)."
   ]
  },
  {
   "cell_type": "markdown",
   "id": "98ada247",
   "metadata": {},
   "source": [
    "## Оглавление\n",
    "\n",
    "* [Первичный анализ](#1)\n",
    "* [Исследовательский анализ данных](#2)\n",
    "    * [Временной интервал на одну партию](#2.1)\n",
    "    * [Схема обработки стали для первой партии](#2.2)\n",
    "* [Предварительные выводы и план работы](#3)\n",
    "* [Агрегация данных](#4)\n",
    "* [Работа с аномалиями](#5)\n",
    "* [Подготовка данных к обучению](#6)\n",
    "* [Линейная регрессия](#7)\n",
    "* [Исследование значимости признаков c помощью линейно регрессии](#8)\n",
    "* [Случайный лес](#9)\n",
    "* [Исследование значимости признаков с помощью случайного леса](#10)\n",
    "* [LightGBM](#11)\n",
    "* [Обучение модели-лидера на значимых призаках](#12)\n",
    "* [Общий вывод](#13)\n",
    "\n",
    "<a id='1'></a>\n",
    "## Первичный анализ"
   ]
  },
  {
   "cell_type": "code",
   "execution_count": 1,
   "id": "8f2f44d6",
   "metadata": {},
   "outputs": [],
   "source": [
    "import seaborn as sns\n",
    "sns.set_theme()"
   ]
  },
  {
   "cell_type": "code",
   "execution_count": 2,
   "id": "63210c13",
   "metadata": {},
   "outputs": [],
   "source": [
    "import pandas as pd\n",
    "import numpy as np\n",
    "import matplotlib.pyplot as plt"
   ]
  },
  {
   "cell_type": "code",
   "execution_count": 3,
   "id": "769e762a",
   "metadata": {},
   "outputs": [],
   "source": [
    "from sklearn.linear_model import LinearRegression\n",
    "from sklearn.ensemble import RandomForestRegressor\n",
    "from lightgbm import LGBMRegressor\n",
    "from tensorflow.keras.models import Sequential\n",
    "from tensorflow.keras.layers import Dense\n",
    "from tensorflow.keras.wrappers.scikit_learn import KerasRegressor\n",
    "from keras import optimizers\n",
    "from sklearn.preprocessing import StandardScaler\n",
    "\n",
    "from sklearn.model_selection import GridSearchCV\n",
    "from sklearn.model_selection import train_test_split\n",
    "\n",
    "from sklearn.metrics import r2_score, mean_absolute_error"
   ]
  },
  {
   "cell_type": "code",
   "execution_count": 4,
   "id": "d47cf37d",
   "metadata": {},
   "outputs": [],
   "source": [
    "from IPython.core.interactiveshell import InteractiveShell\n",
    "InteractiveShell.ast_node_interactivity = 'all'"
   ]
  },
  {
   "cell_type": "code",
   "execution_count": 5,
   "id": "866ebfed",
   "metadata": {},
   "outputs": [],
   "source": [
    "df_arc = pd.read_csv('final_steel/data_arc.csv', parse_dates = [1, 2], index_col = [0])\n",
    "df_bulk = pd.read_csv('final_steel/data_bulk.csv', index_col = [0])\n",
    "df_bulk_time = pd.read_csv('final_steel/data_bulk_time.csv', parse_dates = [i for i in range(1,16)], index_col = [0])\n",
    "df_gas  = pd.read_csv('final_steel/data_gas.csv', index_col = [0])\n",
    "df_temp = pd.read_csv('final_steel/data_temp.csv', parse_dates = [1], index_col = [0])\n",
    "df_wire = pd.read_csv('final_steel/data_wire.csv', index_col = [0])\n",
    "df_wire_time = pd.read_csv('final_steel/data_wire_time.csv', parse_dates = [i for i in range(1,10)], index_col = [0])"
   ]
  },
  {
   "cell_type": "code",
   "execution_count": 6,
   "id": "6798a8db",
   "metadata": {},
   "outputs": [],
   "source": [
    "data = [df_arc, df_bulk, df_bulk_time, df_gas, df_temp, df_wire, df_wire_time]"
   ]
  },
  {
   "cell_type": "code",
   "execution_count": 7,
   "id": "447904cd",
   "metadata": {},
   "outputs": [
    {
     "data": {
      "text/html": [
       "<div>\n",
       "<style scoped>\n",
       "    .dataframe tbody tr th:only-of-type {\n",
       "        vertical-align: middle;\n",
       "    }\n",
       "\n",
       "    .dataframe tbody tr th {\n",
       "        vertical-align: top;\n",
       "    }\n",
       "\n",
       "    .dataframe thead th {\n",
       "        text-align: right;\n",
       "    }\n",
       "</style>\n",
       "<table border=\"1\" class=\"dataframe\">\n",
       "  <thead>\n",
       "    <tr style=\"text-align: right;\">\n",
       "      <th></th>\n",
       "      <th>Начало нагрева дугой</th>\n",
       "      <th>Конец нагрева дугой</th>\n",
       "      <th>Активная мощность</th>\n",
       "      <th>Реактивная мощность</th>\n",
       "    </tr>\n",
       "    <tr>\n",
       "      <th>key</th>\n",
       "      <th></th>\n",
       "      <th></th>\n",
       "      <th></th>\n",
       "      <th></th>\n",
       "    </tr>\n",
       "  </thead>\n",
       "  <tbody>\n",
       "    <tr>\n",
       "      <th>1</th>\n",
       "      <td>2019-05-03 11:02:14</td>\n",
       "      <td>2019-05-03 11:06:02</td>\n",
       "      <td>0.976059</td>\n",
       "      <td>0.687084</td>\n",
       "    </tr>\n",
       "    <tr>\n",
       "      <th>1</th>\n",
       "      <td>2019-05-03 11:07:28</td>\n",
       "      <td>2019-05-03 11:10:33</td>\n",
       "      <td>0.805607</td>\n",
       "      <td>0.520285</td>\n",
       "    </tr>\n",
       "    <tr>\n",
       "      <th>1</th>\n",
       "      <td>2019-05-03 11:11:44</td>\n",
       "      <td>2019-05-03 11:14:36</td>\n",
       "      <td>0.744363</td>\n",
       "      <td>0.498805</td>\n",
       "    </tr>\n",
       "    <tr>\n",
       "      <th>1</th>\n",
       "      <td>2019-05-03 11:18:14</td>\n",
       "      <td>2019-05-03 11:24:19</td>\n",
       "      <td>1.659363</td>\n",
       "      <td>1.062669</td>\n",
       "    </tr>\n",
       "    <tr>\n",
       "      <th>1</th>\n",
       "      <td>2019-05-03 11:26:09</td>\n",
       "      <td>2019-05-03 11:28:37</td>\n",
       "      <td>0.692755</td>\n",
       "      <td>0.414397</td>\n",
       "    </tr>\n",
       "  </tbody>\n",
       "</table>\n",
       "</div>"
      ],
      "text/plain": [
       "    Начало нагрева дугой Конец нагрева дугой  Активная мощность  \\\n",
       "key                                                               \n",
       "1    2019-05-03 11:02:14 2019-05-03 11:06:02           0.976059   \n",
       "1    2019-05-03 11:07:28 2019-05-03 11:10:33           0.805607   \n",
       "1    2019-05-03 11:11:44 2019-05-03 11:14:36           0.744363   \n",
       "1    2019-05-03 11:18:14 2019-05-03 11:24:19           1.659363   \n",
       "1    2019-05-03 11:26:09 2019-05-03 11:28:37           0.692755   \n",
       "\n",
       "     Реактивная мощность  \n",
       "key                       \n",
       "1               0.687084  \n",
       "1               0.520285  \n",
       "1               0.498805  \n",
       "1               1.062669  \n",
       "1               0.414397  "
      ]
     },
     "execution_count": 7,
     "metadata": {},
     "output_type": "execute_result"
    },
    {
     "data": {
      "text/html": [
       "<div>\n",
       "<style scoped>\n",
       "    .dataframe tbody tr th:only-of-type {\n",
       "        vertical-align: middle;\n",
       "    }\n",
       "\n",
       "    .dataframe tbody tr th {\n",
       "        vertical-align: top;\n",
       "    }\n",
       "\n",
       "    .dataframe thead th {\n",
       "        text-align: right;\n",
       "    }\n",
       "</style>\n",
       "<table border=\"1\" class=\"dataframe\">\n",
       "  <thead>\n",
       "    <tr style=\"text-align: right;\">\n",
       "      <th></th>\n",
       "      <th>Bulk 1</th>\n",
       "      <th>Bulk 2</th>\n",
       "      <th>Bulk 3</th>\n",
       "      <th>Bulk 4</th>\n",
       "      <th>Bulk 5</th>\n",
       "      <th>Bulk 6</th>\n",
       "      <th>Bulk 7</th>\n",
       "      <th>Bulk 8</th>\n",
       "      <th>Bulk 9</th>\n",
       "      <th>Bulk 10</th>\n",
       "      <th>Bulk 11</th>\n",
       "      <th>Bulk 12</th>\n",
       "      <th>Bulk 13</th>\n",
       "      <th>Bulk 14</th>\n",
       "      <th>Bulk 15</th>\n",
       "    </tr>\n",
       "    <tr>\n",
       "      <th>key</th>\n",
       "      <th></th>\n",
       "      <th></th>\n",
       "      <th></th>\n",
       "      <th></th>\n",
       "      <th></th>\n",
       "      <th></th>\n",
       "      <th></th>\n",
       "      <th></th>\n",
       "      <th></th>\n",
       "      <th></th>\n",
       "      <th></th>\n",
       "      <th></th>\n",
       "      <th></th>\n",
       "      <th></th>\n",
       "      <th></th>\n",
       "    </tr>\n",
       "  </thead>\n",
       "  <tbody>\n",
       "    <tr>\n",
       "      <th>1</th>\n",
       "      <td>NaN</td>\n",
       "      <td>NaN</td>\n",
       "      <td>NaN</td>\n",
       "      <td>43.0</td>\n",
       "      <td>NaN</td>\n",
       "      <td>NaN</td>\n",
       "      <td>NaN</td>\n",
       "      <td>NaN</td>\n",
       "      <td>NaN</td>\n",
       "      <td>NaN</td>\n",
       "      <td>NaN</td>\n",
       "      <td>206.0</td>\n",
       "      <td>NaN</td>\n",
       "      <td>150.0</td>\n",
       "      <td>154.0</td>\n",
       "    </tr>\n",
       "    <tr>\n",
       "      <th>2</th>\n",
       "      <td>NaN</td>\n",
       "      <td>NaN</td>\n",
       "      <td>NaN</td>\n",
       "      <td>73.0</td>\n",
       "      <td>NaN</td>\n",
       "      <td>NaN</td>\n",
       "      <td>NaN</td>\n",
       "      <td>NaN</td>\n",
       "      <td>NaN</td>\n",
       "      <td>NaN</td>\n",
       "      <td>NaN</td>\n",
       "      <td>206.0</td>\n",
       "      <td>NaN</td>\n",
       "      <td>149.0</td>\n",
       "      <td>154.0</td>\n",
       "    </tr>\n",
       "    <tr>\n",
       "      <th>3</th>\n",
       "      <td>NaN</td>\n",
       "      <td>NaN</td>\n",
       "      <td>NaN</td>\n",
       "      <td>34.0</td>\n",
       "      <td>NaN</td>\n",
       "      <td>NaN</td>\n",
       "      <td>NaN</td>\n",
       "      <td>NaN</td>\n",
       "      <td>NaN</td>\n",
       "      <td>NaN</td>\n",
       "      <td>NaN</td>\n",
       "      <td>205.0</td>\n",
       "      <td>NaN</td>\n",
       "      <td>152.0</td>\n",
       "      <td>153.0</td>\n",
       "    </tr>\n",
       "    <tr>\n",
       "      <th>4</th>\n",
       "      <td>NaN</td>\n",
       "      <td>NaN</td>\n",
       "      <td>NaN</td>\n",
       "      <td>81.0</td>\n",
       "      <td>NaN</td>\n",
       "      <td>NaN</td>\n",
       "      <td>NaN</td>\n",
       "      <td>NaN</td>\n",
       "      <td>NaN</td>\n",
       "      <td>NaN</td>\n",
       "      <td>NaN</td>\n",
       "      <td>207.0</td>\n",
       "      <td>NaN</td>\n",
       "      <td>153.0</td>\n",
       "      <td>154.0</td>\n",
       "    </tr>\n",
       "    <tr>\n",
       "      <th>5</th>\n",
       "      <td>NaN</td>\n",
       "      <td>NaN</td>\n",
       "      <td>NaN</td>\n",
       "      <td>78.0</td>\n",
       "      <td>NaN</td>\n",
       "      <td>NaN</td>\n",
       "      <td>NaN</td>\n",
       "      <td>NaN</td>\n",
       "      <td>NaN</td>\n",
       "      <td>NaN</td>\n",
       "      <td>NaN</td>\n",
       "      <td>203.0</td>\n",
       "      <td>NaN</td>\n",
       "      <td>151.0</td>\n",
       "      <td>152.0</td>\n",
       "    </tr>\n",
       "  </tbody>\n",
       "</table>\n",
       "</div>"
      ],
      "text/plain": [
       "     Bulk 1  Bulk 2  Bulk 3  Bulk 4  Bulk 5  Bulk 6  Bulk 7  Bulk 8  Bulk 9  \\\n",
       "key                                                                           \n",
       "1       NaN     NaN     NaN    43.0     NaN     NaN     NaN     NaN     NaN   \n",
       "2       NaN     NaN     NaN    73.0     NaN     NaN     NaN     NaN     NaN   \n",
       "3       NaN     NaN     NaN    34.0     NaN     NaN     NaN     NaN     NaN   \n",
       "4       NaN     NaN     NaN    81.0     NaN     NaN     NaN     NaN     NaN   \n",
       "5       NaN     NaN     NaN    78.0     NaN     NaN     NaN     NaN     NaN   \n",
       "\n",
       "     Bulk 10  Bulk 11  Bulk 12  Bulk 13  Bulk 14  Bulk 15  \n",
       "key                                                        \n",
       "1        NaN      NaN    206.0      NaN    150.0    154.0  \n",
       "2        NaN      NaN    206.0      NaN    149.0    154.0  \n",
       "3        NaN      NaN    205.0      NaN    152.0    153.0  \n",
       "4        NaN      NaN    207.0      NaN    153.0    154.0  \n",
       "5        NaN      NaN    203.0      NaN    151.0    152.0  "
      ]
     },
     "execution_count": 7,
     "metadata": {},
     "output_type": "execute_result"
    },
    {
     "data": {
      "text/html": [
       "<div>\n",
       "<style scoped>\n",
       "    .dataframe tbody tr th:only-of-type {\n",
       "        vertical-align: middle;\n",
       "    }\n",
       "\n",
       "    .dataframe tbody tr th {\n",
       "        vertical-align: top;\n",
       "    }\n",
       "\n",
       "    .dataframe thead th {\n",
       "        text-align: right;\n",
       "    }\n",
       "</style>\n",
       "<table border=\"1\" class=\"dataframe\">\n",
       "  <thead>\n",
       "    <tr style=\"text-align: right;\">\n",
       "      <th></th>\n",
       "      <th>Bulk 1</th>\n",
       "      <th>Bulk 2</th>\n",
       "      <th>Bulk 3</th>\n",
       "      <th>Bulk 4</th>\n",
       "      <th>Bulk 5</th>\n",
       "      <th>Bulk 6</th>\n",
       "      <th>Bulk 7</th>\n",
       "      <th>Bulk 8</th>\n",
       "      <th>Bulk 9</th>\n",
       "      <th>Bulk 10</th>\n",
       "      <th>Bulk 11</th>\n",
       "      <th>Bulk 12</th>\n",
       "      <th>Bulk 13</th>\n",
       "      <th>Bulk 14</th>\n",
       "      <th>Bulk 15</th>\n",
       "    </tr>\n",
       "    <tr>\n",
       "      <th>key</th>\n",
       "      <th></th>\n",
       "      <th></th>\n",
       "      <th></th>\n",
       "      <th></th>\n",
       "      <th></th>\n",
       "      <th></th>\n",
       "      <th></th>\n",
       "      <th></th>\n",
       "      <th></th>\n",
       "      <th></th>\n",
       "      <th></th>\n",
       "      <th></th>\n",
       "      <th></th>\n",
       "      <th></th>\n",
       "      <th></th>\n",
       "    </tr>\n",
       "  </thead>\n",
       "  <tbody>\n",
       "    <tr>\n",
       "      <th>1</th>\n",
       "      <td>NaT</td>\n",
       "      <td>NaT</td>\n",
       "      <td>NaT</td>\n",
       "      <td>2019-05-03 11:21:30</td>\n",
       "      <td>NaT</td>\n",
       "      <td>NaT</td>\n",
       "      <td>NaT</td>\n",
       "      <td>NaT</td>\n",
       "      <td>NaT</td>\n",
       "      <td>NaT</td>\n",
       "      <td>NaT</td>\n",
       "      <td>2019-05-03 11:03:52</td>\n",
       "      <td>NaT</td>\n",
       "      <td>2019-05-03 11:03:52</td>\n",
       "      <td>2019-05-03 11:03:52</td>\n",
       "    </tr>\n",
       "    <tr>\n",
       "      <th>2</th>\n",
       "      <td>NaT</td>\n",
       "      <td>NaT</td>\n",
       "      <td>NaT</td>\n",
       "      <td>2019-05-03 11:46:38</td>\n",
       "      <td>NaT</td>\n",
       "      <td>NaT</td>\n",
       "      <td>NaT</td>\n",
       "      <td>NaT</td>\n",
       "      <td>NaT</td>\n",
       "      <td>NaT</td>\n",
       "      <td>NaT</td>\n",
       "      <td>2019-05-03 11:40:20</td>\n",
       "      <td>NaT</td>\n",
       "      <td>2019-05-03 11:40:20</td>\n",
       "      <td>2019-05-03 11:40:20</td>\n",
       "    </tr>\n",
       "    <tr>\n",
       "      <th>3</th>\n",
       "      <td>NaT</td>\n",
       "      <td>NaT</td>\n",
       "      <td>NaT</td>\n",
       "      <td>2019-05-03 12:31:06</td>\n",
       "      <td>NaT</td>\n",
       "      <td>NaT</td>\n",
       "      <td>NaT</td>\n",
       "      <td>NaT</td>\n",
       "      <td>NaT</td>\n",
       "      <td>NaT</td>\n",
       "      <td>NaT</td>\n",
       "      <td>2019-05-03 12:09:40</td>\n",
       "      <td>NaT</td>\n",
       "      <td>2019-05-03 12:09:40</td>\n",
       "      <td>2019-05-03 12:09:40</td>\n",
       "    </tr>\n",
       "    <tr>\n",
       "      <th>4</th>\n",
       "      <td>NaT</td>\n",
       "      <td>NaT</td>\n",
       "      <td>NaT</td>\n",
       "      <td>2019-05-03 12:48:43</td>\n",
       "      <td>NaT</td>\n",
       "      <td>NaT</td>\n",
       "      <td>NaT</td>\n",
       "      <td>NaT</td>\n",
       "      <td>NaT</td>\n",
       "      <td>NaT</td>\n",
       "      <td>NaT</td>\n",
       "      <td>2019-05-03 12:41:24</td>\n",
       "      <td>NaT</td>\n",
       "      <td>2019-05-03 12:41:24</td>\n",
       "      <td>2019-05-03 12:41:24</td>\n",
       "    </tr>\n",
       "    <tr>\n",
       "      <th>5</th>\n",
       "      <td>NaT</td>\n",
       "      <td>NaT</td>\n",
       "      <td>NaT</td>\n",
       "      <td>2019-05-03 13:18:50</td>\n",
       "      <td>NaT</td>\n",
       "      <td>NaT</td>\n",
       "      <td>NaT</td>\n",
       "      <td>NaT</td>\n",
       "      <td>NaT</td>\n",
       "      <td>NaT</td>\n",
       "      <td>NaT</td>\n",
       "      <td>2019-05-03 13:12:56</td>\n",
       "      <td>NaT</td>\n",
       "      <td>2019-05-03 13:12:56</td>\n",
       "      <td>2019-05-03 13:12:56</td>\n",
       "    </tr>\n",
       "  </tbody>\n",
       "</table>\n",
       "</div>"
      ],
      "text/plain": [
       "    Bulk 1 Bulk 2 Bulk 3              Bulk 4 Bulk 5 Bulk 6 Bulk 7 Bulk 8  \\\n",
       "key                                                                        \n",
       "1      NaT    NaT    NaT 2019-05-03 11:21:30    NaT    NaT    NaT    NaT   \n",
       "2      NaT    NaT    NaT 2019-05-03 11:46:38    NaT    NaT    NaT    NaT   \n",
       "3      NaT    NaT    NaT 2019-05-03 12:31:06    NaT    NaT    NaT    NaT   \n",
       "4      NaT    NaT    NaT 2019-05-03 12:48:43    NaT    NaT    NaT    NaT   \n",
       "5      NaT    NaT    NaT 2019-05-03 13:18:50    NaT    NaT    NaT    NaT   \n",
       "\n",
       "    Bulk 9 Bulk 10 Bulk 11             Bulk 12 Bulk 13             Bulk 14  \\\n",
       "key                                                                          \n",
       "1      NaT     NaT     NaT 2019-05-03 11:03:52     NaT 2019-05-03 11:03:52   \n",
       "2      NaT     NaT     NaT 2019-05-03 11:40:20     NaT 2019-05-03 11:40:20   \n",
       "3      NaT     NaT     NaT 2019-05-03 12:09:40     NaT 2019-05-03 12:09:40   \n",
       "4      NaT     NaT     NaT 2019-05-03 12:41:24     NaT 2019-05-03 12:41:24   \n",
       "5      NaT     NaT     NaT 2019-05-03 13:12:56     NaT 2019-05-03 13:12:56   \n",
       "\n",
       "                Bulk 15  \n",
       "key                      \n",
       "1   2019-05-03 11:03:52  \n",
       "2   2019-05-03 11:40:20  \n",
       "3   2019-05-03 12:09:40  \n",
       "4   2019-05-03 12:41:24  \n",
       "5   2019-05-03 13:12:56  "
      ]
     },
     "execution_count": 7,
     "metadata": {},
     "output_type": "execute_result"
    },
    {
     "data": {
      "text/html": [
       "<div>\n",
       "<style scoped>\n",
       "    .dataframe tbody tr th:only-of-type {\n",
       "        vertical-align: middle;\n",
       "    }\n",
       "\n",
       "    .dataframe tbody tr th {\n",
       "        vertical-align: top;\n",
       "    }\n",
       "\n",
       "    .dataframe thead th {\n",
       "        text-align: right;\n",
       "    }\n",
       "</style>\n",
       "<table border=\"1\" class=\"dataframe\">\n",
       "  <thead>\n",
       "    <tr style=\"text-align: right;\">\n",
       "      <th></th>\n",
       "      <th>Газ 1</th>\n",
       "    </tr>\n",
       "    <tr>\n",
       "      <th>key</th>\n",
       "      <th></th>\n",
       "    </tr>\n",
       "  </thead>\n",
       "  <tbody>\n",
       "    <tr>\n",
       "      <th>1</th>\n",
       "      <td>29.749986</td>\n",
       "    </tr>\n",
       "    <tr>\n",
       "      <th>2</th>\n",
       "      <td>12.555561</td>\n",
       "    </tr>\n",
       "    <tr>\n",
       "      <th>3</th>\n",
       "      <td>28.554793</td>\n",
       "    </tr>\n",
       "    <tr>\n",
       "      <th>4</th>\n",
       "      <td>18.841219</td>\n",
       "    </tr>\n",
       "    <tr>\n",
       "      <th>5</th>\n",
       "      <td>5.413692</td>\n",
       "    </tr>\n",
       "  </tbody>\n",
       "</table>\n",
       "</div>"
      ],
      "text/plain": [
       "         Газ 1\n",
       "key           \n",
       "1    29.749986\n",
       "2    12.555561\n",
       "3    28.554793\n",
       "4    18.841219\n",
       "5     5.413692"
      ]
     },
     "execution_count": 7,
     "metadata": {},
     "output_type": "execute_result"
    },
    {
     "data": {
      "text/html": [
       "<div>\n",
       "<style scoped>\n",
       "    .dataframe tbody tr th:only-of-type {\n",
       "        vertical-align: middle;\n",
       "    }\n",
       "\n",
       "    .dataframe tbody tr th {\n",
       "        vertical-align: top;\n",
       "    }\n",
       "\n",
       "    .dataframe thead th {\n",
       "        text-align: right;\n",
       "    }\n",
       "</style>\n",
       "<table border=\"1\" class=\"dataframe\">\n",
       "  <thead>\n",
       "    <tr style=\"text-align: right;\">\n",
       "      <th></th>\n",
       "      <th>Время замера</th>\n",
       "      <th>Температура</th>\n",
       "    </tr>\n",
       "    <tr>\n",
       "      <th>key</th>\n",
       "      <th></th>\n",
       "      <th></th>\n",
       "    </tr>\n",
       "  </thead>\n",
       "  <tbody>\n",
       "    <tr>\n",
       "      <th>1</th>\n",
       "      <td>2019-05-03 11:16:18</td>\n",
       "      <td>1571.0</td>\n",
       "    </tr>\n",
       "    <tr>\n",
       "      <th>1</th>\n",
       "      <td>2019-05-03 11:25:53</td>\n",
       "      <td>1604.0</td>\n",
       "    </tr>\n",
       "    <tr>\n",
       "      <th>1</th>\n",
       "      <td>2019-05-03 11:29:11</td>\n",
       "      <td>1618.0</td>\n",
       "    </tr>\n",
       "    <tr>\n",
       "      <th>1</th>\n",
       "      <td>2019-05-03 11:30:01</td>\n",
       "      <td>1601.0</td>\n",
       "    </tr>\n",
       "    <tr>\n",
       "      <th>1</th>\n",
       "      <td>2019-05-03 11:30:39</td>\n",
       "      <td>1613.0</td>\n",
       "    </tr>\n",
       "  </tbody>\n",
       "</table>\n",
       "</div>"
      ],
      "text/plain": [
       "           Время замера  Температура\n",
       "key                                 \n",
       "1   2019-05-03 11:16:18       1571.0\n",
       "1   2019-05-03 11:25:53       1604.0\n",
       "1   2019-05-03 11:29:11       1618.0\n",
       "1   2019-05-03 11:30:01       1601.0\n",
       "1   2019-05-03 11:30:39       1613.0"
      ]
     },
     "execution_count": 7,
     "metadata": {},
     "output_type": "execute_result"
    },
    {
     "data": {
      "text/html": [
       "<div>\n",
       "<style scoped>\n",
       "    .dataframe tbody tr th:only-of-type {\n",
       "        vertical-align: middle;\n",
       "    }\n",
       "\n",
       "    .dataframe tbody tr th {\n",
       "        vertical-align: top;\n",
       "    }\n",
       "\n",
       "    .dataframe thead th {\n",
       "        text-align: right;\n",
       "    }\n",
       "</style>\n",
       "<table border=\"1\" class=\"dataframe\">\n",
       "  <thead>\n",
       "    <tr style=\"text-align: right;\">\n",
       "      <th></th>\n",
       "      <th>Wire 1</th>\n",
       "      <th>Wire 2</th>\n",
       "      <th>Wire 3</th>\n",
       "      <th>Wire 4</th>\n",
       "      <th>Wire 5</th>\n",
       "      <th>Wire 6</th>\n",
       "      <th>Wire 7</th>\n",
       "      <th>Wire 8</th>\n",
       "      <th>Wire 9</th>\n",
       "    </tr>\n",
       "    <tr>\n",
       "      <th>key</th>\n",
       "      <th></th>\n",
       "      <th></th>\n",
       "      <th></th>\n",
       "      <th></th>\n",
       "      <th></th>\n",
       "      <th></th>\n",
       "      <th></th>\n",
       "      <th></th>\n",
       "      <th></th>\n",
       "    </tr>\n",
       "  </thead>\n",
       "  <tbody>\n",
       "    <tr>\n",
       "      <th>1</th>\n",
       "      <td>60.059998</td>\n",
       "      <td>NaN</td>\n",
       "      <td>NaN</td>\n",
       "      <td>NaN</td>\n",
       "      <td>NaN</td>\n",
       "      <td>NaN</td>\n",
       "      <td>NaN</td>\n",
       "      <td>NaN</td>\n",
       "      <td>NaN</td>\n",
       "    </tr>\n",
       "    <tr>\n",
       "      <th>2</th>\n",
       "      <td>96.052315</td>\n",
       "      <td>NaN</td>\n",
       "      <td>NaN</td>\n",
       "      <td>NaN</td>\n",
       "      <td>NaN</td>\n",
       "      <td>NaN</td>\n",
       "      <td>NaN</td>\n",
       "      <td>NaN</td>\n",
       "      <td>NaN</td>\n",
       "    </tr>\n",
       "    <tr>\n",
       "      <th>3</th>\n",
       "      <td>91.160157</td>\n",
       "      <td>NaN</td>\n",
       "      <td>NaN</td>\n",
       "      <td>NaN</td>\n",
       "      <td>NaN</td>\n",
       "      <td>NaN</td>\n",
       "      <td>NaN</td>\n",
       "      <td>NaN</td>\n",
       "      <td>NaN</td>\n",
       "    </tr>\n",
       "    <tr>\n",
       "      <th>4</th>\n",
       "      <td>89.063515</td>\n",
       "      <td>NaN</td>\n",
       "      <td>NaN</td>\n",
       "      <td>NaN</td>\n",
       "      <td>NaN</td>\n",
       "      <td>NaN</td>\n",
       "      <td>NaN</td>\n",
       "      <td>NaN</td>\n",
       "      <td>NaN</td>\n",
       "    </tr>\n",
       "    <tr>\n",
       "      <th>5</th>\n",
       "      <td>89.238236</td>\n",
       "      <td>9.11456</td>\n",
       "      <td>NaN</td>\n",
       "      <td>NaN</td>\n",
       "      <td>NaN</td>\n",
       "      <td>NaN</td>\n",
       "      <td>NaN</td>\n",
       "      <td>NaN</td>\n",
       "      <td>NaN</td>\n",
       "    </tr>\n",
       "  </tbody>\n",
       "</table>\n",
       "</div>"
      ],
      "text/plain": [
       "        Wire 1   Wire 2  Wire 3  Wire 4  Wire 5  Wire 6  Wire 7  Wire 8  \\\n",
       "key                                                                       \n",
       "1    60.059998      NaN     NaN     NaN     NaN     NaN     NaN     NaN   \n",
       "2    96.052315      NaN     NaN     NaN     NaN     NaN     NaN     NaN   \n",
       "3    91.160157      NaN     NaN     NaN     NaN     NaN     NaN     NaN   \n",
       "4    89.063515      NaN     NaN     NaN     NaN     NaN     NaN     NaN   \n",
       "5    89.238236  9.11456     NaN     NaN     NaN     NaN     NaN     NaN   \n",
       "\n",
       "     Wire 9  \n",
       "key          \n",
       "1       NaN  \n",
       "2       NaN  \n",
       "3       NaN  \n",
       "4       NaN  \n",
       "5       NaN  "
      ]
     },
     "execution_count": 7,
     "metadata": {},
     "output_type": "execute_result"
    },
    {
     "data": {
      "text/html": [
       "<div>\n",
       "<style scoped>\n",
       "    .dataframe tbody tr th:only-of-type {\n",
       "        vertical-align: middle;\n",
       "    }\n",
       "\n",
       "    .dataframe tbody tr th {\n",
       "        vertical-align: top;\n",
       "    }\n",
       "\n",
       "    .dataframe thead th {\n",
       "        text-align: right;\n",
       "    }\n",
       "</style>\n",
       "<table border=\"1\" class=\"dataframe\">\n",
       "  <thead>\n",
       "    <tr style=\"text-align: right;\">\n",
       "      <th></th>\n",
       "      <th>Wire 1</th>\n",
       "      <th>Wire 2</th>\n",
       "      <th>Wire 3</th>\n",
       "      <th>Wire 4</th>\n",
       "      <th>Wire 5</th>\n",
       "      <th>Wire 6</th>\n",
       "      <th>Wire 7</th>\n",
       "      <th>Wire 8</th>\n",
       "      <th>Wire 9</th>\n",
       "    </tr>\n",
       "    <tr>\n",
       "      <th>key</th>\n",
       "      <th></th>\n",
       "      <th></th>\n",
       "      <th></th>\n",
       "      <th></th>\n",
       "      <th></th>\n",
       "      <th></th>\n",
       "      <th></th>\n",
       "      <th></th>\n",
       "      <th></th>\n",
       "    </tr>\n",
       "  </thead>\n",
       "  <tbody>\n",
       "    <tr>\n",
       "      <th>1</th>\n",
       "      <td>2019-05-03 11:11:41</td>\n",
       "      <td>NaT</td>\n",
       "      <td>NaT</td>\n",
       "      <td>NaT</td>\n",
       "      <td>NaT</td>\n",
       "      <td>NaT</td>\n",
       "      <td>NaT</td>\n",
       "      <td>NaT</td>\n",
       "      <td>NaT</td>\n",
       "    </tr>\n",
       "    <tr>\n",
       "      <th>2</th>\n",
       "      <td>2019-05-03 11:46:10</td>\n",
       "      <td>NaT</td>\n",
       "      <td>NaT</td>\n",
       "      <td>NaT</td>\n",
       "      <td>NaT</td>\n",
       "      <td>NaT</td>\n",
       "      <td>NaT</td>\n",
       "      <td>NaT</td>\n",
       "      <td>NaT</td>\n",
       "    </tr>\n",
       "    <tr>\n",
       "      <th>3</th>\n",
       "      <td>2019-05-03 12:13:47</td>\n",
       "      <td>NaT</td>\n",
       "      <td>NaT</td>\n",
       "      <td>NaT</td>\n",
       "      <td>NaT</td>\n",
       "      <td>NaT</td>\n",
       "      <td>NaT</td>\n",
       "      <td>NaT</td>\n",
       "      <td>NaT</td>\n",
       "    </tr>\n",
       "    <tr>\n",
       "      <th>4</th>\n",
       "      <td>2019-05-03 12:48:05</td>\n",
       "      <td>NaT</td>\n",
       "      <td>NaT</td>\n",
       "      <td>NaT</td>\n",
       "      <td>NaT</td>\n",
       "      <td>NaT</td>\n",
       "      <td>NaT</td>\n",
       "      <td>NaT</td>\n",
       "      <td>NaT</td>\n",
       "    </tr>\n",
       "    <tr>\n",
       "      <th>5</th>\n",
       "      <td>2019-05-03 13:18:15</td>\n",
       "      <td>2019-05-03 13:32:06</td>\n",
       "      <td>NaT</td>\n",
       "      <td>NaT</td>\n",
       "      <td>NaT</td>\n",
       "      <td>NaT</td>\n",
       "      <td>NaT</td>\n",
       "      <td>NaT</td>\n",
       "      <td>NaT</td>\n",
       "    </tr>\n",
       "  </tbody>\n",
       "</table>\n",
       "</div>"
      ],
      "text/plain": [
       "                 Wire 1              Wire 2 Wire 3 Wire 4 Wire 5 Wire 6  \\\n",
       "key                                                                       \n",
       "1   2019-05-03 11:11:41                 NaT    NaT    NaT    NaT    NaT   \n",
       "2   2019-05-03 11:46:10                 NaT    NaT    NaT    NaT    NaT   \n",
       "3   2019-05-03 12:13:47                 NaT    NaT    NaT    NaT    NaT   \n",
       "4   2019-05-03 12:48:05                 NaT    NaT    NaT    NaT    NaT   \n",
       "5   2019-05-03 13:18:15 2019-05-03 13:32:06    NaT    NaT    NaT    NaT   \n",
       "\n",
       "    Wire 7 Wire 8 Wire 9  \n",
       "key                       \n",
       "1      NaT    NaT    NaT  \n",
       "2      NaT    NaT    NaT  \n",
       "3      NaT    NaT    NaT  \n",
       "4      NaT    NaT    NaT  \n",
       "5      NaT    NaT    NaT  "
      ]
     },
     "execution_count": 7,
     "metadata": {},
     "output_type": "execute_result"
    }
   ],
   "source": [
    "for df in data:\n",
    "    df.head()"
   ]
  },
  {
   "cell_type": "code",
   "execution_count": 8,
   "id": "7520e823",
   "metadata": {},
   "outputs": [
    {
     "name": "stdout",
     "output_type": "stream",
     "text": [
      "\n",
      "<class 'pandas.core.frame.DataFrame'>\n",
      "Int64Index: 14876 entries, 1 to 3241\n",
      "Data columns (total 4 columns):\n",
      " #   Column                Non-Null Count  Dtype         \n",
      "---  ------                --------------  -----         \n",
      " 0   Начало нагрева дугой  14876 non-null  datetime64[ns]\n",
      " 1   Конец нагрева дугой   14876 non-null  datetime64[ns]\n",
      " 2   Активная мощность     14876 non-null  float64       \n",
      " 3   Реактивная мощность   14876 non-null  float64       \n",
      "dtypes: datetime64[ns](2), float64(2)\n",
      "memory usage: 581.1 KB\n",
      "\n",
      "<class 'pandas.core.frame.DataFrame'>\n",
      "Int64Index: 3129 entries, 1 to 3241\n",
      "Data columns (total 15 columns):\n",
      " #   Column   Non-Null Count  Dtype  \n",
      "---  ------   --------------  -----  \n",
      " 0   Bulk 1   252 non-null    float64\n",
      " 1   Bulk 2   22 non-null     float64\n",
      " 2   Bulk 3   1298 non-null   float64\n",
      " 3   Bulk 4   1014 non-null   float64\n",
      " 4   Bulk 5   77 non-null     float64\n",
      " 5   Bulk 6   576 non-null    float64\n",
      " 6   Bulk 7   25 non-null     float64\n",
      " 7   Bulk 8   1 non-null      float64\n",
      " 8   Bulk 9   19 non-null     float64\n",
      " 9   Bulk 10  176 non-null    float64\n",
      " 10  Bulk 11  177 non-null    float64\n",
      " 11  Bulk 12  2450 non-null   float64\n",
      " 12  Bulk 13  18 non-null     float64\n",
      " 13  Bulk 14  2806 non-null   float64\n",
      " 14  Bulk 15  2248 non-null   float64\n",
      "dtypes: float64(15)\n",
      "memory usage: 391.1 KB\n",
      "\n",
      "<class 'pandas.core.frame.DataFrame'>\n",
      "Int64Index: 3129 entries, 1 to 3241\n",
      "Data columns (total 15 columns):\n",
      " #   Column   Non-Null Count  Dtype         \n",
      "---  ------   --------------  -----         \n",
      " 0   Bulk 1   252 non-null    datetime64[ns]\n",
      " 1   Bulk 2   22 non-null     datetime64[ns]\n",
      " 2   Bulk 3   1298 non-null   datetime64[ns]\n",
      " 3   Bulk 4   1014 non-null   datetime64[ns]\n",
      " 4   Bulk 5   77 non-null     datetime64[ns]\n",
      " 5   Bulk 6   576 non-null    datetime64[ns]\n",
      " 6   Bulk 7   25 non-null     datetime64[ns]\n",
      " 7   Bulk 8   1 non-null      datetime64[ns]\n",
      " 8   Bulk 9   19 non-null     datetime64[ns]\n",
      " 9   Bulk 10  176 non-null    datetime64[ns]\n",
      " 10  Bulk 11  177 non-null    datetime64[ns]\n",
      " 11  Bulk 12  2450 non-null   datetime64[ns]\n",
      " 12  Bulk 13  18 non-null     datetime64[ns]\n",
      " 13  Bulk 14  2806 non-null   datetime64[ns]\n",
      " 14  Bulk 15  2248 non-null   datetime64[ns]\n",
      "dtypes: datetime64[ns](15)\n",
      "memory usage: 391.1 KB\n",
      "\n",
      "<class 'pandas.core.frame.DataFrame'>\n",
      "Int64Index: 3239 entries, 1 to 3241\n",
      "Data columns (total 1 columns):\n",
      " #   Column  Non-Null Count  Dtype  \n",
      "---  ------  --------------  -----  \n",
      " 0   Газ 1   3239 non-null   float64\n",
      "dtypes: float64(1)\n",
      "memory usage: 50.6 KB\n",
      "\n",
      "<class 'pandas.core.frame.DataFrame'>\n",
      "Int64Index: 15907 entries, 1 to 3241\n",
      "Data columns (total 2 columns):\n",
      " #   Column        Non-Null Count  Dtype         \n",
      "---  ------        --------------  -----         \n",
      " 0   Время замера  15907 non-null  datetime64[ns]\n",
      " 1   Температура   13006 non-null  float64       \n",
      "dtypes: datetime64[ns](1), float64(1)\n",
      "memory usage: 372.8 KB\n",
      "\n",
      "<class 'pandas.core.frame.DataFrame'>\n",
      "Int64Index: 3081 entries, 1 to 3241\n",
      "Data columns (total 9 columns):\n",
      " #   Column  Non-Null Count  Dtype  \n",
      "---  ------  --------------  -----  \n",
      " 0   Wire 1  3055 non-null   float64\n",
      " 1   Wire 2  1079 non-null   float64\n",
      " 2   Wire 3  63 non-null     float64\n",
      " 3   Wire 4  14 non-null     float64\n",
      " 4   Wire 5  1 non-null      float64\n",
      " 5   Wire 6  73 non-null     float64\n",
      " 6   Wire 7  11 non-null     float64\n",
      " 7   Wire 8  19 non-null     float64\n",
      " 8   Wire 9  29 non-null     float64\n",
      "dtypes: float64(9)\n",
      "memory usage: 240.7 KB\n",
      "\n",
      "<class 'pandas.core.frame.DataFrame'>\n",
      "Int64Index: 3081 entries, 1 to 3241\n",
      "Data columns (total 9 columns):\n",
      " #   Column  Non-Null Count  Dtype         \n",
      "---  ------  --------------  -----         \n",
      " 0   Wire 1  3055 non-null   datetime64[ns]\n",
      " 1   Wire 2  1079 non-null   datetime64[ns]\n",
      " 2   Wire 3  63 non-null     datetime64[ns]\n",
      " 3   Wire 4  14 non-null     datetime64[ns]\n",
      " 4   Wire 5  1 non-null      datetime64[ns]\n",
      " 5   Wire 6  73 non-null     datetime64[ns]\n",
      " 6   Wire 7  11 non-null     datetime64[ns]\n",
      " 7   Wire 8  19 non-null     datetime64[ns]\n",
      " 8   Wire 9  29 non-null     datetime64[ns]\n",
      "dtypes: datetime64[ns](9)\n",
      "memory usage: 240.7 KB\n"
     ]
    }
   ],
   "source": [
    "for df in data:\n",
    "    print('')\n",
    "    df.info()"
   ]
  },
  {
   "cell_type": "markdown",
   "id": "25f63b71",
   "metadata": {},
   "source": [
    "__Промежуточный вывод__\n",
    "\n",
    "Данные приведены к корректным типам и по-видимому требуют только агрегациию. Пропуски скорее всего означют, что данный компонент просто не добавлялся к расплаву, поэтому пропуски не требуют предварительного заполнения"
   ]
  },
  {
   "cell_type": "markdown",
   "id": "c380b30d",
   "metadata": {},
   "source": [
    "<a id='2'></a>\n",
    "## Исследовательский анализ данных\n",
    "<a id='2.1'></a>\n",
    "### Временной интервал на одну партию"
   ]
  },
  {
   "cell_type": "code",
   "execution_count": 9,
   "id": "f88a8b60",
   "metadata": {},
   "outputs": [
    {
     "data": {
      "text/plain": [
       "Timestamp('2019-05-03 11:06:02')"
      ]
     },
     "execution_count": 9,
     "metadata": {},
     "output_type": "execute_result"
    }
   ],
   "source": [
    "df_arc[df_arc.index == 1]['Конец нагрева дугой'].min()"
   ]
  },
  {
   "cell_type": "code",
   "execution_count": 10,
   "id": "1bbbf13f",
   "metadata": {},
   "outputs": [
    {
     "data": {
      "text/plain": [
       "Timestamp('2019-05-03 11:28:37')"
      ]
     },
     "execution_count": 10,
     "metadata": {},
     "output_type": "execute_result"
    }
   ],
   "source": [
    "df_arc[df_arc.index  == 1]['Конец нагрева дугой'].max()"
   ]
  },
  {
   "cell_type": "code",
   "execution_count": 11,
   "id": "c29083f2",
   "metadata": {},
   "outputs": [],
   "source": [
    "times = []\n",
    "for key in df_arc.index.unique():\n",
    "    t = df_arc[df_arc.index  == key]['Конец нагрева дугой'].max() - df_arc[df_arc.index  == key]['Начало нагрева дугой'].min()\n",
    "    times.append(t.total_seconds()/60)"
   ]
  },
  {
   "cell_type": "code",
   "execution_count": 12,
   "id": "623c32f0",
   "metadata": {},
   "outputs": [],
   "source": [
    "times = pd.Series(times)"
   ]
  },
  {
   "cell_type": "code",
   "execution_count": 13,
   "id": "adb5d240",
   "metadata": {},
   "outputs": [
    {
     "data": {
      "text/plain": [
       "<AxesSubplot:>"
      ]
     },
     "execution_count": 13,
     "metadata": {},
     "output_type": "execute_result"
    },
    {
     "data": {
      "text/plain": [
       "Text(0.5, 1.0, 'duration distribution')"
      ]
     },
     "execution_count": 13,
     "metadata": {},
     "output_type": "execute_result"
    },
    {
     "data": {
      "text/plain": [
       "Text(0.5, 0, 'duration, minutes')"
      ]
     },
     "execution_count": 13,
     "metadata": {},
     "output_type": "execute_result"
    },
    {
     "data": {
      "text/plain": [
       "Text(0, 0.5, 'count')"
      ]
     },
     "execution_count": 13,
     "metadata": {},
     "output_type": "execute_result"
    },
    {
     "data": {
      "image/png": "[encoded data removed]",
      "text/plain": [
       "<Figure size 432x288 with 1 Axes>"
      ]
     },
     "metadata": {},
     "output_type": "display_data"
    }
   ],
   "source": [
    "times.hist(bins = 50, range = (0, 100))\n",
    "plt.title('duration distribution')\n",
    "plt.xlabel('duration, minutes')\n",
    "plt.ylabel('count')"
   ]
  },
  {
   "cell_type": "code",
   "execution_count": 14,
   "id": "4d7ef1ac",
   "metadata": {},
   "outputs": [
    {
     "data": {
      "text/plain": [
       "count    3214.000000\n",
       "mean       31.642294\n",
       "std        21.085088\n",
       "min         0.950000\n",
       "25%        21.004167\n",
       "50%        27.683333\n",
       "75%        38.095833\n",
       "max       391.416667\n",
       "dtype: float64"
      ]
     },
     "execution_count": 14,
     "metadata": {},
     "output_type": "execute_result"
    }
   ],
   "source": [
    "times.describe()"
   ]
  },
  {
   "cell_type": "markdown",
   "id": "f4cbb8e4",
   "metadata": {},
   "source": [
    "<a id='2.2'></a>\n",
    "### Схема обработки стали для первой партии"
   ]
  },
  {
   "cell_type": "code",
   "execution_count": 15,
   "id": "b43aed26",
   "metadata": {},
   "outputs": [
    {
     "data": {
      "text/html": [
       "<div>\n",
       "<style scoped>\n",
       "    .dataframe tbody tr th:only-of-type {\n",
       "        vertical-align: middle;\n",
       "    }\n",
       "\n",
       "    .dataframe tbody tr th {\n",
       "        vertical-align: top;\n",
       "    }\n",
       "\n",
       "    .dataframe thead th {\n",
       "        text-align: right;\n",
       "    }\n",
       "</style>\n",
       "<table border=\"1\" class=\"dataframe\">\n",
       "  <thead>\n",
       "    <tr style=\"text-align: right;\">\n",
       "      <th></th>\n",
       "      <th>Начало нагрева дугой</th>\n",
       "      <th>Конец нагрева дугой</th>\n",
       "      <th>Активная мощность</th>\n",
       "      <th>Реактивная мощность</th>\n",
       "    </tr>\n",
       "    <tr>\n",
       "      <th>key</th>\n",
       "      <th></th>\n",
       "      <th></th>\n",
       "      <th></th>\n",
       "      <th></th>\n",
       "    </tr>\n",
       "  </thead>\n",
       "  <tbody>\n",
       "    <tr>\n",
       "      <th>1</th>\n",
       "      <td>2019-05-03 11:02:14</td>\n",
       "      <td>2019-05-03 11:06:02</td>\n",
       "      <td>0.976059</td>\n",
       "      <td>0.687084</td>\n",
       "    </tr>\n",
       "    <tr>\n",
       "      <th>1</th>\n",
       "      <td>2019-05-03 11:07:28</td>\n",
       "      <td>2019-05-03 11:10:33</td>\n",
       "      <td>0.805607</td>\n",
       "      <td>0.520285</td>\n",
       "    </tr>\n",
       "    <tr>\n",
       "      <th>1</th>\n",
       "      <td>2019-05-03 11:11:44</td>\n",
       "      <td>2019-05-03 11:14:36</td>\n",
       "      <td>0.744363</td>\n",
       "      <td>0.498805</td>\n",
       "    </tr>\n",
       "    <tr>\n",
       "      <th>1</th>\n",
       "      <td>2019-05-03 11:18:14</td>\n",
       "      <td>2019-05-03 11:24:19</td>\n",
       "      <td>1.659363</td>\n",
       "      <td>1.062669</td>\n",
       "    </tr>\n",
       "    <tr>\n",
       "      <th>1</th>\n",
       "      <td>2019-05-03 11:26:09</td>\n",
       "      <td>2019-05-03 11:28:37</td>\n",
       "      <td>0.692755</td>\n",
       "      <td>0.414397</td>\n",
       "    </tr>\n",
       "  </tbody>\n",
       "</table>\n",
       "</div>"
      ],
      "text/plain": [
       "    Начало нагрева дугой Конец нагрева дугой  Активная мощность  \\\n",
       "key                                                               \n",
       "1    2019-05-03 11:02:14 2019-05-03 11:06:02           0.976059   \n",
       "1    2019-05-03 11:07:28 2019-05-03 11:10:33           0.805607   \n",
       "1    2019-05-03 11:11:44 2019-05-03 11:14:36           0.744363   \n",
       "1    2019-05-03 11:18:14 2019-05-03 11:24:19           1.659363   \n",
       "1    2019-05-03 11:26:09 2019-05-03 11:28:37           0.692755   \n",
       "\n",
       "     Реактивная мощность  \n",
       "key                       \n",
       "1               0.687084  \n",
       "1               0.520285  \n",
       "1               0.498805  \n",
       "1               1.062669  \n",
       "1               0.414397  "
      ]
     },
     "execution_count": 15,
     "metadata": {},
     "output_type": "execute_result"
    },
    {
     "data": {
      "text/html": [
       "<div>\n",
       "<style scoped>\n",
       "    .dataframe tbody tr th:only-of-type {\n",
       "        vertical-align: middle;\n",
       "    }\n",
       "\n",
       "    .dataframe tbody tr th {\n",
       "        vertical-align: top;\n",
       "    }\n",
       "\n",
       "    .dataframe thead th {\n",
       "        text-align: right;\n",
       "    }\n",
       "</style>\n",
       "<table border=\"1\" class=\"dataframe\">\n",
       "  <thead>\n",
       "    <tr style=\"text-align: right;\">\n",
       "      <th></th>\n",
       "      <th>Bulk 1</th>\n",
       "      <th>Bulk 2</th>\n",
       "      <th>Bulk 3</th>\n",
       "      <th>Bulk 4</th>\n",
       "      <th>Bulk 5</th>\n",
       "      <th>Bulk 6</th>\n",
       "      <th>Bulk 7</th>\n",
       "      <th>Bulk 8</th>\n",
       "      <th>Bulk 9</th>\n",
       "      <th>Bulk 10</th>\n",
       "      <th>Bulk 11</th>\n",
       "      <th>Bulk 12</th>\n",
       "      <th>Bulk 13</th>\n",
       "      <th>Bulk 14</th>\n",
       "      <th>Bulk 15</th>\n",
       "    </tr>\n",
       "    <tr>\n",
       "      <th>key</th>\n",
       "      <th></th>\n",
       "      <th></th>\n",
       "      <th></th>\n",
       "      <th></th>\n",
       "      <th></th>\n",
       "      <th></th>\n",
       "      <th></th>\n",
       "      <th></th>\n",
       "      <th></th>\n",
       "      <th></th>\n",
       "      <th></th>\n",
       "      <th></th>\n",
       "      <th></th>\n",
       "      <th></th>\n",
       "      <th></th>\n",
       "    </tr>\n",
       "  </thead>\n",
       "  <tbody>\n",
       "    <tr>\n",
       "      <th>1</th>\n",
       "      <td>NaN</td>\n",
       "      <td>NaN</td>\n",
       "      <td>NaN</td>\n",
       "      <td>43.0</td>\n",
       "      <td>NaN</td>\n",
       "      <td>NaN</td>\n",
       "      <td>NaN</td>\n",
       "      <td>NaN</td>\n",
       "      <td>NaN</td>\n",
       "      <td>NaN</td>\n",
       "      <td>NaN</td>\n",
       "      <td>206.0</td>\n",
       "      <td>NaN</td>\n",
       "      <td>150.0</td>\n",
       "      <td>154.0</td>\n",
       "    </tr>\n",
       "  </tbody>\n",
       "</table>\n",
       "</div>"
      ],
      "text/plain": [
       "     Bulk 1  Bulk 2  Bulk 3  Bulk 4  Bulk 5  Bulk 6  Bulk 7  Bulk 8  Bulk 9  \\\n",
       "key                                                                           \n",
       "1       NaN     NaN     NaN    43.0     NaN     NaN     NaN     NaN     NaN   \n",
       "\n",
       "     Bulk 10  Bulk 11  Bulk 12  Bulk 13  Bulk 14  Bulk 15  \n",
       "key                                                        \n",
       "1        NaN      NaN    206.0      NaN    150.0    154.0  "
      ]
     },
     "execution_count": 15,
     "metadata": {},
     "output_type": "execute_result"
    },
    {
     "data": {
      "text/html": [
       "<div>\n",
       "<style scoped>\n",
       "    .dataframe tbody tr th:only-of-type {\n",
       "        vertical-align: middle;\n",
       "    }\n",
       "\n",
       "    .dataframe tbody tr th {\n",
       "        vertical-align: top;\n",
       "    }\n",
       "\n",
       "    .dataframe thead th {\n",
       "        text-align: right;\n",
       "    }\n",
       "</style>\n",
       "<table border=\"1\" class=\"dataframe\">\n",
       "  <thead>\n",
       "    <tr style=\"text-align: right;\">\n",
       "      <th></th>\n",
       "      <th>Bulk 1</th>\n",
       "      <th>Bulk 2</th>\n",
       "      <th>Bulk 3</th>\n",
       "      <th>Bulk 4</th>\n",
       "      <th>Bulk 5</th>\n",
       "      <th>Bulk 6</th>\n",
       "      <th>Bulk 7</th>\n",
       "      <th>Bulk 8</th>\n",
       "      <th>Bulk 9</th>\n",
       "      <th>Bulk 10</th>\n",
       "      <th>Bulk 11</th>\n",
       "      <th>Bulk 12</th>\n",
       "      <th>Bulk 13</th>\n",
       "      <th>Bulk 14</th>\n",
       "      <th>Bulk 15</th>\n",
       "    </tr>\n",
       "    <tr>\n",
       "      <th>key</th>\n",
       "      <th></th>\n",
       "      <th></th>\n",
       "      <th></th>\n",
       "      <th></th>\n",
       "      <th></th>\n",
       "      <th></th>\n",
       "      <th></th>\n",
       "      <th></th>\n",
       "      <th></th>\n",
       "      <th></th>\n",
       "      <th></th>\n",
       "      <th></th>\n",
       "      <th></th>\n",
       "      <th></th>\n",
       "      <th></th>\n",
       "    </tr>\n",
       "  </thead>\n",
       "  <tbody>\n",
       "    <tr>\n",
       "      <th>1</th>\n",
       "      <td>NaT</td>\n",
       "      <td>NaT</td>\n",
       "      <td>NaT</td>\n",
       "      <td>2019-05-03 11:21:30</td>\n",
       "      <td>NaT</td>\n",
       "      <td>NaT</td>\n",
       "      <td>NaT</td>\n",
       "      <td>NaT</td>\n",
       "      <td>NaT</td>\n",
       "      <td>NaT</td>\n",
       "      <td>NaT</td>\n",
       "      <td>2019-05-03 11:03:52</td>\n",
       "      <td>NaT</td>\n",
       "      <td>2019-05-03 11:03:52</td>\n",
       "      <td>2019-05-03 11:03:52</td>\n",
       "    </tr>\n",
       "  </tbody>\n",
       "</table>\n",
       "</div>"
      ],
      "text/plain": [
       "    Bulk 1 Bulk 2 Bulk 3              Bulk 4 Bulk 5 Bulk 6 Bulk 7 Bulk 8  \\\n",
       "key                                                                        \n",
       "1      NaT    NaT    NaT 2019-05-03 11:21:30    NaT    NaT    NaT    NaT   \n",
       "\n",
       "    Bulk 9 Bulk 10 Bulk 11             Bulk 12 Bulk 13             Bulk 14  \\\n",
       "key                                                                          \n",
       "1      NaT     NaT     NaT 2019-05-03 11:03:52     NaT 2019-05-03 11:03:52   \n",
       "\n",
       "                Bulk 15  \n",
       "key                      \n",
       "1   2019-05-03 11:03:52  "
      ]
     },
     "execution_count": 15,
     "metadata": {},
     "output_type": "execute_result"
    },
    {
     "data": {
      "text/html": [
       "<div>\n",
       "<style scoped>\n",
       "    .dataframe tbody tr th:only-of-type {\n",
       "        vertical-align: middle;\n",
       "    }\n",
       "\n",
       "    .dataframe tbody tr th {\n",
       "        vertical-align: top;\n",
       "    }\n",
       "\n",
       "    .dataframe thead th {\n",
       "        text-align: right;\n",
       "    }\n",
       "</style>\n",
       "<table border=\"1\" class=\"dataframe\">\n",
       "  <thead>\n",
       "    <tr style=\"text-align: right;\">\n",
       "      <th></th>\n",
       "      <th>Газ 1</th>\n",
       "    </tr>\n",
       "    <tr>\n",
       "      <th>key</th>\n",
       "      <th></th>\n",
       "    </tr>\n",
       "  </thead>\n",
       "  <tbody>\n",
       "    <tr>\n",
       "      <th>1</th>\n",
       "      <td>29.749986</td>\n",
       "    </tr>\n",
       "  </tbody>\n",
       "</table>\n",
       "</div>"
      ],
      "text/plain": [
       "         Газ 1\n",
       "key           \n",
       "1    29.749986"
      ]
     },
     "execution_count": 15,
     "metadata": {},
     "output_type": "execute_result"
    },
    {
     "data": {
      "text/html": [
       "<div>\n",
       "<style scoped>\n",
       "    .dataframe tbody tr th:only-of-type {\n",
       "        vertical-align: middle;\n",
       "    }\n",
       "\n",
       "    .dataframe tbody tr th {\n",
       "        vertical-align: top;\n",
       "    }\n",
       "\n",
       "    .dataframe thead th {\n",
       "        text-align: right;\n",
       "    }\n",
       "</style>\n",
       "<table border=\"1\" class=\"dataframe\">\n",
       "  <thead>\n",
       "    <tr style=\"text-align: right;\">\n",
       "      <th></th>\n",
       "      <th>Время замера</th>\n",
       "      <th>Температура</th>\n",
       "    </tr>\n",
       "    <tr>\n",
       "      <th>key</th>\n",
       "      <th></th>\n",
       "      <th></th>\n",
       "    </tr>\n",
       "  </thead>\n",
       "  <tbody>\n",
       "    <tr>\n",
       "      <th>1</th>\n",
       "      <td>2019-05-03 11:16:18</td>\n",
       "      <td>1571.0</td>\n",
       "    </tr>\n",
       "    <tr>\n",
       "      <th>1</th>\n",
       "      <td>2019-05-03 11:25:53</td>\n",
       "      <td>1604.0</td>\n",
       "    </tr>\n",
       "    <tr>\n",
       "      <th>1</th>\n",
       "      <td>2019-05-03 11:29:11</td>\n",
       "      <td>1618.0</td>\n",
       "    </tr>\n",
       "    <tr>\n",
       "      <th>1</th>\n",
       "      <td>2019-05-03 11:30:01</td>\n",
       "      <td>1601.0</td>\n",
       "    </tr>\n",
       "    <tr>\n",
       "      <th>1</th>\n",
       "      <td>2019-05-03 11:30:39</td>\n",
       "      <td>1613.0</td>\n",
       "    </tr>\n",
       "  </tbody>\n",
       "</table>\n",
       "</div>"
      ],
      "text/plain": [
       "           Время замера  Температура\n",
       "key                                 \n",
       "1   2019-05-03 11:16:18       1571.0\n",
       "1   2019-05-03 11:25:53       1604.0\n",
       "1   2019-05-03 11:29:11       1618.0\n",
       "1   2019-05-03 11:30:01       1601.0\n",
       "1   2019-05-03 11:30:39       1613.0"
      ]
     },
     "execution_count": 15,
     "metadata": {},
     "output_type": "execute_result"
    },
    {
     "data": {
      "text/html": [
       "<div>\n",
       "<style scoped>\n",
       "    .dataframe tbody tr th:only-of-type {\n",
       "        vertical-align: middle;\n",
       "    }\n",
       "\n",
       "    .dataframe tbody tr th {\n",
       "        vertical-align: top;\n",
       "    }\n",
       "\n",
       "    .dataframe thead th {\n",
       "        text-align: right;\n",
       "    }\n",
       "</style>\n",
       "<table border=\"1\" class=\"dataframe\">\n",
       "  <thead>\n",
       "    <tr style=\"text-align: right;\">\n",
       "      <th></th>\n",
       "      <th>Wire 1</th>\n",
       "      <th>Wire 2</th>\n",
       "      <th>Wire 3</th>\n",
       "      <th>Wire 4</th>\n",
       "      <th>Wire 5</th>\n",
       "      <th>Wire 6</th>\n",
       "      <th>Wire 7</th>\n",
       "      <th>Wire 8</th>\n",
       "      <th>Wire 9</th>\n",
       "    </tr>\n",
       "    <tr>\n",
       "      <th>key</th>\n",
       "      <th></th>\n",
       "      <th></th>\n",
       "      <th></th>\n",
       "      <th></th>\n",
       "      <th></th>\n",
       "      <th></th>\n",
       "      <th></th>\n",
       "      <th></th>\n",
       "      <th></th>\n",
       "    </tr>\n",
       "  </thead>\n",
       "  <tbody>\n",
       "    <tr>\n",
       "      <th>1</th>\n",
       "      <td>60.059998</td>\n",
       "      <td>NaN</td>\n",
       "      <td>NaN</td>\n",
       "      <td>NaN</td>\n",
       "      <td>NaN</td>\n",
       "      <td>NaN</td>\n",
       "      <td>NaN</td>\n",
       "      <td>NaN</td>\n",
       "      <td>NaN</td>\n",
       "    </tr>\n",
       "  </tbody>\n",
       "</table>\n",
       "</div>"
      ],
      "text/plain": [
       "        Wire 1  Wire 2  Wire 3  Wire 4  Wire 5  Wire 6  Wire 7  Wire 8  Wire 9\n",
       "key                                                                           \n",
       "1    60.059998     NaN     NaN     NaN     NaN     NaN     NaN     NaN     NaN"
      ]
     },
     "execution_count": 15,
     "metadata": {},
     "output_type": "execute_result"
    },
    {
     "data": {
      "text/html": [
       "<div>\n",
       "<style scoped>\n",
       "    .dataframe tbody tr th:only-of-type {\n",
       "        vertical-align: middle;\n",
       "    }\n",
       "\n",
       "    .dataframe tbody tr th {\n",
       "        vertical-align: top;\n",
       "    }\n",
       "\n",
       "    .dataframe thead th {\n",
       "        text-align: right;\n",
       "    }\n",
       "</style>\n",
       "<table border=\"1\" class=\"dataframe\">\n",
       "  <thead>\n",
       "    <tr style=\"text-align: right;\">\n",
       "      <th></th>\n",
       "      <th>Wire 1</th>\n",
       "      <th>Wire 2</th>\n",
       "      <th>Wire 3</th>\n",
       "      <th>Wire 4</th>\n",
       "      <th>Wire 5</th>\n",
       "      <th>Wire 6</th>\n",
       "      <th>Wire 7</th>\n",
       "      <th>Wire 8</th>\n",
       "      <th>Wire 9</th>\n",
       "    </tr>\n",
       "    <tr>\n",
       "      <th>key</th>\n",
       "      <th></th>\n",
       "      <th></th>\n",
       "      <th></th>\n",
       "      <th></th>\n",
       "      <th></th>\n",
       "      <th></th>\n",
       "      <th></th>\n",
       "      <th></th>\n",
       "      <th></th>\n",
       "    </tr>\n",
       "  </thead>\n",
       "  <tbody>\n",
       "    <tr>\n",
       "      <th>1</th>\n",
       "      <td>2019-05-03 11:11:41</td>\n",
       "      <td>NaT</td>\n",
       "      <td>NaT</td>\n",
       "      <td>NaT</td>\n",
       "      <td>NaT</td>\n",
       "      <td>NaT</td>\n",
       "      <td>NaT</td>\n",
       "      <td>NaT</td>\n",
       "      <td>NaT</td>\n",
       "    </tr>\n",
       "  </tbody>\n",
       "</table>\n",
       "</div>"
      ],
      "text/plain": [
       "                 Wire 1 Wire 2 Wire 3 Wire 4 Wire 5 Wire 6 Wire 7 Wire 8  \\\n",
       "key                                                                        \n",
       "1   2019-05-03 11:11:41    NaT    NaT    NaT    NaT    NaT    NaT    NaT   \n",
       "\n",
       "    Wire 9  \n",
       "key         \n",
       "1      NaT  "
      ]
     },
     "execution_count": 15,
     "metadata": {},
     "output_type": "execute_result"
    }
   ],
   "source": [
    "for df in data:\n",
    "    df[df.index == 1]"
   ]
  },
  {
   "cell_type": "markdown",
   "id": "1a55e8b4",
   "metadata": {},
   "source": [
    "<a id='3'></a>\n",
    "## Предварительные выводы\n",
    "\n",
    "На обработку одной партии уходит в среднем около получаса, в каждую партию добавляют модифицирующие компоненты, при этом переодически включаются нагревательные электроды и измеряется температура расплава а ходе процесса. \n",
    "\n",
    "Заказчику необходимо предсказать температуру расплава для оптимизации электрозатрат. Предлагаю следующий план проекта.\n",
    "\n",
    "## План работы\n",
    "\n",
    "1) __Очистка данных от аномалий.__ Как показал предварительный анализ некоторые партии обрабатывались менее 1 минуты, скорее всего в данных есть ошибка и такие партии при построении модели должны быть удалены из выборки\n",
    "\n",
    "\n",
    "2) __Подготовка признаков__. Очевидно темература расплава зависит от мощности подаваемой на стержни, времени нагрева, наличия добавок и начальной температуры, поэтому модель должна соответствовать функциональной зависимости \n",
    "\n",
    "$T_{final} = f(T_{initial}, C_{supplements}, P_{rods}, \\Delta t)$\n",
    "\n",
    "Предлагаю составить следуюзий вектор признаков $ \\overline{x} = \\overline{x}(T_{initial}, \\overline{W}, \\overline{B},V_{gas} , t_{rw}, t_{rs}, P_r)$\n",
    ", где $T_{initial}$ - начальная температура, \n",
    "\n",
    "$\\overline{W}$, $\\overline{B}$ добавки сыпучих компонет и проволок, \n",
    "\n",
    "$t_{rw}$ - время работы электродов, $t_{rs}$ - время простоя электродов, \n",
    "\n",
    "$P_r $- средняя мощность стержней. \n",
    "\n",
    "Каждый вектор ставится в соответствие обработке одной партии, при этом время введения добавок предлагаю не учитывать. Из термодинамических соображений следует, что финальная температура зависит от конечного состояния системы, при этом путь к конечному состоянию значения не имеет.\n",
    "\n",
    "3) __Подбор модели__ построить модель c максимальной точностью. Предлагаю попробовать следующие: линейная регрессия, случайный лес, градиентный бустинг, ff нейросеть. Предварительно на линейной регресии оценить значимость признаков.\n"
   ]
  },
  {
   "cell_type": "markdown",
   "id": "1023161d",
   "metadata": {},
   "source": [
    "<a id='4'></a>\n",
    "## Агрегация данных"
   ]
  },
  {
   "cell_type": "markdown",
   "id": "48133306",
   "metadata": {},
   "source": [
    "Уберем пропуски из данных с измерением температуры"
   ]
  },
  {
   "cell_type": "code",
   "execution_count": 16,
   "id": "a641c508",
   "metadata": {},
   "outputs": [],
   "source": [
    "df_temp.dropna(inplace = True)"
   ]
  },
  {
   "cell_type": "code",
   "execution_count": 17,
   "id": "129a06eb",
   "metadata": {},
   "outputs": [
    {
     "data": {
      "text/plain": [
       "Время замера    0\n",
       "Температура     0\n",
       "dtype: int64"
      ]
     },
     "execution_count": 17,
     "metadata": {},
     "output_type": "execute_result"
    }
   ],
   "source": [
    "df_temp.isnull().sum()"
   ]
  },
  {
   "cell_type": "markdown",
   "id": "632862de",
   "metadata": {},
   "source": [
    "Для __партии 2__ попробуем создать признаки из данных о температуре и мощности стержней. "
   ]
  },
  {
   "cell_type": "code",
   "execution_count": 18,
   "id": "4c9f6949",
   "metadata": {},
   "outputs": [
    {
     "data": {
      "text/html": [
       "<div>\n",
       "<style scoped>\n",
       "    .dataframe tbody tr th:only-of-type {\n",
       "        vertical-align: middle;\n",
       "    }\n",
       "\n",
       "    .dataframe tbody tr th {\n",
       "        vertical-align: top;\n",
       "    }\n",
       "\n",
       "    .dataframe thead th {\n",
       "        text-align: right;\n",
       "    }\n",
       "</style>\n",
       "<table border=\"1\" class=\"dataframe\">\n",
       "  <thead>\n",
       "    <tr style=\"text-align: right;\">\n",
       "      <th></th>\n",
       "      <th>Начало нагрева дугой</th>\n",
       "      <th>Конец нагрева дугой</th>\n",
       "      <th>Активная мощность</th>\n",
       "      <th>Реактивная мощность</th>\n",
       "    </tr>\n",
       "    <tr>\n",
       "      <th>key</th>\n",
       "      <th></th>\n",
       "      <th></th>\n",
       "      <th></th>\n",
       "      <th></th>\n",
       "    </tr>\n",
       "  </thead>\n",
       "  <tbody>\n",
       "    <tr>\n",
       "      <th>2</th>\n",
       "      <td>2019-05-03 11:34:14</td>\n",
       "      <td>2019-05-03 11:36:31</td>\n",
       "      <td>0.438063</td>\n",
       "      <td>0.283043</td>\n",
       "    </tr>\n",
       "    <tr>\n",
       "      <th>2</th>\n",
       "      <td>2019-05-03 11:38:50</td>\n",
       "      <td>2019-05-03 11:44:28</td>\n",
       "      <td>1.296415</td>\n",
       "      <td>0.892914</td>\n",
       "    </tr>\n",
       "    <tr>\n",
       "      <th>2</th>\n",
       "      <td>2019-05-03 11:46:19</td>\n",
       "      <td>2019-05-03 11:48:25</td>\n",
       "      <td>0.490377</td>\n",
       "      <td>0.305281</td>\n",
       "    </tr>\n",
       "    <tr>\n",
       "      <th>2</th>\n",
       "      <td>2019-05-03 11:49:48</td>\n",
       "      <td>2019-05-03 11:53:18</td>\n",
       "      <td>0.827743</td>\n",
       "      <td>0.516874</td>\n",
       "    </tr>\n",
       "  </tbody>\n",
       "</table>\n",
       "</div>"
      ],
      "text/plain": [
       "    Начало нагрева дугой Конец нагрева дугой  Активная мощность  \\\n",
       "key                                                               \n",
       "2    2019-05-03 11:34:14 2019-05-03 11:36:31           0.438063   \n",
       "2    2019-05-03 11:38:50 2019-05-03 11:44:28           1.296415   \n",
       "2    2019-05-03 11:46:19 2019-05-03 11:48:25           0.490377   \n",
       "2    2019-05-03 11:49:48 2019-05-03 11:53:18           0.827743   \n",
       "\n",
       "     Реактивная мощность  \n",
       "key                       \n",
       "2               0.283043  \n",
       "2               0.892914  \n",
       "2               0.305281  \n",
       "2               0.516874  "
      ]
     },
     "execution_count": 18,
     "metadata": {},
     "output_type": "execute_result"
    }
   ],
   "source": [
    "temp_df = df_arc[df_arc.index == 2]\n",
    "temp_df"
   ]
  },
  {
   "cell_type": "code",
   "execution_count": 19,
   "id": "2182fd26",
   "metadata": {},
   "outputs": [
    {
     "data": {
      "text/html": [
       "<div>\n",
       "<style scoped>\n",
       "    .dataframe tbody tr th:only-of-type {\n",
       "        vertical-align: middle;\n",
       "    }\n",
       "\n",
       "    .dataframe tbody tr th {\n",
       "        vertical-align: top;\n",
       "    }\n",
       "\n",
       "    .dataframe thead th {\n",
       "        text-align: right;\n",
       "    }\n",
       "</style>\n",
       "<table border=\"1\" class=\"dataframe\">\n",
       "  <thead>\n",
       "    <tr style=\"text-align: right;\">\n",
       "      <th></th>\n",
       "      <th>Время замера</th>\n",
       "      <th>Температура</th>\n",
       "    </tr>\n",
       "    <tr>\n",
       "      <th>key</th>\n",
       "      <th></th>\n",
       "      <th></th>\n",
       "    </tr>\n",
       "  </thead>\n",
       "  <tbody>\n",
       "    <tr>\n",
       "      <th>2</th>\n",
       "      <td>2019-05-03 11:37:27</td>\n",
       "      <td>1581.0</td>\n",
       "    </tr>\n",
       "    <tr>\n",
       "      <th>2</th>\n",
       "      <td>2019-05-03 11:38:00</td>\n",
       "      <td>1577.0</td>\n",
       "    </tr>\n",
       "    <tr>\n",
       "      <th>2</th>\n",
       "      <td>2019-05-03 11:49:38</td>\n",
       "      <td>1589.0</td>\n",
       "    </tr>\n",
       "    <tr>\n",
       "      <th>2</th>\n",
       "      <td>2019-05-03 11:55:50</td>\n",
       "      <td>1604.0</td>\n",
       "    </tr>\n",
       "    <tr>\n",
       "      <th>2</th>\n",
       "      <td>2019-05-03 11:58:24</td>\n",
       "      <td>1608.0</td>\n",
       "    </tr>\n",
       "    <tr>\n",
       "      <th>2</th>\n",
       "      <td>2019-05-03 11:59:12</td>\n",
       "      <td>1602.0</td>\n",
       "    </tr>\n",
       "  </tbody>\n",
       "</table>\n",
       "</div>"
      ],
      "text/plain": [
       "           Время замера  Температура\n",
       "key                                 \n",
       "2   2019-05-03 11:37:27       1581.0\n",
       "2   2019-05-03 11:38:00       1577.0\n",
       "2   2019-05-03 11:49:38       1589.0\n",
       "2   2019-05-03 11:55:50       1604.0\n",
       "2   2019-05-03 11:58:24       1608.0\n",
       "2   2019-05-03 11:59:12       1602.0"
      ]
     },
     "execution_count": 19,
     "metadata": {},
     "output_type": "execute_result"
    }
   ],
   "source": [
    "df_temp[df_temp.index == 2]"
   ]
  },
  {
   "cell_type": "markdown",
   "id": "b83956d2",
   "metadata": {},
   "source": [
    "Найдем время первого замера температуры __t_i__  и время последнего замера __t_f__"
   ]
  },
  {
   "cell_type": "code",
   "execution_count": 20,
   "id": "d73773c8",
   "metadata": {
    "scrolled": true
   },
   "outputs": [
    {
     "data": {
      "text/plain": [
       "Timestamp('2019-05-03 11:37:27')"
      ]
     },
     "execution_count": 20,
     "metadata": {},
     "output_type": "execute_result"
    }
   ],
   "source": [
    "t_i = df_temp[df_temp.index == 2]['Время замера'].min()\n",
    "t_i"
   ]
  },
  {
   "cell_type": "code",
   "execution_count": 21,
   "id": "ce1f8713",
   "metadata": {},
   "outputs": [
    {
     "data": {
      "text/plain": [
       "Timestamp('2019-05-03 11:59:12')"
      ]
     },
     "execution_count": 21,
     "metadata": {},
     "output_type": "execute_result"
    }
   ],
   "source": [
    "t_f = df_temp[df_temp.index == 2]['Время замера'].max()\n",
    "t_f"
   ]
  },
  {
   "cell_type": "markdown",
   "id": "40e7cd93",
   "metadata": {},
   "source": [
    "Оставим данные о мощности стержней только для временного промежутка (__t_i__, __t_f__)"
   ]
  },
  {
   "cell_type": "code",
   "execution_count": 22,
   "id": "705f814e",
   "metadata": {},
   "outputs": [
    {
     "data": {
      "text/html": [
       "<div>\n",
       "<style scoped>\n",
       "    .dataframe tbody tr th:only-of-type {\n",
       "        vertical-align: middle;\n",
       "    }\n",
       "\n",
       "    .dataframe tbody tr th {\n",
       "        vertical-align: top;\n",
       "    }\n",
       "\n",
       "    .dataframe thead th {\n",
       "        text-align: right;\n",
       "    }\n",
       "</style>\n",
       "<table border=\"1\" class=\"dataframe\">\n",
       "  <thead>\n",
       "    <tr style=\"text-align: right;\">\n",
       "      <th></th>\n",
       "      <th>Начало нагрева дугой</th>\n",
       "      <th>Конец нагрева дугой</th>\n",
       "      <th>Активная мощность</th>\n",
       "      <th>Реактивная мощность</th>\n",
       "    </tr>\n",
       "    <tr>\n",
       "      <th>key</th>\n",
       "      <th></th>\n",
       "      <th></th>\n",
       "      <th></th>\n",
       "      <th></th>\n",
       "    </tr>\n",
       "  </thead>\n",
       "  <tbody>\n",
       "    <tr>\n",
       "      <th>2</th>\n",
       "      <td>2019-05-03 11:38:50</td>\n",
       "      <td>2019-05-03 11:44:28</td>\n",
       "      <td>1.296415</td>\n",
       "      <td>0.892914</td>\n",
       "    </tr>\n",
       "    <tr>\n",
       "      <th>2</th>\n",
       "      <td>2019-05-03 11:46:19</td>\n",
       "      <td>2019-05-03 11:48:25</td>\n",
       "      <td>0.490377</td>\n",
       "      <td>0.305281</td>\n",
       "    </tr>\n",
       "    <tr>\n",
       "      <th>2</th>\n",
       "      <td>2019-05-03 11:49:48</td>\n",
       "      <td>2019-05-03 11:53:18</td>\n",
       "      <td>0.827743</td>\n",
       "      <td>0.516874</td>\n",
       "    </tr>\n",
       "  </tbody>\n",
       "</table>\n",
       "</div>"
      ],
      "text/plain": [
       "    Начало нагрева дугой Конец нагрева дугой  Активная мощность  \\\n",
       "key                                                               \n",
       "2    2019-05-03 11:38:50 2019-05-03 11:44:28           1.296415   \n",
       "2    2019-05-03 11:46:19 2019-05-03 11:48:25           0.490377   \n",
       "2    2019-05-03 11:49:48 2019-05-03 11:53:18           0.827743   \n",
       "\n",
       "     Реактивная мощность  \n",
       "key                       \n",
       "2               0.892914  \n",
       "2               0.305281  \n",
       "2               0.516874  "
      ]
     },
     "execution_count": 22,
     "metadata": {},
     "output_type": "execute_result"
    }
   ],
   "source": [
    "temp_df = temp_df[temp_df['Начало нагрева дугой'] >= t_i]\n",
    "temp_df = temp_df[temp_df['Конец нагрева дугой'] <= t_f]\n",
    "temp_df"
   ]
  },
  {
   "cell_type": "markdown",
   "id": "a566a805",
   "metadata": {},
   "source": [
    "Вычислим время работы стержней на каждом включении, а так же высислим произведение мощности стержней на время работы, назовем последние величины активной и реактивной работой"
   ]
  },
  {
   "cell_type": "code",
   "execution_count": 23,
   "id": "d1052afd",
   "metadata": {},
   "outputs": [
    {
     "data": {
      "text/html": [
       "<div>\n",
       "<style scoped>\n",
       "    .dataframe tbody tr th:only-of-type {\n",
       "        vertical-align: middle;\n",
       "    }\n",
       "\n",
       "    .dataframe tbody tr th {\n",
       "        vertical-align: top;\n",
       "    }\n",
       "\n",
       "    .dataframe thead th {\n",
       "        text-align: right;\n",
       "    }\n",
       "</style>\n",
       "<table border=\"1\" class=\"dataframe\">\n",
       "  <thead>\n",
       "    <tr style=\"text-align: right;\">\n",
       "      <th></th>\n",
       "      <th>Начало нагрева дугой</th>\n",
       "      <th>Конец нагрева дугой</th>\n",
       "      <th>Активная мощность</th>\n",
       "      <th>Реактивная мощность</th>\n",
       "      <th>Время работы</th>\n",
       "    </tr>\n",
       "    <tr>\n",
       "      <th>key</th>\n",
       "      <th></th>\n",
       "      <th></th>\n",
       "      <th></th>\n",
       "      <th></th>\n",
       "      <th></th>\n",
       "    </tr>\n",
       "  </thead>\n",
       "  <tbody>\n",
       "    <tr>\n",
       "      <th>2</th>\n",
       "      <td>2019-05-03 11:38:50</td>\n",
       "      <td>2019-05-03 11:44:28</td>\n",
       "      <td>1.296415</td>\n",
       "      <td>0.892914</td>\n",
       "      <td>5.633333</td>\n",
       "    </tr>\n",
       "    <tr>\n",
       "      <th>2</th>\n",
       "      <td>2019-05-03 11:46:19</td>\n",
       "      <td>2019-05-03 11:48:25</td>\n",
       "      <td>0.490377</td>\n",
       "      <td>0.305281</td>\n",
       "      <td>2.100000</td>\n",
       "    </tr>\n",
       "    <tr>\n",
       "      <th>2</th>\n",
       "      <td>2019-05-03 11:49:48</td>\n",
       "      <td>2019-05-03 11:53:18</td>\n",
       "      <td>0.827743</td>\n",
       "      <td>0.516874</td>\n",
       "      <td>3.500000</td>\n",
       "    </tr>\n",
       "  </tbody>\n",
       "</table>\n",
       "</div>"
      ],
      "text/plain": [
       "    Начало нагрева дугой Конец нагрева дугой  Активная мощность  \\\n",
       "key                                                               \n",
       "2    2019-05-03 11:38:50 2019-05-03 11:44:28           1.296415   \n",
       "2    2019-05-03 11:46:19 2019-05-03 11:48:25           0.490377   \n",
       "2    2019-05-03 11:49:48 2019-05-03 11:53:18           0.827743   \n",
       "\n",
       "     Реактивная мощность  Время работы  \n",
       "key                                     \n",
       "2               0.892914      5.633333  \n",
       "2               0.305281      2.100000  \n",
       "2               0.516874      3.500000  "
      ]
     },
     "execution_count": 23,
     "metadata": {},
     "output_type": "execute_result"
    }
   ],
   "source": [
    "temp_df['Время работы'] = (temp_df['Конец нагрева дугой'] - temp_df['Начало нагрева дугой']).apply(lambda t: t.total_seconds()/60)\n",
    "temp_df"
   ]
  },
  {
   "cell_type": "code",
   "execution_count": 24,
   "id": "d94946fe",
   "metadata": {},
   "outputs": [
    {
     "data": {
      "text/html": [
       "<div>\n",
       "<style scoped>\n",
       "    .dataframe tbody tr th:only-of-type {\n",
       "        vertical-align: middle;\n",
       "    }\n",
       "\n",
       "    .dataframe tbody tr th {\n",
       "        vertical-align: top;\n",
       "    }\n",
       "\n",
       "    .dataframe thead th {\n",
       "        text-align: right;\n",
       "    }\n",
       "</style>\n",
       "<table border=\"1\" class=\"dataframe\">\n",
       "  <thead>\n",
       "    <tr style=\"text-align: right;\">\n",
       "      <th></th>\n",
       "      <th>Начало нагрева дугой</th>\n",
       "      <th>Конец нагрева дугой</th>\n",
       "      <th>Активная мощность</th>\n",
       "      <th>Реактивная мощность</th>\n",
       "      <th>Время работы</th>\n",
       "      <th>Активная работа</th>\n",
       "      <th>Реактивная работа</th>\n",
       "    </tr>\n",
       "    <tr>\n",
       "      <th>key</th>\n",
       "      <th></th>\n",
       "      <th></th>\n",
       "      <th></th>\n",
       "      <th></th>\n",
       "      <th></th>\n",
       "      <th></th>\n",
       "      <th></th>\n",
       "    </tr>\n",
       "  </thead>\n",
       "  <tbody>\n",
       "    <tr>\n",
       "      <th>2</th>\n",
       "      <td>2019-05-03 11:38:50</td>\n",
       "      <td>2019-05-03 11:44:28</td>\n",
       "      <td>1.296415</td>\n",
       "      <td>0.892914</td>\n",
       "      <td>5.633333</td>\n",
       "      <td>7.303138</td>\n",
       "      <td>5.030080</td>\n",
       "    </tr>\n",
       "    <tr>\n",
       "      <th>2</th>\n",
       "      <td>2019-05-03 11:46:19</td>\n",
       "      <td>2019-05-03 11:48:25</td>\n",
       "      <td>0.490377</td>\n",
       "      <td>0.305281</td>\n",
       "      <td>2.100000</td>\n",
       "      <td>1.029791</td>\n",
       "      <td>0.641090</td>\n",
       "    </tr>\n",
       "    <tr>\n",
       "      <th>2</th>\n",
       "      <td>2019-05-03 11:49:48</td>\n",
       "      <td>2019-05-03 11:53:18</td>\n",
       "      <td>0.827743</td>\n",
       "      <td>0.516874</td>\n",
       "      <td>3.500000</td>\n",
       "      <td>2.897101</td>\n",
       "      <td>1.809058</td>\n",
       "    </tr>\n",
       "  </tbody>\n",
       "</table>\n",
       "</div>"
      ],
      "text/plain": [
       "    Начало нагрева дугой Конец нагрева дугой  Активная мощность  \\\n",
       "key                                                               \n",
       "2    2019-05-03 11:38:50 2019-05-03 11:44:28           1.296415   \n",
       "2    2019-05-03 11:46:19 2019-05-03 11:48:25           0.490377   \n",
       "2    2019-05-03 11:49:48 2019-05-03 11:53:18           0.827743   \n",
       "\n",
       "     Реактивная мощность  Время работы  Активная работа  Реактивная работа  \n",
       "key                                                                         \n",
       "2               0.892914      5.633333         7.303138           5.030080  \n",
       "2               0.305281      2.100000         1.029791           0.641090  \n",
       "2               0.516874      3.500000         2.897101           1.809058  "
      ]
     },
     "execution_count": 24,
     "metadata": {},
     "output_type": "execute_result"
    }
   ],
   "source": [
    "temp_df['Активная работа'] = temp_df['Активная мощность'] * temp_df['Время работы'] \n",
    "temp_df['Реактивная работа'] = temp_df['Реактивная мощность'] * temp_df['Время работы']\n",
    "temp_df"
   ]
  },
  {
   "cell_type": "markdown",
   "id": "c57ee76f",
   "metadata": {},
   "source": [
    "поделив суммарное время на суммарную работу получим среднюю мощность стержней: __average_ap__ и __average_rp__"
   ]
  },
  {
   "cell_type": "code",
   "execution_count": 25,
   "id": "f534f219",
   "metadata": {},
   "outputs": [
    {
     "data": {
      "text/plain": [
       "0.9997059234287833"
      ]
     },
     "execution_count": 25,
     "metadata": {},
     "output_type": "execute_result"
    }
   ],
   "source": [
    "average_ap = temp_df['Активная работа'].sum() / temp_df['Время работы'].sum() \n",
    "average_ap"
   ]
  },
  {
   "cell_type": "code",
   "execution_count": 26,
   "id": "e53733ac",
   "metadata": {},
   "outputs": [
    {
     "data": {
      "text/plain": [
       "0.6658957526988131"
      ]
     },
     "execution_count": 26,
     "metadata": {},
     "output_type": "execute_result"
    }
   ],
   "source": [
    "average_rp = temp_df['Реактивная работа'].sum() / temp_df['Время работы'].sum() \n",
    "average_rp"
   ]
  },
  {
   "cell_type": "markdown",
   "id": "934ed66b",
   "metadata": {},
   "source": [
    "посчитаем отдельно суммарное время нагрева __time_rw__"
   ]
  },
  {
   "cell_type": "code",
   "execution_count": 27,
   "id": "6a9bb56d",
   "metadata": {},
   "outputs": [
    {
     "data": {
      "text/plain": [
       "11.233333333333334"
      ]
     },
     "execution_count": 27,
     "metadata": {},
     "output_type": "execute_result"
    }
   ],
   "source": [
    "time_rw = temp_df['Время работы'].sum() \n",
    "time_rw"
   ]
  },
  {
   "cell_type": "markdown",
   "id": "f974be60",
   "metadata": {},
   "source": [
    "и время в течение которого стержни были выключены __time_rs__. Это время очевидно важно - ему пропорционален уход тепла из расплава в окружающую среду"
   ]
  },
  {
   "cell_type": "code",
   "execution_count": 28,
   "id": "0b8ff9db",
   "metadata": {},
   "outputs": [
    {
     "data": {
      "text/plain": [
       "10.516666666666666"
      ]
     },
     "execution_count": 28,
     "metadata": {},
     "output_type": "execute_result"
    }
   ],
   "source": [
    "time_rs = (t_f - t_i ).total_seconds()/60 - time_rw\n",
    "time_rs"
   ]
  },
  {
   "cell_type": "code",
   "execution_count": 29,
   "id": "cca77d90",
   "metadata": {},
   "outputs": [
    {
     "data": {
      "text/plain": [
       "1581.0"
      ]
     },
     "execution_count": 29,
     "metadata": {},
     "output_type": "execute_result"
    }
   ],
   "source": [
    "initial_temp = df_temp[(df_temp['Время замера'] == t_i) & (df_temp.index == 2)]['Температура'].values[0]\n",
    "initial_temp"
   ]
  },
  {
   "cell_type": "code",
   "execution_count": 30,
   "id": "f73ea425",
   "metadata": {},
   "outputs": [],
   "source": [
    "keys = set(df_arc.index.unique()).intersection(set(df_temp.index.unique()))"
   ]
  },
  {
   "cell_type": "code",
   "execution_count": 31,
   "id": "c62779e7",
   "metadata": {},
   "outputs": [
    {
     "data": {
      "text/plain": [
       "3214"
      ]
     },
     "execution_count": 31,
     "metadata": {},
     "output_type": "execute_result"
    }
   ],
   "source": [
    "len(keys)"
   ]
  },
  {
   "cell_type": "markdown",
   "id": "d40ee33d",
   "metadata": {},
   "source": [
    "Теперь соберем новый датафрейм, вычислив предложенные признаки для каждой партии. При этом партии в которых время замера начальной и конечной температуры одинаковы по понятным причинам выкинем"
   ]
  },
  {
   "cell_type": "code",
   "execution_count": 32,
   "id": "b478df2b",
   "metadata": {},
   "outputs": [],
   "source": [
    "d = {'key' : [], 'initial_temp' : [], 'average_ap': [], 'average_rp': [], 'time_rw': [], 'time_rs': [], 'final_temp': []}\n",
    "for key in keys:\n",
    "    temp_df = df_arc[df_arc.index == key]\n",
    "    \n",
    "    t_i = df_temp[df_temp.index == key]['Время замера'].min()\n",
    "    t_f = df_temp[df_temp.index == key]['Время замера'].max()\n",
    "    \n",
    "    if t_i == t_f:\n",
    "        continue\n",
    "    \n",
    "    temp_df = temp_df[temp_df['Начало нагрева дугой'] >= t_i]\n",
    "    temp_df = temp_df[temp_df['Конец нагрева дугой'] <= t_f]\n",
    "    \n",
    "    temp_df['Время работы'] = (temp_df['Конец нагрева дугой'] - temp_df['Начало нагрева дугой']).apply(lambda t: t.total_seconds()/60)\n",
    "  \n",
    "    \n",
    "    temp_df['Активная работа'] = temp_df['Активная мощность'] * temp_df['Время работы'] \n",
    "    temp_df['Реактивная работа'] = temp_df['Реактивная мощность'] * temp_df['Время работы']\n",
    "    \n",
    "    d['key'].append(key)\n",
    "    \n",
    "    initial_temp = df_temp[(df_temp['Время замера'] == t_i) & (df_temp.index == key)]['Температура'].values[0]\n",
    "    d['initial_temp'].append(initial_temp)\n",
    "    \n",
    "    try:\n",
    "    \n",
    "        average_ap = temp_df['Активная работа'].sum() / temp_df['Время работы'].sum() \n",
    "        d['average_ap'].append(average_ap)\n",
    "    \n",
    "        average_rp = temp_df['Реактивная работа'].sum() / temp_df['Время работы'].sum()\n",
    "        d['average_rp'].append(average_rp)\n",
    "        \n",
    "        time_rw = temp_df['Время работы'].sum() \n",
    "        d['time_rw'].append(time_rw)\n",
    "    \n",
    "        time_rs = (t_f - t_i ).total_seconds()/60 - time_rw\n",
    "        d['time_rs'].append(time_rs)\n",
    "    \n",
    "    except:\n",
    "        \n",
    "        d['average_ap'].append(None)\n",
    "        d['average_rp'].append(None)\n",
    "        d['time_rw'].append(None)\n",
    "        d['time_rs'].append(None)\n",
    "    \n",
    "    final_temp = df_temp[(df_temp['Время замера'] == t_f) & (df_temp.index == key)]['Температура'].values[0]\n",
    "    d['final_temp'].append(final_temp)"
   ]
  },
  {
   "cell_type": "markdown",
   "id": "e3810e44",
   "metadata": {},
   "source": [
    "Получили такой набор признаков"
   ]
  },
  {
   "cell_type": "code",
   "execution_count": 33,
   "id": "8f64987e",
   "metadata": {},
   "outputs": [
    {
     "data": {
      "text/html": [
       "<div>\n",
       "<style scoped>\n",
       "    .dataframe tbody tr th:only-of-type {\n",
       "        vertical-align: middle;\n",
       "    }\n",
       "\n",
       "    .dataframe tbody tr th {\n",
       "        vertical-align: top;\n",
       "    }\n",
       "\n",
       "    .dataframe thead th {\n",
       "        text-align: right;\n",
       "    }\n",
       "</style>\n",
       "<table border=\"1\" class=\"dataframe\">\n",
       "  <thead>\n",
       "    <tr style=\"text-align: right;\">\n",
       "      <th></th>\n",
       "      <th>key</th>\n",
       "      <th>initial_temp</th>\n",
       "      <th>average_ap</th>\n",
       "      <th>average_rp</th>\n",
       "      <th>time_rw</th>\n",
       "      <th>time_rs</th>\n",
       "      <th>final_temp</th>\n",
       "    </tr>\n",
       "  </thead>\n",
       "  <tbody>\n",
       "    <tr>\n",
       "      <th>0</th>\n",
       "      <td>1</td>\n",
       "      <td>1571.0</td>\n",
       "      <td>1.380497</td>\n",
       "      <td>0.875644</td>\n",
       "      <td>8.550000</td>\n",
       "      <td>5.800000</td>\n",
       "      <td>1613.0</td>\n",
       "    </tr>\n",
       "    <tr>\n",
       "      <th>1</th>\n",
       "      <td>2</td>\n",
       "      <td>1581.0</td>\n",
       "      <td>0.999706</td>\n",
       "      <td>0.665896</td>\n",
       "      <td>11.233333</td>\n",
       "      <td>10.516667</td>\n",
       "      <td>1602.0</td>\n",
       "    </tr>\n",
       "    <tr>\n",
       "      <th>2</th>\n",
       "      <td>3</td>\n",
       "      <td>1596.0</td>\n",
       "      <td>0.389889</td>\n",
       "      <td>0.247783</td>\n",
       "      <td>6.250000</td>\n",
       "      <td>15.416667</td>\n",
       "      <td>1599.0</td>\n",
       "    </tr>\n",
       "    <tr>\n",
       "      <th>3</th>\n",
       "      <td>4</td>\n",
       "      <td>1601.0</td>\n",
       "      <td>1.220955</td>\n",
       "      <td>0.754719</td>\n",
       "      <td>4.633333</td>\n",
       "      <td>1.833333</td>\n",
       "      <td>1625.0</td>\n",
       "    </tr>\n",
       "    <tr>\n",
       "      <th>4</th>\n",
       "      <td>5</td>\n",
       "      <td>1576.0</td>\n",
       "      <td>1.423828</td>\n",
       "      <td>0.921293</td>\n",
       "      <td>8.100000</td>\n",
       "      <td>4.600000</td>\n",
       "      <td>1602.0</td>\n",
       "    </tr>\n",
       "  </tbody>\n",
       "</table>\n",
       "</div>"
      ],
      "text/plain": [
       "   key  initial_temp  average_ap  average_rp    time_rw    time_rs  final_temp\n",
       "0    1        1571.0    1.380497    0.875644   8.550000   5.800000      1613.0\n",
       "1    2        1581.0    0.999706    0.665896  11.233333  10.516667      1602.0\n",
       "2    3        1596.0    0.389889    0.247783   6.250000  15.416667      1599.0\n",
       "3    4        1601.0    1.220955    0.754719   4.633333   1.833333      1625.0\n",
       "4    5        1576.0    1.423828    0.921293   8.100000   4.600000      1602.0"
      ]
     },
     "execution_count": 33,
     "metadata": {},
     "output_type": "execute_result"
    }
   ],
   "source": [
    "df_new_arc = pd.DataFrame(d)\n",
    "df_new_arc.head()"
   ]
  },
  {
   "cell_type": "code",
   "execution_count": 34,
   "id": "6dcf7f71",
   "metadata": {},
   "outputs": [
    {
     "data": {
      "text/plain": [
       "2475"
      ]
     },
     "execution_count": 34,
     "metadata": {},
     "output_type": "execute_result"
    }
   ],
   "source": [
    "len(df_new_arc)"
   ]
  },
  {
   "cell_type": "code",
   "execution_count": 35,
   "id": "aaf8f87b",
   "metadata": {},
   "outputs": [],
   "source": [
    "df_new_arc.dropna(inplace = True)\n",
    "df_new_arc.set_index('key', inplace = True)"
   ]
  },
  {
   "cell_type": "code",
   "execution_count": 36,
   "id": "39d315a8",
   "metadata": {},
   "outputs": [
    {
     "data": {
      "text/html": [
       "<div>\n",
       "<style scoped>\n",
       "    .dataframe tbody tr th:only-of-type {\n",
       "        vertical-align: middle;\n",
       "    }\n",
       "\n",
       "    .dataframe tbody tr th {\n",
       "        vertical-align: top;\n",
       "    }\n",
       "\n",
       "    .dataframe thead th {\n",
       "        text-align: right;\n",
       "    }\n",
       "</style>\n",
       "<table border=\"1\" class=\"dataframe\">\n",
       "  <thead>\n",
       "    <tr style=\"text-align: right;\">\n",
       "      <th></th>\n",
       "      <th>initial_temp</th>\n",
       "      <th>average_ap</th>\n",
       "      <th>average_rp</th>\n",
       "      <th>time_rw</th>\n",
       "      <th>time_rs</th>\n",
       "      <th>final_temp</th>\n",
       "    </tr>\n",
       "    <tr>\n",
       "      <th>key</th>\n",
       "      <th></th>\n",
       "      <th></th>\n",
       "      <th></th>\n",
       "      <th></th>\n",
       "      <th></th>\n",
       "      <th></th>\n",
       "    </tr>\n",
       "  </thead>\n",
       "  <tbody>\n",
       "    <tr>\n",
       "      <th>1</th>\n",
       "      <td>1571.0</td>\n",
       "      <td>1.380497</td>\n",
       "      <td>0.875644</td>\n",
       "      <td>8.550000</td>\n",
       "      <td>5.800000</td>\n",
       "      <td>1613.0</td>\n",
       "    </tr>\n",
       "    <tr>\n",
       "      <th>2</th>\n",
       "      <td>1581.0</td>\n",
       "      <td>0.999706</td>\n",
       "      <td>0.665896</td>\n",
       "      <td>11.233333</td>\n",
       "      <td>10.516667</td>\n",
       "      <td>1602.0</td>\n",
       "    </tr>\n",
       "    <tr>\n",
       "      <th>3</th>\n",
       "      <td>1596.0</td>\n",
       "      <td>0.389889</td>\n",
       "      <td>0.247783</td>\n",
       "      <td>6.250000</td>\n",
       "      <td>15.416667</td>\n",
       "      <td>1599.0</td>\n",
       "    </tr>\n",
       "    <tr>\n",
       "      <th>4</th>\n",
       "      <td>1601.0</td>\n",
       "      <td>1.220955</td>\n",
       "      <td>0.754719</td>\n",
       "      <td>4.633333</td>\n",
       "      <td>1.833333</td>\n",
       "      <td>1625.0</td>\n",
       "    </tr>\n",
       "    <tr>\n",
       "      <th>5</th>\n",
       "      <td>1576.0</td>\n",
       "      <td>1.423828</td>\n",
       "      <td>0.921293</td>\n",
       "      <td>8.100000</td>\n",
       "      <td>4.600000</td>\n",
       "      <td>1602.0</td>\n",
       "    </tr>\n",
       "    <tr>\n",
       "      <th>...</th>\n",
       "      <td>...</td>\n",
       "      <td>...</td>\n",
       "      <td>...</td>\n",
       "      <td>...</td>\n",
       "      <td>...</td>\n",
       "      <td>...</td>\n",
       "    </tr>\n",
       "    <tr>\n",
       "      <th>2495</th>\n",
       "      <td>1570.0</td>\n",
       "      <td>0.862477</td>\n",
       "      <td>0.613526</td>\n",
       "      <td>8.600000</td>\n",
       "      <td>10.350000</td>\n",
       "      <td>1591.0</td>\n",
       "    </tr>\n",
       "    <tr>\n",
       "      <th>2496</th>\n",
       "      <td>1554.0</td>\n",
       "      <td>0.828449</td>\n",
       "      <td>0.549479</td>\n",
       "      <td>13.716667</td>\n",
       "      <td>13.250000</td>\n",
       "      <td>1591.0</td>\n",
       "    </tr>\n",
       "    <tr>\n",
       "      <th>2497</th>\n",
       "      <td>1571.0</td>\n",
       "      <td>0.815744</td>\n",
       "      <td>0.673446</td>\n",
       "      <td>6.883333</td>\n",
       "      <td>5.066667</td>\n",
       "      <td>1589.0</td>\n",
       "    </tr>\n",
       "    <tr>\n",
       "      <th>2498</th>\n",
       "      <td>1591.0</td>\n",
       "      <td>0.672525</td>\n",
       "      <td>0.457046</td>\n",
       "      <td>8.233333</td>\n",
       "      <td>13.466667</td>\n",
       "      <td>1594.0</td>\n",
       "    </tr>\n",
       "    <tr>\n",
       "      <th>2499</th>\n",
       "      <td>1569.0</td>\n",
       "      <td>1.103786</td>\n",
       "      <td>0.713817</td>\n",
       "      <td>9.516667</td>\n",
       "      <td>10.533333</td>\n",
       "      <td>1603.0</td>\n",
       "    </tr>\n",
       "  </tbody>\n",
       "</table>\n",
       "<p>2441 rows × 6 columns</p>\n",
       "</div>"
      ],
      "text/plain": [
       "      initial_temp  average_ap  average_rp    time_rw    time_rs  final_temp\n",
       "key                                                                         \n",
       "1           1571.0    1.380497    0.875644   8.550000   5.800000      1613.0\n",
       "2           1581.0    0.999706    0.665896  11.233333  10.516667      1602.0\n",
       "3           1596.0    0.389889    0.247783   6.250000  15.416667      1599.0\n",
       "4           1601.0    1.220955    0.754719   4.633333   1.833333      1625.0\n",
       "5           1576.0    1.423828    0.921293   8.100000   4.600000      1602.0\n",
       "...            ...         ...         ...        ...        ...         ...\n",
       "2495        1570.0    0.862477    0.613526   8.600000  10.350000      1591.0\n",
       "2496        1554.0    0.828449    0.549479  13.716667  13.250000      1591.0\n",
       "2497        1571.0    0.815744    0.673446   6.883333   5.066667      1589.0\n",
       "2498        1591.0    0.672525    0.457046   8.233333  13.466667      1594.0\n",
       "2499        1569.0    1.103786    0.713817   9.516667  10.533333      1603.0\n",
       "\n",
       "[2441 rows x 6 columns]"
      ]
     },
     "execution_count": 36,
     "metadata": {},
     "output_type": "execute_result"
    }
   ],
   "source": [
    "df_new_arc"
   ]
  },
  {
   "cell_type": "markdown",
   "id": "f0b7fb27",
   "metadata": {},
   "source": [
    "Добавим данные о сыпучих материалах, проволках и продуве газом"
   ]
  },
  {
   "cell_type": "code",
   "execution_count": 37,
   "id": "902ab2bb",
   "metadata": {
    "scrolled": false
   },
   "outputs": [
    {
     "data": {
      "text/html": [
       "<div>\n",
       "<style scoped>\n",
       "    .dataframe tbody tr th:only-of-type {\n",
       "        vertical-align: middle;\n",
       "    }\n",
       "\n",
       "    .dataframe tbody tr th {\n",
       "        vertical-align: top;\n",
       "    }\n",
       "\n",
       "    .dataframe thead th {\n",
       "        text-align: right;\n",
       "    }\n",
       "</style>\n",
       "<table border=\"1\" class=\"dataframe\">\n",
       "  <thead>\n",
       "    <tr style=\"text-align: right;\">\n",
       "      <th></th>\n",
       "      <th>initial_temp</th>\n",
       "      <th>average_ap</th>\n",
       "      <th>average_rp</th>\n",
       "      <th>time_rw</th>\n",
       "      <th>time_rs</th>\n",
       "      <th>final_temp</th>\n",
       "      <th>Bulk 1</th>\n",
       "      <th>Bulk 2</th>\n",
       "      <th>Bulk 3</th>\n",
       "      <th>Bulk 4</th>\n",
       "      <th>...</th>\n",
       "      <th>gas</th>\n",
       "      <th>Wire 1</th>\n",
       "      <th>Wire 2</th>\n",
       "      <th>Wire 3</th>\n",
       "      <th>Wire 4</th>\n",
       "      <th>Wire 5</th>\n",
       "      <th>Wire 6</th>\n",
       "      <th>Wire 7</th>\n",
       "      <th>Wire 8</th>\n",
       "      <th>Wire 9</th>\n",
       "    </tr>\n",
       "    <tr>\n",
       "      <th>key</th>\n",
       "      <th></th>\n",
       "      <th></th>\n",
       "      <th></th>\n",
       "      <th></th>\n",
       "      <th></th>\n",
       "      <th></th>\n",
       "      <th></th>\n",
       "      <th></th>\n",
       "      <th></th>\n",
       "      <th></th>\n",
       "      <th></th>\n",
       "      <th></th>\n",
       "      <th></th>\n",
       "      <th></th>\n",
       "      <th></th>\n",
       "      <th></th>\n",
       "      <th></th>\n",
       "      <th></th>\n",
       "      <th></th>\n",
       "      <th></th>\n",
       "      <th></th>\n",
       "    </tr>\n",
       "  </thead>\n",
       "  <tbody>\n",
       "    <tr>\n",
       "      <th>1</th>\n",
       "      <td>1571.0</td>\n",
       "      <td>1.380497</td>\n",
       "      <td>0.875644</td>\n",
       "      <td>8.550000</td>\n",
       "      <td>5.800000</td>\n",
       "      <td>1613.0</td>\n",
       "      <td>0.0</td>\n",
       "      <td>0.0</td>\n",
       "      <td>0.0</td>\n",
       "      <td>43.0</td>\n",
       "      <td>...</td>\n",
       "      <td>29.749986</td>\n",
       "      <td>60.059998</td>\n",
       "      <td>0.00000</td>\n",
       "      <td>0.0</td>\n",
       "      <td>0.0</td>\n",
       "      <td>0.0</td>\n",
       "      <td>0.0</td>\n",
       "      <td>0.0</td>\n",
       "      <td>0.0</td>\n",
       "      <td>0.0</td>\n",
       "    </tr>\n",
       "    <tr>\n",
       "      <th>2</th>\n",
       "      <td>1581.0</td>\n",
       "      <td>0.999706</td>\n",
       "      <td>0.665896</td>\n",
       "      <td>11.233333</td>\n",
       "      <td>10.516667</td>\n",
       "      <td>1602.0</td>\n",
       "      <td>0.0</td>\n",
       "      <td>0.0</td>\n",
       "      <td>0.0</td>\n",
       "      <td>73.0</td>\n",
       "      <td>...</td>\n",
       "      <td>12.555561</td>\n",
       "      <td>96.052315</td>\n",
       "      <td>0.00000</td>\n",
       "      <td>0.0</td>\n",
       "      <td>0.0</td>\n",
       "      <td>0.0</td>\n",
       "      <td>0.0</td>\n",
       "      <td>0.0</td>\n",
       "      <td>0.0</td>\n",
       "      <td>0.0</td>\n",
       "    </tr>\n",
       "    <tr>\n",
       "      <th>3</th>\n",
       "      <td>1596.0</td>\n",
       "      <td>0.389889</td>\n",
       "      <td>0.247783</td>\n",
       "      <td>6.250000</td>\n",
       "      <td>15.416667</td>\n",
       "      <td>1599.0</td>\n",
       "      <td>0.0</td>\n",
       "      <td>0.0</td>\n",
       "      <td>0.0</td>\n",
       "      <td>34.0</td>\n",
       "      <td>...</td>\n",
       "      <td>28.554793</td>\n",
       "      <td>91.160157</td>\n",
       "      <td>0.00000</td>\n",
       "      <td>0.0</td>\n",
       "      <td>0.0</td>\n",
       "      <td>0.0</td>\n",
       "      <td>0.0</td>\n",
       "      <td>0.0</td>\n",
       "      <td>0.0</td>\n",
       "      <td>0.0</td>\n",
       "    </tr>\n",
       "    <tr>\n",
       "      <th>4</th>\n",
       "      <td>1601.0</td>\n",
       "      <td>1.220955</td>\n",
       "      <td>0.754719</td>\n",
       "      <td>4.633333</td>\n",
       "      <td>1.833333</td>\n",
       "      <td>1625.0</td>\n",
       "      <td>0.0</td>\n",
       "      <td>0.0</td>\n",
       "      <td>0.0</td>\n",
       "      <td>81.0</td>\n",
       "      <td>...</td>\n",
       "      <td>18.841219</td>\n",
       "      <td>89.063515</td>\n",
       "      <td>0.00000</td>\n",
       "      <td>0.0</td>\n",
       "      <td>0.0</td>\n",
       "      <td>0.0</td>\n",
       "      <td>0.0</td>\n",
       "      <td>0.0</td>\n",
       "      <td>0.0</td>\n",
       "      <td>0.0</td>\n",
       "    </tr>\n",
       "    <tr>\n",
       "      <th>5</th>\n",
       "      <td>1576.0</td>\n",
       "      <td>1.423828</td>\n",
       "      <td>0.921293</td>\n",
       "      <td>8.100000</td>\n",
       "      <td>4.600000</td>\n",
       "      <td>1602.0</td>\n",
       "      <td>0.0</td>\n",
       "      <td>0.0</td>\n",
       "      <td>0.0</td>\n",
       "      <td>78.0</td>\n",
       "      <td>...</td>\n",
       "      <td>5.413692</td>\n",
       "      <td>89.238236</td>\n",
       "      <td>9.11456</td>\n",
       "      <td>0.0</td>\n",
       "      <td>0.0</td>\n",
       "      <td>0.0</td>\n",
       "      <td>0.0</td>\n",
       "      <td>0.0</td>\n",
       "      <td>0.0</td>\n",
       "      <td>0.0</td>\n",
       "    </tr>\n",
       "    <tr>\n",
       "      <th>...</th>\n",
       "      <td>...</td>\n",
       "      <td>...</td>\n",
       "      <td>...</td>\n",
       "      <td>...</td>\n",
       "      <td>...</td>\n",
       "      <td>...</td>\n",
       "      <td>...</td>\n",
       "      <td>...</td>\n",
       "      <td>...</td>\n",
       "      <td>...</td>\n",
       "      <td>...</td>\n",
       "      <td>...</td>\n",
       "      <td>...</td>\n",
       "      <td>...</td>\n",
       "      <td>...</td>\n",
       "      <td>...</td>\n",
       "      <td>...</td>\n",
       "      <td>...</td>\n",
       "      <td>...</td>\n",
       "      <td>...</td>\n",
       "      <td>...</td>\n",
       "    </tr>\n",
       "    <tr>\n",
       "      <th>2495</th>\n",
       "      <td>1570.0</td>\n",
       "      <td>0.862477</td>\n",
       "      <td>0.613526</td>\n",
       "      <td>8.600000</td>\n",
       "      <td>10.350000</td>\n",
       "      <td>1591.0</td>\n",
       "      <td>0.0</td>\n",
       "      <td>0.0</td>\n",
       "      <td>21.0</td>\n",
       "      <td>0.0</td>\n",
       "      <td>...</td>\n",
       "      <td>7.125735</td>\n",
       "      <td>89.150879</td>\n",
       "      <td>0.00000</td>\n",
       "      <td>0.0</td>\n",
       "      <td>0.0</td>\n",
       "      <td>0.0</td>\n",
       "      <td>0.0</td>\n",
       "      <td>0.0</td>\n",
       "      <td>0.0</td>\n",
       "      <td>0.0</td>\n",
       "    </tr>\n",
       "    <tr>\n",
       "      <th>2496</th>\n",
       "      <td>1554.0</td>\n",
       "      <td>0.828449</td>\n",
       "      <td>0.549479</td>\n",
       "      <td>13.716667</td>\n",
       "      <td>13.250000</td>\n",
       "      <td>1591.0</td>\n",
       "      <td>0.0</td>\n",
       "      <td>0.0</td>\n",
       "      <td>0.0</td>\n",
       "      <td>63.0</td>\n",
       "      <td>...</td>\n",
       "      <td>9.412616</td>\n",
       "      <td>114.179527</td>\n",
       "      <td>0.00000</td>\n",
       "      <td>0.0</td>\n",
       "      <td>0.0</td>\n",
       "      <td>0.0</td>\n",
       "      <td>0.0</td>\n",
       "      <td>0.0</td>\n",
       "      <td>0.0</td>\n",
       "      <td>0.0</td>\n",
       "    </tr>\n",
       "    <tr>\n",
       "      <th>2497</th>\n",
       "      <td>1571.0</td>\n",
       "      <td>0.815744</td>\n",
       "      <td>0.673446</td>\n",
       "      <td>6.883333</td>\n",
       "      <td>5.066667</td>\n",
       "      <td>1589.0</td>\n",
       "      <td>0.0</td>\n",
       "      <td>0.0</td>\n",
       "      <td>0.0</td>\n",
       "      <td>85.0</td>\n",
       "      <td>...</td>\n",
       "      <td>6.271699</td>\n",
       "      <td>94.086723</td>\n",
       "      <td>9.04800</td>\n",
       "      <td>0.0</td>\n",
       "      <td>0.0</td>\n",
       "      <td>0.0</td>\n",
       "      <td>0.0</td>\n",
       "      <td>0.0</td>\n",
       "      <td>0.0</td>\n",
       "      <td>0.0</td>\n",
       "    </tr>\n",
       "    <tr>\n",
       "      <th>2498</th>\n",
       "      <td>1591.0</td>\n",
       "      <td>0.672525</td>\n",
       "      <td>0.457046</td>\n",
       "      <td>8.233333</td>\n",
       "      <td>13.466667</td>\n",
       "      <td>1594.0</td>\n",
       "      <td>0.0</td>\n",
       "      <td>0.0</td>\n",
       "      <td>90.0</td>\n",
       "      <td>0.0</td>\n",
       "      <td>...</td>\n",
       "      <td>14.953657</td>\n",
       "      <td>118.110717</td>\n",
       "      <td>0.00000</td>\n",
       "      <td>0.0</td>\n",
       "      <td>0.0</td>\n",
       "      <td>0.0</td>\n",
       "      <td>0.0</td>\n",
       "      <td>0.0</td>\n",
       "      <td>0.0</td>\n",
       "      <td>0.0</td>\n",
       "    </tr>\n",
       "    <tr>\n",
       "      <th>2499</th>\n",
       "      <td>1569.0</td>\n",
       "      <td>1.103786</td>\n",
       "      <td>0.713817</td>\n",
       "      <td>9.516667</td>\n",
       "      <td>10.533333</td>\n",
       "      <td>1603.0</td>\n",
       "      <td>0.0</td>\n",
       "      <td>0.0</td>\n",
       "      <td>47.0</td>\n",
       "      <td>0.0</td>\n",
       "      <td>...</td>\n",
       "      <td>11.336151</td>\n",
       "      <td>110.160958</td>\n",
       "      <td>50.00528</td>\n",
       "      <td>0.0</td>\n",
       "      <td>0.0</td>\n",
       "      <td>0.0</td>\n",
       "      <td>0.0</td>\n",
       "      <td>0.0</td>\n",
       "      <td>0.0</td>\n",
       "      <td>0.0</td>\n",
       "    </tr>\n",
       "  </tbody>\n",
       "</table>\n",
       "<p>2441 rows × 31 columns</p>\n",
       "</div>"
      ],
      "text/plain": [
       "      initial_temp  average_ap  average_rp    time_rw    time_rs  final_temp  \\\n",
       "key                                                                            \n",
       "1           1571.0    1.380497    0.875644   8.550000   5.800000      1613.0   \n",
       "2           1581.0    0.999706    0.665896  11.233333  10.516667      1602.0   \n",
       "3           1596.0    0.389889    0.247783   6.250000  15.416667      1599.0   \n",
       "4           1601.0    1.220955    0.754719   4.633333   1.833333      1625.0   \n",
       "5           1576.0    1.423828    0.921293   8.100000   4.600000      1602.0   \n",
       "...            ...         ...         ...        ...        ...         ...   \n",
       "2495        1570.0    0.862477    0.613526   8.600000  10.350000      1591.0   \n",
       "2496        1554.0    0.828449    0.549479  13.716667  13.250000      1591.0   \n",
       "2497        1571.0    0.815744    0.673446   6.883333   5.066667      1589.0   \n",
       "2498        1591.0    0.672525    0.457046   8.233333  13.466667      1594.0   \n",
       "2499        1569.0    1.103786    0.713817   9.516667  10.533333      1603.0   \n",
       "\n",
       "      Bulk 1  Bulk 2  Bulk 3  Bulk 4  ...        gas      Wire 1    Wire 2  \\\n",
       "key                                   ...                                    \n",
       "1        0.0     0.0     0.0    43.0  ...  29.749986   60.059998   0.00000   \n",
       "2        0.0     0.0     0.0    73.0  ...  12.555561   96.052315   0.00000   \n",
       "3        0.0     0.0     0.0    34.0  ...  28.554793   91.160157   0.00000   \n",
       "4        0.0     0.0     0.0    81.0  ...  18.841219   89.063515   0.00000   \n",
       "5        0.0     0.0     0.0    78.0  ...   5.413692   89.238236   9.11456   \n",
       "...      ...     ...     ...     ...  ...        ...         ...       ...   \n",
       "2495     0.0     0.0    21.0     0.0  ...   7.125735   89.150879   0.00000   \n",
       "2496     0.0     0.0     0.0    63.0  ...   9.412616  114.179527   0.00000   \n",
       "2497     0.0     0.0     0.0    85.0  ...   6.271699   94.086723   9.04800   \n",
       "2498     0.0     0.0    90.0     0.0  ...  14.953657  118.110717   0.00000   \n",
       "2499     0.0     0.0    47.0     0.0  ...  11.336151  110.160958  50.00528   \n",
       "\n",
       "      Wire 3  Wire 4  Wire 5  Wire 6  Wire 7  Wire 8  Wire 9  \n",
       "key                                                           \n",
       "1        0.0     0.0     0.0     0.0     0.0     0.0     0.0  \n",
       "2        0.0     0.0     0.0     0.0     0.0     0.0     0.0  \n",
       "3        0.0     0.0     0.0     0.0     0.0     0.0     0.0  \n",
       "4        0.0     0.0     0.0     0.0     0.0     0.0     0.0  \n",
       "5        0.0     0.0     0.0     0.0     0.0     0.0     0.0  \n",
       "...      ...     ...     ...     ...     ...     ...     ...  \n",
       "2495     0.0     0.0     0.0     0.0     0.0     0.0     0.0  \n",
       "2496     0.0     0.0     0.0     0.0     0.0     0.0     0.0  \n",
       "2497     0.0     0.0     0.0     0.0     0.0     0.0     0.0  \n",
       "2498     0.0     0.0     0.0     0.0     0.0     0.0     0.0  \n",
       "2499     0.0     0.0     0.0     0.0     0.0     0.0     0.0  \n",
       "\n",
       "[2441 rows x 31 columns]"
      ]
     },
     "execution_count": 37,
     "metadata": {},
     "output_type": "execute_result"
    }
   ],
   "source": [
    "df_gas.columns = ['gas']\n",
    "df = df_new_arc.join(how = 'left', other = [df_bulk.fillna(0), df_gas.fillna(0), df_wire.fillna(0)])\n",
    "df"
   ]
  },
  {
   "cell_type": "markdown",
   "id": "f06e65a3",
   "metadata": {},
   "source": [
    "Пропуски в добавках заполним нулями"
   ]
  },
  {
   "cell_type": "code",
   "execution_count": 38,
   "id": "828c10c3",
   "metadata": {},
   "outputs": [],
   "source": [
    "df = df.fillna(0)"
   ]
  },
  {
   "cell_type": "markdown",
   "id": "0584d670",
   "metadata": {},
   "source": [
    "Удалим бесконечности возникшие из-за промежутков между __t_i__ и __t_f__"
   ]
  },
  {
   "cell_type": "code",
   "execution_count": 39,
   "id": "f3feaf48",
   "metadata": {},
   "outputs": [
    {
     "data": {
      "text/plain": [
       "initial_temp    None\n",
       "average_ap      None\n",
       "average_rp      None\n",
       "time_rw         None\n",
       "time_rs         None\n",
       "final_temp      None\n",
       "Bulk 1          None\n",
       "Bulk 2          None\n",
       "Bulk 3          None\n",
       "Bulk 4          None\n",
       "Bulk 5          None\n",
       "Bulk 6          None\n",
       "Bulk 7          None\n",
       "Bulk 8          None\n",
       "Bulk 9          None\n",
       "Bulk 10         None\n",
       "Bulk 11         None\n",
       "Bulk 12         None\n",
       "Bulk 13         None\n",
       "Bulk 14         None\n",
       "Bulk 15         None\n",
       "gas             None\n",
       "Wire 1          None\n",
       "Wire 2          None\n",
       "Wire 3          None\n",
       "Wire 4          None\n",
       "Wire 5          None\n",
       "Wire 6          None\n",
       "Wire 7          None\n",
       "Wire 8          None\n",
       "Wire 9          None\n",
       "dtype: object"
      ]
     },
     "execution_count": 39,
     "metadata": {},
     "output_type": "execute_result"
    }
   ],
   "source": [
    "df.replace([np.inf, -np.inf], None, inplace=True)"
   ]
  },
  {
   "cell_type": "code",
   "execution_count": 40,
   "id": "28340dc7",
   "metadata": {},
   "outputs": [
    {
     "data": {
      "text/plain": [
       "0"
      ]
     },
     "execution_count": 40,
     "metadata": {},
     "output_type": "execute_result"
    }
   ],
   "source": [
    "df.isna().sum().sum()"
   ]
  },
  {
   "cell_type": "markdown",
   "id": "ce3e96cb",
   "metadata": {},
   "source": [
    "Теперь отчистим данные от аномальных значений"
   ]
  },
  {
   "cell_type": "markdown",
   "id": "d12267f3",
   "metadata": {},
   "source": [
    "<a id='5'></a>\n",
    "## Работа с аномалиями"
   ]
  },
  {
   "cell_type": "code",
   "execution_count": 41,
   "id": "132c1745",
   "metadata": {},
   "outputs": [
    {
     "data": {
      "text/plain": [
       "<AxesSubplot:>"
      ]
     },
     "execution_count": 41,
     "metadata": {},
     "output_type": "execute_result"
    },
    {
     "data": {
      "image/png": "[encoded data removed]",
      "text/plain": [
       "<Figure size 1080x216 with 1 Axes>"
      ]
     },
     "metadata": {},
     "output_type": "display_data"
    }
   ],
   "source": [
    "fig = plt.figure(figsize=(15,3))\n",
    "df[['initial_temp', 'final_temp']].boxplot()"
   ]
  },
  {
   "cell_type": "code",
   "execution_count": 42,
   "id": "fdae1607",
   "metadata": {},
   "outputs": [],
   "source": [
    "df = df.query('initial_temp > 1300')\n",
    "df = df.query('final_temp < 1700')"
   ]
  },
  {
   "cell_type": "code",
   "execution_count": 43,
   "id": "861822a7",
   "metadata": {},
   "outputs": [
    {
     "data": {
      "text/plain": [
       "<AxesSubplot:>"
      ]
     },
     "execution_count": 43,
     "metadata": {},
     "output_type": "execute_result"
    },
    {
     "data": {
      "image/png": "[encoded data removed]",
      "text/plain": [
       "<Figure size 1080x216 with 1 Axes>"
      ]
     },
     "metadata": {},
     "output_type": "display_data"
    }
   ],
   "source": [
    "fig = plt.figure(figsize=(15,3))\n",
    "df[['initial_temp', 'final_temp']].boxplot()"
   ]
  },
  {
   "cell_type": "code",
   "execution_count": 44,
   "id": "415cc026",
   "metadata": {},
   "outputs": [
    {
     "data": {
      "text/plain": [
       "<AxesSubplot:>"
      ]
     },
     "execution_count": 44,
     "metadata": {},
     "output_type": "execute_result"
    },
    {
     "data": {
      "image/png": "[encoded data removed]",
      "text/plain": [
       "<Figure size 1080x216 with 1 Axes>"
      ]
     },
     "metadata": {},
     "output_type": "display_data"
    }
   ],
   "source": [
    "fig = plt.figure(figsize=(15,3))\n",
    "df[['initial_temp', 'final_temp']].boxplot()"
   ]
  },
  {
   "cell_type": "code",
   "execution_count": 45,
   "id": "0f5de2ae",
   "metadata": {},
   "outputs": [
    {
     "data": {
      "text/plain": [
       "<AxesSubplot:>"
      ]
     },
     "execution_count": 45,
     "metadata": {},
     "output_type": "execute_result"
    },
    {
     "data": {
      "image/png": "[encoded data removed]",
      "text/plain": [
       "<Figure size 1080x216 with 1 Axes>"
      ]
     },
     "metadata": {},
     "output_type": "display_data"
    }
   ],
   "source": [
    "fig = plt.figure(figsize=(15,3))\n",
    "df[df_bulk.columns].boxplot()"
   ]
  },
  {
   "cell_type": "code",
   "execution_count": 46,
   "id": "f3d17a2b",
   "metadata": {},
   "outputs": [],
   "source": [
    "df = df[df['Bulk 12'] < 1000]"
   ]
  },
  {
   "cell_type": "code",
   "execution_count": 47,
   "id": "1f99d083",
   "metadata": {},
   "outputs": [
    {
     "data": {
      "text/plain": [
       "<AxesSubplot:>"
      ]
     },
     "execution_count": 47,
     "metadata": {},
     "output_type": "execute_result"
    },
    {
     "data": {
      "image/png": "[encoded data removed]",
      "text/plain": [
       "<Figure size 1080x216 with 1 Axes>"
      ]
     },
     "metadata": {},
     "output_type": "display_data"
    }
   ],
   "source": [
    "fig = plt.figure(figsize=(15,3))\n",
    "df[df_bulk.columns].boxplot()"
   ]
  },
  {
   "cell_type": "code",
   "execution_count": 48,
   "id": "2fa08cf0",
   "metadata": {},
   "outputs": [
    {
     "data": {
      "text/plain": [
       "<AxesSubplot:>"
      ]
     },
     "execution_count": 48,
     "metadata": {},
     "output_type": "execute_result"
    },
    {
     "data": {
      "image/png": "[encoded data removed]",
      "text/plain": [
       "<Figure size 1080x216 with 1 Axes>"
      ]
     },
     "metadata": {},
     "output_type": "display_data"
    }
   ],
   "source": [
    "fig = plt.figure(figsize=(15,3))\n",
    "df[df_wire.columns].boxplot()"
   ]
  },
  {
   "cell_type": "code",
   "execution_count": 49,
   "id": "62e99aa7",
   "metadata": {},
   "outputs": [
    {
     "data": {
      "text/plain": [
       "<AxesSubplot:>"
      ]
     },
     "execution_count": 49,
     "metadata": {},
     "output_type": "execute_result"
    },
    {
     "data": {
      "image/png": "[encoded data removed]",
      "text/plain": [
       "<Figure size 1080x216 with 1 Axes>"
      ]
     },
     "metadata": {},
     "output_type": "display_data"
    }
   ],
   "source": [
    "fig = plt.figure(figsize=(15,3))\n",
    "df[['average_ap', 'average_rp']].boxplot()"
   ]
  },
  {
   "cell_type": "code",
   "execution_count": 50,
   "id": "74f399bb",
   "metadata": {},
   "outputs": [],
   "source": [
    "df = df.query('average_rp > 0')"
   ]
  },
  {
   "cell_type": "code",
   "execution_count": 51,
   "id": "d18e9b23",
   "metadata": {},
   "outputs": [
    {
     "data": {
      "text/plain": [
       "<AxesSubplot:>"
      ]
     },
     "execution_count": 51,
     "metadata": {},
     "output_type": "execute_result"
    },
    {
     "data": {
      "image/png": "[encoded data removed]",
      "text/plain": [
       "<Figure size 1080x216 with 1 Axes>"
      ]
     },
     "metadata": {},
     "output_type": "display_data"
    }
   ],
   "source": [
    "fig = plt.figure(figsize=(15,3))\n",
    "df[['average_ap', 'average_rp']].boxplot()"
   ]
  },
  {
   "cell_type": "code",
   "execution_count": 52,
   "id": "6591bf6f",
   "metadata": {},
   "outputs": [
    {
     "data": {
      "text/plain": [
       "<AxesSubplot:>"
      ]
     },
     "execution_count": 52,
     "metadata": {},
     "output_type": "execute_result"
    },
    {
     "data": {
      "image/png": "[encoded data removed]",
      "text/plain": [
       "<Figure size 1080x216 with 1 Axes>"
      ]
     },
     "metadata": {},
     "output_type": "display_data"
    }
   ],
   "source": [
    "fig = plt.figure(figsize=(15,3))\n",
    "df[df_bulk.columns].boxplot()"
   ]
  },
  {
   "cell_type": "code",
   "execution_count": 53,
   "id": "7a93fce8",
   "metadata": {},
   "outputs": [
    {
     "data": {
      "text/html": [
       "<div>\n",
       "<style scoped>\n",
       "    .dataframe tbody tr th:only-of-type {\n",
       "        vertical-align: middle;\n",
       "    }\n",
       "\n",
       "    .dataframe tbody tr th {\n",
       "        vertical-align: top;\n",
       "    }\n",
       "\n",
       "    .dataframe thead th {\n",
       "        text-align: right;\n",
       "    }\n",
       "</style>\n",
       "<table border=\"1\" class=\"dataframe\">\n",
       "  <thead>\n",
       "    <tr style=\"text-align: right;\">\n",
       "      <th></th>\n",
       "      <th>Bulk 1</th>\n",
       "      <th>Bulk 2</th>\n",
       "      <th>Bulk 3</th>\n",
       "      <th>Bulk 4</th>\n",
       "      <th>Bulk 5</th>\n",
       "      <th>Bulk 6</th>\n",
       "      <th>Bulk 7</th>\n",
       "      <th>Bulk 8</th>\n",
       "      <th>Bulk 9</th>\n",
       "      <th>Bulk 10</th>\n",
       "      <th>Bulk 11</th>\n",
       "      <th>Bulk 12</th>\n",
       "      <th>Bulk 13</th>\n",
       "      <th>Bulk 14</th>\n",
       "      <th>Bulk 15</th>\n",
       "    </tr>\n",
       "  </thead>\n",
       "  <tbody>\n",
       "    <tr>\n",
       "      <th>count</th>\n",
       "      <td>2434.000000</td>\n",
       "      <td>2434.000000</td>\n",
       "      <td>2434.000000</td>\n",
       "      <td>2434.000000</td>\n",
       "      <td>2434.000000</td>\n",
       "      <td>2434.000000</td>\n",
       "      <td>2434.000000</td>\n",
       "      <td>2434.000000</td>\n",
       "      <td>2434.000000</td>\n",
       "      <td>2434.000000</td>\n",
       "      <td>2434.000000</td>\n",
       "      <td>2434.00000</td>\n",
       "      <td>2434.000000</td>\n",
       "      <td>2434.000000</td>\n",
       "      <td>2434.000000</td>\n",
       "    </tr>\n",
       "    <tr>\n",
       "      <th>mean</th>\n",
       "      <td>3.192687</td>\n",
       "      <td>1.361134</td>\n",
       "      <td>45.143796</td>\n",
       "      <td>35.382498</td>\n",
       "      <td>2.526294</td>\n",
       "      <td>21.271159</td>\n",
       "      <td>1.770748</td>\n",
       "      <td>0.020131</td>\n",
       "      <td>0.425637</td>\n",
       "      <td>4.797453</td>\n",
       "      <td>3.998357</td>\n",
       "      <td>205.32539</td>\n",
       "      <td>1.021364</td>\n",
       "      <td>151.193919</td>\n",
       "      <td>115.266639</td>\n",
       "    </tr>\n",
       "    <tr>\n",
       "      <th>std</th>\n",
       "      <td>11.579931</td>\n",
       "      <td>18.668056</td>\n",
       "      <td>74.254734</td>\n",
       "      <td>57.832677</td>\n",
       "      <td>21.920126</td>\n",
       "      <td>54.324833</td>\n",
       "      <td>28.884040</td>\n",
       "      <td>0.993198</td>\n",
       "      <td>6.085601</td>\n",
       "      <td>20.412788</td>\n",
       "      <td>21.938898</td>\n",
       "      <td>153.79013</td>\n",
       "      <td>13.926188</td>\n",
       "      <td>82.994081</td>\n",
       "      <td>86.166563</td>\n",
       "    </tr>\n",
       "    <tr>\n",
       "      <th>min</th>\n",
       "      <td>0.000000</td>\n",
       "      <td>0.000000</td>\n",
       "      <td>0.000000</td>\n",
       "      <td>0.000000</td>\n",
       "      <td>0.000000</td>\n",
       "      <td>0.000000</td>\n",
       "      <td>0.000000</td>\n",
       "      <td>0.000000</td>\n",
       "      <td>0.000000</td>\n",
       "      <td>0.000000</td>\n",
       "      <td>0.000000</td>\n",
       "      <td>0.00000</td>\n",
       "      <td>0.000000</td>\n",
       "      <td>0.000000</td>\n",
       "      <td>0.000000</td>\n",
       "    </tr>\n",
       "    <tr>\n",
       "      <th>25%</th>\n",
       "      <td>0.000000</td>\n",
       "      <td>0.000000</td>\n",
       "      <td>0.000000</td>\n",
       "      <td>0.000000</td>\n",
       "      <td>0.000000</td>\n",
       "      <td>0.000000</td>\n",
       "      <td>0.000000</td>\n",
       "      <td>0.000000</td>\n",
       "      <td>0.000000</td>\n",
       "      <td>0.000000</td>\n",
       "      <td>0.000000</td>\n",
       "      <td>105.00000</td>\n",
       "      <td>0.000000</td>\n",
       "      <td>104.000000</td>\n",
       "      <td>0.000000</td>\n",
       "    </tr>\n",
       "    <tr>\n",
       "      <th>50%</th>\n",
       "      <td>0.000000</td>\n",
       "      <td>0.000000</td>\n",
       "      <td>0.000000</td>\n",
       "      <td>0.000000</td>\n",
       "      <td>0.000000</td>\n",
       "      <td>0.000000</td>\n",
       "      <td>0.000000</td>\n",
       "      <td>0.000000</td>\n",
       "      <td>0.000000</td>\n",
       "      <td>0.000000</td>\n",
       "      <td>0.000000</td>\n",
       "      <td>206.00000</td>\n",
       "      <td>0.000000</td>\n",
       "      <td>149.000000</td>\n",
       "      <td>106.000000</td>\n",
       "    </tr>\n",
       "    <tr>\n",
       "      <th>75%</th>\n",
       "      <td>0.000000</td>\n",
       "      <td>0.000000</td>\n",
       "      <td>74.000000</td>\n",
       "      <td>72.750000</td>\n",
       "      <td>0.000000</td>\n",
       "      <td>0.000000</td>\n",
       "      <td>0.000000</td>\n",
       "      <td>0.000000</td>\n",
       "      <td>0.000000</td>\n",
       "      <td>0.000000</td>\n",
       "      <td>0.000000</td>\n",
       "      <td>278.50000</td>\n",
       "      <td>0.000000</td>\n",
       "      <td>204.000000</td>\n",
       "      <td>204.000000</td>\n",
       "    </tr>\n",
       "    <tr>\n",
       "      <th>max</th>\n",
       "      <td>94.000000</td>\n",
       "      <td>325.000000</td>\n",
       "      <td>454.000000</td>\n",
       "      <td>281.000000</td>\n",
       "      <td>603.000000</td>\n",
       "      <td>503.000000</td>\n",
       "      <td>772.000000</td>\n",
       "      <td>49.000000</td>\n",
       "      <td>147.000000</td>\n",
       "      <td>159.000000</td>\n",
       "      <td>313.000000</td>\n",
       "      <td>853.00000</td>\n",
       "      <td>305.000000</td>\n",
       "      <td>601.000000</td>\n",
       "      <td>405.000000</td>\n",
       "    </tr>\n",
       "  </tbody>\n",
       "</table>\n",
       "</div>"
      ],
      "text/plain": [
       "            Bulk 1       Bulk 2       Bulk 3       Bulk 4       Bulk 5  \\\n",
       "count  2434.000000  2434.000000  2434.000000  2434.000000  2434.000000   \n",
       "mean      3.192687     1.361134    45.143796    35.382498     2.526294   \n",
       "std      11.579931    18.668056    74.254734    57.832677    21.920126   \n",
       "min       0.000000     0.000000     0.000000     0.000000     0.000000   \n",
       "25%       0.000000     0.000000     0.000000     0.000000     0.000000   \n",
       "50%       0.000000     0.000000     0.000000     0.000000     0.000000   \n",
       "75%       0.000000     0.000000    74.000000    72.750000     0.000000   \n",
       "max      94.000000   325.000000   454.000000   281.000000   603.000000   \n",
       "\n",
       "            Bulk 6       Bulk 7       Bulk 8       Bulk 9      Bulk 10  \\\n",
       "count  2434.000000  2434.000000  2434.000000  2434.000000  2434.000000   \n",
       "mean     21.271159     1.770748     0.020131     0.425637     4.797453   \n",
       "std      54.324833    28.884040     0.993198     6.085601    20.412788   \n",
       "min       0.000000     0.000000     0.000000     0.000000     0.000000   \n",
       "25%       0.000000     0.000000     0.000000     0.000000     0.000000   \n",
       "50%       0.000000     0.000000     0.000000     0.000000     0.000000   \n",
       "75%       0.000000     0.000000     0.000000     0.000000     0.000000   \n",
       "max     503.000000   772.000000    49.000000   147.000000   159.000000   \n",
       "\n",
       "           Bulk 11     Bulk 12      Bulk 13      Bulk 14      Bulk 15  \n",
       "count  2434.000000  2434.00000  2434.000000  2434.000000  2434.000000  \n",
       "mean      3.998357   205.32539     1.021364   151.193919   115.266639  \n",
       "std      21.938898   153.79013    13.926188    82.994081    86.166563  \n",
       "min       0.000000     0.00000     0.000000     0.000000     0.000000  \n",
       "25%       0.000000   105.00000     0.000000   104.000000     0.000000  \n",
       "50%       0.000000   206.00000     0.000000   149.000000   106.000000  \n",
       "75%       0.000000   278.50000     0.000000   204.000000   204.000000  \n",
       "max     313.000000   853.00000   305.000000   601.000000   405.000000  "
      ]
     },
     "execution_count": 53,
     "metadata": {},
     "output_type": "execute_result"
    }
   ],
   "source": [
    "df[df_bulk.columns].describe()"
   ]
  },
  {
   "cell_type": "code",
   "execution_count": 54,
   "id": "d691c503",
   "metadata": {},
   "outputs": [
    {
     "data": {
      "text/plain": [
       "<AxesSubplot:>"
      ]
     },
     "execution_count": 54,
     "metadata": {},
     "output_type": "execute_result"
    },
    {
     "data": {
      "image/png": "[encoded data removed]",
      "text/plain": [
       "<Figure size 1080x216 with 1 Axes>"
      ]
     },
     "metadata": {},
     "output_type": "display_data"
    }
   ],
   "source": [
    "fig = plt.figure(figsize=(15,3))\n",
    "df[['time_rw', 'time_rs']].boxplot()"
   ]
  },
  {
   "cell_type": "code",
   "execution_count": 55,
   "id": "014db185",
   "metadata": {},
   "outputs": [
    {
     "data": {
      "text/plain": [
       "(2434, 31)"
      ]
     },
     "execution_count": 55,
     "metadata": {},
     "output_type": "execute_result"
    }
   ],
   "source": [
    "df.shape"
   ]
  },
  {
   "cell_type": "markdown",
   "id": "e11f366d",
   "metadata": {},
   "source": [
    "<a id='6'></a>\n",
    "## Подготовка данных к обучению"
   ]
  },
  {
   "cell_type": "code",
   "execution_count": 56,
   "id": "60550279",
   "metadata": {
    "scrolled": true
   },
   "outputs": [
    {
     "data": {
      "text/html": [
       "<div>\n",
       "<style scoped>\n",
       "    .dataframe tbody tr th:only-of-type {\n",
       "        vertical-align: middle;\n",
       "    }\n",
       "\n",
       "    .dataframe tbody tr th {\n",
       "        vertical-align: top;\n",
       "    }\n",
       "\n",
       "    .dataframe thead th {\n",
       "        text-align: right;\n",
       "    }\n",
       "</style>\n",
       "<table border=\"1\" class=\"dataframe\">\n",
       "  <thead>\n",
       "    <tr style=\"text-align: right;\">\n",
       "      <th></th>\n",
       "      <th>initial_temp</th>\n",
       "      <th>average_ap</th>\n",
       "      <th>average_rp</th>\n",
       "      <th>time_rw</th>\n",
       "      <th>time_rs</th>\n",
       "      <th>Bulk 1</th>\n",
       "      <th>Bulk 2</th>\n",
       "      <th>Bulk 3</th>\n",
       "      <th>Bulk 4</th>\n",
       "      <th>Bulk 5</th>\n",
       "      <th>...</th>\n",
       "      <th>gas</th>\n",
       "      <th>Wire 1</th>\n",
       "      <th>Wire 2</th>\n",
       "      <th>Wire 3</th>\n",
       "      <th>Wire 4</th>\n",
       "      <th>Wire 5</th>\n",
       "      <th>Wire 6</th>\n",
       "      <th>Wire 7</th>\n",
       "      <th>Wire 8</th>\n",
       "      <th>Wire 9</th>\n",
       "    </tr>\n",
       "    <tr>\n",
       "      <th>key</th>\n",
       "      <th></th>\n",
       "      <th></th>\n",
       "      <th></th>\n",
       "      <th></th>\n",
       "      <th></th>\n",
       "      <th></th>\n",
       "      <th></th>\n",
       "      <th></th>\n",
       "      <th></th>\n",
       "      <th></th>\n",
       "      <th></th>\n",
       "      <th></th>\n",
       "      <th></th>\n",
       "      <th></th>\n",
       "      <th></th>\n",
       "      <th></th>\n",
       "      <th></th>\n",
       "      <th></th>\n",
       "      <th></th>\n",
       "      <th></th>\n",
       "      <th></th>\n",
       "    </tr>\n",
       "  </thead>\n",
       "  <tbody>\n",
       "    <tr>\n",
       "      <th>1</th>\n",
       "      <td>1571.0</td>\n",
       "      <td>1.380497</td>\n",
       "      <td>0.875644</td>\n",
       "      <td>8.550000</td>\n",
       "      <td>5.800000</td>\n",
       "      <td>0.0</td>\n",
       "      <td>0.0</td>\n",
       "      <td>0.0</td>\n",
       "      <td>43.0</td>\n",
       "      <td>0.0</td>\n",
       "      <td>...</td>\n",
       "      <td>29.749986</td>\n",
       "      <td>60.059998</td>\n",
       "      <td>0.00000</td>\n",
       "      <td>0.0</td>\n",
       "      <td>0.0</td>\n",
       "      <td>0.0</td>\n",
       "      <td>0.0</td>\n",
       "      <td>0.0</td>\n",
       "      <td>0.0</td>\n",
       "      <td>0.0</td>\n",
       "    </tr>\n",
       "    <tr>\n",
       "      <th>2</th>\n",
       "      <td>1581.0</td>\n",
       "      <td>0.999706</td>\n",
       "      <td>0.665896</td>\n",
       "      <td>11.233333</td>\n",
       "      <td>10.516667</td>\n",
       "      <td>0.0</td>\n",
       "      <td>0.0</td>\n",
       "      <td>0.0</td>\n",
       "      <td>73.0</td>\n",
       "      <td>0.0</td>\n",
       "      <td>...</td>\n",
       "      <td>12.555561</td>\n",
       "      <td>96.052315</td>\n",
       "      <td>0.00000</td>\n",
       "      <td>0.0</td>\n",
       "      <td>0.0</td>\n",
       "      <td>0.0</td>\n",
       "      <td>0.0</td>\n",
       "      <td>0.0</td>\n",
       "      <td>0.0</td>\n",
       "      <td>0.0</td>\n",
       "    </tr>\n",
       "    <tr>\n",
       "      <th>3</th>\n",
       "      <td>1596.0</td>\n",
       "      <td>0.389889</td>\n",
       "      <td>0.247783</td>\n",
       "      <td>6.250000</td>\n",
       "      <td>15.416667</td>\n",
       "      <td>0.0</td>\n",
       "      <td>0.0</td>\n",
       "      <td>0.0</td>\n",
       "      <td>34.0</td>\n",
       "      <td>0.0</td>\n",
       "      <td>...</td>\n",
       "      <td>28.554793</td>\n",
       "      <td>91.160157</td>\n",
       "      <td>0.00000</td>\n",
       "      <td>0.0</td>\n",
       "      <td>0.0</td>\n",
       "      <td>0.0</td>\n",
       "      <td>0.0</td>\n",
       "      <td>0.0</td>\n",
       "      <td>0.0</td>\n",
       "      <td>0.0</td>\n",
       "    </tr>\n",
       "    <tr>\n",
       "      <th>4</th>\n",
       "      <td>1601.0</td>\n",
       "      <td>1.220955</td>\n",
       "      <td>0.754719</td>\n",
       "      <td>4.633333</td>\n",
       "      <td>1.833333</td>\n",
       "      <td>0.0</td>\n",
       "      <td>0.0</td>\n",
       "      <td>0.0</td>\n",
       "      <td>81.0</td>\n",
       "      <td>0.0</td>\n",
       "      <td>...</td>\n",
       "      <td>18.841219</td>\n",
       "      <td>89.063515</td>\n",
       "      <td>0.00000</td>\n",
       "      <td>0.0</td>\n",
       "      <td>0.0</td>\n",
       "      <td>0.0</td>\n",
       "      <td>0.0</td>\n",
       "      <td>0.0</td>\n",
       "      <td>0.0</td>\n",
       "      <td>0.0</td>\n",
       "    </tr>\n",
       "    <tr>\n",
       "      <th>5</th>\n",
       "      <td>1576.0</td>\n",
       "      <td>1.423828</td>\n",
       "      <td>0.921293</td>\n",
       "      <td>8.100000</td>\n",
       "      <td>4.600000</td>\n",
       "      <td>0.0</td>\n",
       "      <td>0.0</td>\n",
       "      <td>0.0</td>\n",
       "      <td>78.0</td>\n",
       "      <td>0.0</td>\n",
       "      <td>...</td>\n",
       "      <td>5.413692</td>\n",
       "      <td>89.238236</td>\n",
       "      <td>9.11456</td>\n",
       "      <td>0.0</td>\n",
       "      <td>0.0</td>\n",
       "      <td>0.0</td>\n",
       "      <td>0.0</td>\n",
       "      <td>0.0</td>\n",
       "      <td>0.0</td>\n",
       "      <td>0.0</td>\n",
       "    </tr>\n",
       "  </tbody>\n",
       "</table>\n",
       "<p>5 rows × 30 columns</p>\n",
       "</div>"
      ],
      "text/plain": [
       "     initial_temp  average_ap  average_rp    time_rw    time_rs  Bulk 1  \\\n",
       "key                                                                       \n",
       "1          1571.0    1.380497    0.875644   8.550000   5.800000     0.0   \n",
       "2          1581.0    0.999706    0.665896  11.233333  10.516667     0.0   \n",
       "3          1596.0    0.389889    0.247783   6.250000  15.416667     0.0   \n",
       "4          1601.0    1.220955    0.754719   4.633333   1.833333     0.0   \n",
       "5          1576.0    1.423828    0.921293   8.100000   4.600000     0.0   \n",
       "\n",
       "     Bulk 2  Bulk 3  Bulk 4  Bulk 5  ...        gas     Wire 1   Wire 2  \\\n",
       "key                                  ...                                  \n",
       "1       0.0     0.0    43.0     0.0  ...  29.749986  60.059998  0.00000   \n",
       "2       0.0     0.0    73.0     0.0  ...  12.555561  96.052315  0.00000   \n",
       "3       0.0     0.0    34.0     0.0  ...  28.554793  91.160157  0.00000   \n",
       "4       0.0     0.0    81.0     0.0  ...  18.841219  89.063515  0.00000   \n",
       "5       0.0     0.0    78.0     0.0  ...   5.413692  89.238236  9.11456   \n",
       "\n",
       "     Wire 3  Wire 4  Wire 5  Wire 6  Wire 7  Wire 8  Wire 9  \n",
       "key                                                          \n",
       "1       0.0     0.0     0.0     0.0     0.0     0.0     0.0  \n",
       "2       0.0     0.0     0.0     0.0     0.0     0.0     0.0  \n",
       "3       0.0     0.0     0.0     0.0     0.0     0.0     0.0  \n",
       "4       0.0     0.0     0.0     0.0     0.0     0.0     0.0  \n",
       "5       0.0     0.0     0.0     0.0     0.0     0.0     0.0  \n",
       "\n",
       "[5 rows x 30 columns]"
      ]
     },
     "execution_count": 56,
     "metadata": {},
     "output_type": "execute_result"
    }
   ],
   "source": [
    "features = df.drop('final_temp', axis = 1)\n",
    "features.head()"
   ]
  },
  {
   "cell_type": "code",
   "execution_count": 57,
   "id": "303db9cc",
   "metadata": {},
   "outputs": [],
   "source": [
    "target = df['final_temp']"
   ]
  },
  {
   "cell_type": "code",
   "execution_count": 58,
   "id": "6bb7be69",
   "metadata": {},
   "outputs": [],
   "source": [
    "features_train, features_test, target_train, target_test = train_test_split(features, target, test_size = 0.2, random_state = 12345)"
   ]
  },
  {
   "cell_type": "code",
   "execution_count": 59,
   "id": "2dc84d0d",
   "metadata": {},
   "outputs": [
    {
     "name": "stdout",
     "output_type": "stream",
     "text": [
      "(1947, 30) (487, 30) (1947,) (487,)\n"
     ]
    }
   ],
   "source": [
    "print(features_train.shape, features_test.shape, target_train.shape, target_test.shape)"
   ]
  },
  {
   "cell_type": "markdown",
   "id": "fb139b37",
   "metadata": {},
   "source": [
    "<a id='7'></a>\n",
    "## Линейная регрессия"
   ]
  },
  {
   "cell_type": "code",
   "execution_count": 60,
   "id": "b0c633bd",
   "metadata": {},
   "outputs": [],
   "source": [
    "model = LinearRegression()"
   ]
  },
  {
   "cell_type": "code",
   "execution_count": 61,
   "id": "6e5a1ab0",
   "metadata": {},
   "outputs": [
    {
     "data": {
      "text/plain": [
       "LinearRegression()"
      ]
     },
     "execution_count": 61,
     "metadata": {},
     "output_type": "execute_result"
    }
   ],
   "source": [
    "model.fit(features_train, target_train)"
   ]
  },
  {
   "cell_type": "code",
   "execution_count": 62,
   "id": "84b74e06",
   "metadata": {},
   "outputs": [],
   "source": [
    "predicted_test = model.predict(features_test)"
   ]
  },
  {
   "cell_type": "code",
   "execution_count": 63,
   "id": "f1abd318",
   "metadata": {},
   "outputs": [
    {
     "name": "stdout",
     "output_type": "stream",
     "text": [
      "r2 линейной регрессии на тестовой выборке 0.6939498386010649\n",
      "mae 6.745480390861809\n"
     ]
    }
   ],
   "source": [
    "print('r2 линейной регрессии на тестовой выборке', r2_score(target_test, predicted_test))\n",
    "print('mae' , mean_absolute_error(target_test, predicted_test))"
   ]
  },
  {
   "cell_type": "code",
   "execution_count": 64,
   "id": "0c588b7d",
   "metadata": {},
   "outputs": [],
   "source": [
    "res_1 = [r2_score(target_test, predicted_test), mean_absolute_error(target_test, predicted_test)]"
   ]
  },
  {
   "cell_type": "markdown",
   "id": "f03b6d19",
   "metadata": {},
   "source": [
    "<a id='8'></a>\n",
    "## Исследование значимости признаков c помощью линейной регрессии\n",
    "\n",
    "Последовательно выкинем каждый признак, посмотрим как поменяются метрики линейной регрессии"
   ]
  },
  {
   "cell_type": "code",
   "execution_count": 65,
   "id": "2df6b1e4",
   "metadata": {},
   "outputs": [
    {
     "data": {
      "text/plain": [
       "LinearRegression()"
      ]
     },
     "execution_count": 65,
     "metadata": {},
     "output_type": "execute_result"
    },
    {
     "data": {
      "text/plain": [
       "LinearRegression()"
      ]
     },
     "execution_count": 65,
     "metadata": {},
     "output_type": "execute_result"
    },
    {
     "data": {
      "text/plain": [
       "LinearRegression()"
      ]
     },
     "execution_count": 65,
     "metadata": {},
     "output_type": "execute_result"
    },
    {
     "data": {
      "text/plain": [
       "LinearRegression()"
      ]
     },
     "execution_count": 65,
     "metadata": {},
     "output_type": "execute_result"
    },
    {
     "data": {
      "text/plain": [
       "LinearRegression()"
      ]
     },
     "execution_count": 65,
     "metadata": {},
     "output_type": "execute_result"
    },
    {
     "data": {
      "text/plain": [
       "LinearRegression()"
      ]
     },
     "execution_count": 65,
     "metadata": {},
     "output_type": "execute_result"
    },
    {
     "data": {
      "text/plain": [
       "LinearRegression()"
      ]
     },
     "execution_count": 65,
     "metadata": {},
     "output_type": "execute_result"
    },
    {
     "data": {
      "text/plain": [
       "LinearRegression()"
      ]
     },
     "execution_count": 65,
     "metadata": {},
     "output_type": "execute_result"
    },
    {
     "data": {
      "text/plain": [
       "LinearRegression()"
      ]
     },
     "execution_count": 65,
     "metadata": {},
     "output_type": "execute_result"
    },
    {
     "data": {
      "text/plain": [
       "LinearRegression()"
      ]
     },
     "execution_count": 65,
     "metadata": {},
     "output_type": "execute_result"
    },
    {
     "data": {
      "text/plain": [
       "LinearRegression()"
      ]
     },
     "execution_count": 65,
     "metadata": {},
     "output_type": "execute_result"
    },
    {
     "data": {
      "text/plain": [
       "LinearRegression()"
      ]
     },
     "execution_count": 65,
     "metadata": {},
     "output_type": "execute_result"
    },
    {
     "data": {
      "text/plain": [
       "LinearRegression()"
      ]
     },
     "execution_count": 65,
     "metadata": {},
     "output_type": "execute_result"
    },
    {
     "data": {
      "text/plain": [
       "LinearRegression()"
      ]
     },
     "execution_count": 65,
     "metadata": {},
     "output_type": "execute_result"
    },
    {
     "data": {
      "text/plain": [
       "LinearRegression()"
      ]
     },
     "execution_count": 65,
     "metadata": {},
     "output_type": "execute_result"
    },
    {
     "data": {
      "text/plain": [
       "LinearRegression()"
      ]
     },
     "execution_count": 65,
     "metadata": {},
     "output_type": "execute_result"
    },
    {
     "data": {
      "text/plain": [
       "LinearRegression()"
      ]
     },
     "execution_count": 65,
     "metadata": {},
     "output_type": "execute_result"
    },
    {
     "data": {
      "text/plain": [
       "LinearRegression()"
      ]
     },
     "execution_count": 65,
     "metadata": {},
     "output_type": "execute_result"
    },
    {
     "data": {
      "text/plain": [
       "LinearRegression()"
      ]
     },
     "execution_count": 65,
     "metadata": {},
     "output_type": "execute_result"
    },
    {
     "data": {
      "text/plain": [
       "LinearRegression()"
      ]
     },
     "execution_count": 65,
     "metadata": {},
     "output_type": "execute_result"
    },
    {
     "data": {
      "text/plain": [
       "LinearRegression()"
      ]
     },
     "execution_count": 65,
     "metadata": {},
     "output_type": "execute_result"
    },
    {
     "data": {
      "text/plain": [
       "LinearRegression()"
      ]
     },
     "execution_count": 65,
     "metadata": {},
     "output_type": "execute_result"
    },
    {
     "data": {
      "text/plain": [
       "LinearRegression()"
      ]
     },
     "execution_count": 65,
     "metadata": {},
     "output_type": "execute_result"
    },
    {
     "data": {
      "text/plain": [
       "LinearRegression()"
      ]
     },
     "execution_count": 65,
     "metadata": {},
     "output_type": "execute_result"
    },
    {
     "data": {
      "text/plain": [
       "LinearRegression()"
      ]
     },
     "execution_count": 65,
     "metadata": {},
     "output_type": "execute_result"
    },
    {
     "data": {
      "text/plain": [
       "LinearRegression()"
      ]
     },
     "execution_count": 65,
     "metadata": {},
     "output_type": "execute_result"
    },
    {
     "data": {
      "text/plain": [
       "LinearRegression()"
      ]
     },
     "execution_count": 65,
     "metadata": {},
     "output_type": "execute_result"
    },
    {
     "data": {
      "text/plain": [
       "LinearRegression()"
      ]
     },
     "execution_count": 65,
     "metadata": {},
     "output_type": "execute_result"
    },
    {
     "data": {
      "text/plain": [
       "LinearRegression()"
      ]
     },
     "execution_count": 65,
     "metadata": {},
     "output_type": "execute_result"
    },
    {
     "data": {
      "text/plain": [
       "LinearRegression()"
      ]
     },
     "execution_count": 65,
     "metadata": {},
     "output_type": "execute_result"
    }
   ],
   "source": [
    "d = {'metrics' : ['MAE', 'R2']}\n",
    "for drop_col in df.drop('final_temp', axis = 1).columns:\n",
    "    model = LinearRegression()\n",
    "    model.fit(features_train.drop(drop_col, axis = 1), target_train)\n",
    "    predicted_test = model.predict(features_test.drop(drop_col, axis = 1))\n",
    "    d[drop_col] = []\n",
    "    d[drop_col].append(mean_absolute_error(target_test, predicted_test))\n",
    "    d[drop_col].append(r2_score(target_test, predicted_test))"
   ]
  },
  {
   "cell_type": "code",
   "execution_count": 66,
   "id": "33d82b6d",
   "metadata": {},
   "outputs": [],
   "source": [
    "result = pd.DataFrame(d)\n",
    "result.set_index('metrics', inplace = True)"
   ]
  },
  {
   "cell_type": "code",
   "execution_count": 67,
   "id": "b10f3105",
   "metadata": {},
   "outputs": [
    {
     "data": {
      "text/html": [
       "<div>\n",
       "<style scoped>\n",
       "    .dataframe tbody tr th:only-of-type {\n",
       "        vertical-align: middle;\n",
       "    }\n",
       "\n",
       "    .dataframe tbody tr th {\n",
       "        vertical-align: top;\n",
       "    }\n",
       "\n",
       "    .dataframe thead th {\n",
       "        text-align: right;\n",
       "    }\n",
       "</style>\n",
       "<table border=\"1\" class=\"dataframe\">\n",
       "  <thead>\n",
       "    <tr style=\"text-align: right;\">\n",
       "      <th></th>\n",
       "      <th>initial_temp</th>\n",
       "      <th>average_ap</th>\n",
       "      <th>average_rp</th>\n",
       "      <th>time_rw</th>\n",
       "      <th>time_rs</th>\n",
       "      <th>gas</th>\n",
       "    </tr>\n",
       "    <tr>\n",
       "      <th>metrics</th>\n",
       "      <th></th>\n",
       "      <th></th>\n",
       "      <th></th>\n",
       "      <th></th>\n",
       "      <th></th>\n",
       "      <th></th>\n",
       "    </tr>\n",
       "  </thead>\n",
       "  <tbody>\n",
       "    <tr>\n",
       "      <th>MAE</th>\n",
       "      <td>9.538366</td>\n",
       "      <td>7.542253</td>\n",
       "      <td>7.093772</td>\n",
       "      <td>7.406966</td>\n",
       "      <td>7.269375</td>\n",
       "      <td>6.728510</td>\n",
       "    </tr>\n",
       "    <tr>\n",
       "      <th>R2</th>\n",
       "      <td>0.261781</td>\n",
       "      <td>0.614291</td>\n",
       "      <td>0.658166</td>\n",
       "      <td>0.599784</td>\n",
       "      <td>0.634660</td>\n",
       "      <td>0.695562</td>\n",
       "    </tr>\n",
       "  </tbody>\n",
       "</table>\n",
       "</div>"
      ],
      "text/plain": [
       "         initial_temp  average_ap  average_rp   time_rw   time_rs       gas\n",
       "metrics                                                                    \n",
       "MAE          9.538366    7.542253    7.093772  7.406966  7.269375  6.728510\n",
       "R2           0.261781    0.614291    0.658166  0.599784  0.634660  0.695562"
      ]
     },
     "execution_count": 67,
     "metadata": {},
     "output_type": "execute_result"
    }
   ],
   "source": [
    "result.drop(['Bulk ' + str(i) for i in range (1, 16)] + ['Wire ' + str(i) for i in range (1, 10)], axis = 1)"
   ]
  },
  {
   "cell_type": "code",
   "execution_count": 68,
   "id": "9b8d4f77",
   "metadata": {},
   "outputs": [
    {
     "data": {
      "text/html": [
       "<div>\n",
       "<style scoped>\n",
       "    .dataframe tbody tr th:only-of-type {\n",
       "        vertical-align: middle;\n",
       "    }\n",
       "\n",
       "    .dataframe tbody tr th {\n",
       "        vertical-align: top;\n",
       "    }\n",
       "\n",
       "    .dataframe thead th {\n",
       "        text-align: right;\n",
       "    }\n",
       "</style>\n",
       "<table border=\"1\" class=\"dataframe\">\n",
       "  <thead>\n",
       "    <tr style=\"text-align: right;\">\n",
       "      <th></th>\n",
       "      <th>Bulk 1</th>\n",
       "      <th>Bulk 2</th>\n",
       "      <th>Bulk 3</th>\n",
       "      <th>Bulk 4</th>\n",
       "      <th>Bulk 5</th>\n",
       "      <th>Bulk 6</th>\n",
       "      <th>Bulk 7</th>\n",
       "      <th>Bulk 8</th>\n",
       "      <th>Bulk 9</th>\n",
       "      <th>Bulk 10</th>\n",
       "      <th>Bulk 11</th>\n",
       "      <th>Bulk 12</th>\n",
       "      <th>Bulk 13</th>\n",
       "      <th>Bulk 14</th>\n",
       "      <th>Bulk 15</th>\n",
       "    </tr>\n",
       "    <tr>\n",
       "      <th>metrics</th>\n",
       "      <th></th>\n",
       "      <th></th>\n",
       "      <th></th>\n",
       "      <th></th>\n",
       "      <th></th>\n",
       "      <th></th>\n",
       "      <th></th>\n",
       "      <th></th>\n",
       "      <th></th>\n",
       "      <th></th>\n",
       "      <th></th>\n",
       "      <th></th>\n",
       "      <th></th>\n",
       "      <th></th>\n",
       "      <th></th>\n",
       "    </tr>\n",
       "  </thead>\n",
       "  <tbody>\n",
       "    <tr>\n",
       "      <th>MAE</th>\n",
       "      <td>6.833969</td>\n",
       "      <td>6.745729</td>\n",
       "      <td>6.757783</td>\n",
       "      <td>6.754304</td>\n",
       "      <td>6.742834</td>\n",
       "      <td>6.766976</td>\n",
       "      <td>6.741471</td>\n",
       "      <td>6.745920</td>\n",
       "      <td>6.745184</td>\n",
       "      <td>6.750126</td>\n",
       "      <td>6.734243</td>\n",
       "      <td>6.752065</td>\n",
       "      <td>6.740551</td>\n",
       "      <td>6.868958</td>\n",
       "      <td>6.743096</td>\n",
       "    </tr>\n",
       "    <tr>\n",
       "      <th>R2</th>\n",
       "      <td>0.684569</td>\n",
       "      <td>0.693913</td>\n",
       "      <td>0.692527</td>\n",
       "      <td>0.692829</td>\n",
       "      <td>0.694131</td>\n",
       "      <td>0.691387</td>\n",
       "      <td>0.693797</td>\n",
       "      <td>0.693754</td>\n",
       "      <td>0.693820</td>\n",
       "      <td>0.693380</td>\n",
       "      <td>0.694908</td>\n",
       "      <td>0.693605</td>\n",
       "      <td>0.694546</td>\n",
       "      <td>0.687258</td>\n",
       "      <td>0.693039</td>\n",
       "    </tr>\n",
       "  </tbody>\n",
       "</table>\n",
       "</div>"
      ],
      "text/plain": [
       "           Bulk 1    Bulk 2    Bulk 3    Bulk 4    Bulk 5    Bulk 6    Bulk 7  \\\n",
       "metrics                                                                         \n",
       "MAE      6.833969  6.745729  6.757783  6.754304  6.742834  6.766976  6.741471   \n",
       "R2       0.684569  0.693913  0.692527  0.692829  0.694131  0.691387  0.693797   \n",
       "\n",
       "           Bulk 8    Bulk 9   Bulk 10   Bulk 11   Bulk 12   Bulk 13   Bulk 14  \\\n",
       "metrics                                                                         \n",
       "MAE      6.745920  6.745184  6.750126  6.734243  6.752065  6.740551  6.868958   \n",
       "R2       0.693754  0.693820  0.693380  0.694908  0.693605  0.694546  0.687258   \n",
       "\n",
       "          Bulk 15  \n",
       "metrics            \n",
       "MAE      6.743096  \n",
       "R2       0.693039  "
      ]
     },
     "execution_count": 68,
     "metadata": {},
     "output_type": "execute_result"
    }
   ],
   "source": [
    "result[['Bulk ' + str(i) for i in range (1, 16)]]"
   ]
  },
  {
   "cell_type": "code",
   "execution_count": 69,
   "id": "fdddca10",
   "metadata": {},
   "outputs": [
    {
     "data": {
      "text/html": [
       "<div>\n",
       "<style scoped>\n",
       "    .dataframe tbody tr th:only-of-type {\n",
       "        vertical-align: middle;\n",
       "    }\n",
       "\n",
       "    .dataframe tbody tr th {\n",
       "        vertical-align: top;\n",
       "    }\n",
       "\n",
       "    .dataframe thead th {\n",
       "        text-align: right;\n",
       "    }\n",
       "</style>\n",
       "<table border=\"1\" class=\"dataframe\">\n",
       "  <thead>\n",
       "    <tr style=\"text-align: right;\">\n",
       "      <th></th>\n",
       "      <th>Wire 1</th>\n",
       "      <th>Wire 2</th>\n",
       "      <th>Wire 3</th>\n",
       "      <th>Wire 4</th>\n",
       "      <th>Wire 5</th>\n",
       "      <th>Wire 6</th>\n",
       "      <th>Wire 7</th>\n",
       "      <th>Wire 8</th>\n",
       "      <th>Wire 9</th>\n",
       "    </tr>\n",
       "    <tr>\n",
       "      <th>metrics</th>\n",
       "      <th></th>\n",
       "      <th></th>\n",
       "      <th></th>\n",
       "      <th></th>\n",
       "      <th></th>\n",
       "      <th></th>\n",
       "      <th></th>\n",
       "      <th></th>\n",
       "      <th></th>\n",
       "    </tr>\n",
       "  </thead>\n",
       "  <tbody>\n",
       "    <tr>\n",
       "      <th>MAE</th>\n",
       "      <td>6.743003</td>\n",
       "      <td>6.880592</td>\n",
       "      <td>6.748606</td>\n",
       "      <td>6.741289</td>\n",
       "      <td>6.74548</td>\n",
       "      <td>6.741620</td>\n",
       "      <td>6.744542</td>\n",
       "      <td>6.744969</td>\n",
       "      <td>6.747450</td>\n",
       "    </tr>\n",
       "    <tr>\n",
       "      <th>R2</th>\n",
       "      <td>0.693298</td>\n",
       "      <td>0.683590</td>\n",
       "      <td>0.693875</td>\n",
       "      <td>0.694092</td>\n",
       "      <td>0.69395</td>\n",
       "      <td>0.696283</td>\n",
       "      <td>0.693668</td>\n",
       "      <td>0.693867</td>\n",
       "      <td>0.693936</td>\n",
       "    </tr>\n",
       "  </tbody>\n",
       "</table>\n",
       "</div>"
      ],
      "text/plain": [
       "           Wire 1    Wire 2    Wire 3    Wire 4   Wire 5    Wire 6    Wire 7  \\\n",
       "metrics                                                                        \n",
       "MAE      6.743003  6.880592  6.748606  6.741289  6.74548  6.741620  6.744542   \n",
       "R2       0.693298  0.683590  0.693875  0.694092  0.69395  0.696283  0.693668   \n",
       "\n",
       "           Wire 8    Wire 9  \n",
       "metrics                      \n",
       "MAE      6.744969  6.747450  \n",
       "R2       0.693867  0.693936  "
      ]
     },
     "execution_count": 69,
     "metadata": {},
     "output_type": "execute_result"
    }
   ],
   "source": [
    "result[['Wire ' + str(i) for i in range (1, 10)]]"
   ]
  },
  {
   "cell_type": "markdown",
   "id": "6c2f39b3",
   "metadata": {},
   "source": [
    "Наиболее значимые добавки __BULK - 1, 14__ и __WIRE 2__"
   ]
  },
  {
   "cell_type": "markdown",
   "id": "431f412e",
   "metadata": {},
   "source": [
    "<a id='9'></a>\n",
    "## Случайный лес"
   ]
  },
  {
   "cell_type": "code",
   "execution_count": 70,
   "id": "7244d207",
   "metadata": {},
   "outputs": [],
   "source": [
    "def cv_table(CV_model):\n",
    "    \n",
    "    d = {}\n",
    "    for param in CV_model.cv_results_['params'][0].keys():\n",
    "        d[param] = []\n",
    "    \n",
    "    for string in CV_model.cv_results_['params']:\n",
    "            for param in CV_model.cv_results_['params'][0].keys():\n",
    "                d[param].append(string[param])\n",
    "    \n",
    "    d['R2'] = list(CV_model.cv_results_['mean_test_score'])\n",
    "    return pd.DataFrame(d)"
   ]
  },
  {
   "cell_type": "code",
   "execution_count": 71,
   "id": "30191193",
   "metadata": {},
   "outputs": [],
   "source": [
    "param_grid = { \n",
    "    'n_estimators': [10, 50, 100, 500],\n",
    "    'max_depth' : [5, 10, 15, 20, 25, 30],\n",
    "}"
   ]
  },
  {
   "cell_type": "code",
   "execution_count": 72,
   "id": "410640de",
   "metadata": {},
   "outputs": [],
   "source": [
    "model = RandomForestRegressor(random_state = 12345)"
   ]
  },
  {
   "cell_type": "code",
   "execution_count": 73,
   "id": "35464c94",
   "metadata": {},
   "outputs": [
    {
     "name": "stdout",
     "output_type": "stream",
     "text": [
      "CPU times: user 1min 24s, sys: 0 ns, total: 1min 24s\n",
      "Wall time: 1min 24s\n"
     ]
    },
    {
     "data": {
      "text/plain": [
       "GridSearchCV(cv=3, estimator=RandomForestRegressor(random_state=12345),\n",
       "             param_grid={'max_depth': [5, 10, 15, 20, 25, 30],\n",
       "                         'n_estimators': [10, 50, 100, 500]})"
      ]
     },
     "execution_count": 73,
     "metadata": {},
     "output_type": "execute_result"
    }
   ],
   "source": [
    "%%time\n",
    "CV_rf = GridSearchCV(estimator=model, param_grid=param_grid, cv= 3)\n",
    "CV_rf.fit(features_train, target_train)"
   ]
  },
  {
   "cell_type": "code",
   "execution_count": 74,
   "id": "3d2dfc5b",
   "metadata": {},
   "outputs": [
    {
     "data": {
      "text/plain": [
       "<AxesSubplot:xlabel='max_depth', ylabel='R2'>"
      ]
     },
     "execution_count": 74,
     "metadata": {},
     "output_type": "execute_result"
    },
    {
     "data": {
      "image/png": "[encoded data removed]",
      "text/plain": [
       "<Figure size 432x288 with 1 Axes>"
      ]
     },
     "metadata": {},
     "output_type": "display_data"
    }
   ],
   "source": [
    "sns.lineplot(data = cv_table(CV_rf), x = 'max_depth', y = 'R2', hue = 'n_estimators')"
   ]
  },
  {
   "cell_type": "code",
   "execution_count": 75,
   "id": "816126bf",
   "metadata": {},
   "outputs": [
    {
     "data": {
      "text/plain": [
       "{'max_depth': 20, 'n_estimators': 100}"
      ]
     },
     "execution_count": 75,
     "metadata": {},
     "output_type": "execute_result"
    }
   ],
   "source": [
    "CV_rf.best_params_"
   ]
  },
  {
   "cell_type": "code",
   "execution_count": 76,
   "id": "909a3c5a",
   "metadata": {},
   "outputs": [],
   "source": [
    "model = RandomForestRegressor(max_depth = 20, n_estimators = 100, random_state = 12345)"
   ]
  },
  {
   "cell_type": "code",
   "execution_count": 77,
   "id": "4e4700d7",
   "metadata": {},
   "outputs": [
    {
     "data": {
      "text/plain": [
       "RandomForestRegressor(max_depth=20, random_state=12345)"
      ]
     },
     "execution_count": 77,
     "metadata": {},
     "output_type": "execute_result"
    }
   ],
   "source": [
    "model.fit(features_train, target_train)"
   ]
  },
  {
   "cell_type": "code",
   "execution_count": 78,
   "id": "55a5bf7b",
   "metadata": {},
   "outputs": [],
   "source": [
    "predicted_test = model.predict(features_test)"
   ]
  },
  {
   "cell_type": "code",
   "execution_count": 79,
   "id": "e20b73bf",
   "metadata": {},
   "outputs": [
    {
     "name": "stdout",
     "output_type": "stream",
     "text": [
      "r2 случайного леса на тестовой выборке 0.7392408326000314\n",
      "mae 5.894765610880836\n",
      "оптимальные параметры {'max_depth': 20, 'n_estimators': 100}\n"
     ]
    }
   ],
   "source": [
    "print('r2 случайного леса на тестовой выборке', r2_score(target_test, predicted_test))\n",
    "print('mae' , mean_absolute_error(target_test, predicted_test))\n",
    "print('оптимальные параметры' , CV_rf.best_params_)"
   ]
  },
  {
   "cell_type": "code",
   "execution_count": 80,
   "id": "e1b32b2a",
   "metadata": {},
   "outputs": [],
   "source": [
    "res2 = [r2_score(target_test, predicted_test), mean_absolute_error(target_test, predicted_test)]"
   ]
  },
  {
   "cell_type": "markdown",
   "id": "740f938a",
   "metadata": {},
   "source": [
    "<a id='10'></a>\n",
    "## Исследование значимости признаков с помощью случайного леса"
   ]
  },
  {
   "cell_type": "code",
   "execution_count": 81,
   "id": "3b59af5d",
   "metadata": {},
   "outputs": [
    {
     "data": {
      "text/plain": [
       "<AxesSubplot:>"
      ]
     },
     "execution_count": 81,
     "metadata": {},
     "output_type": "execute_result"
    },
    {
     "data": {
      "image/png": "[encoded data removed]",
      "text/plain": [
       "<Figure size 2520x360 with 1 Axes>"
      ]
     },
     "metadata": {},
     "output_type": "display_data"
    }
   ],
   "source": [
    "fig = plt.figure(figsize=(35,5))\n",
    "sns.barplot(x = features_train.columns, y = model.feature_importances_)"
   ]
  },
  {
   "cell_type": "code",
   "execution_count": 82,
   "id": "9fd7e837",
   "metadata": {},
   "outputs": [
    {
     "data": {
      "text/plain": [
       "array([0.00000000e+00, 3.45293198e-08, 6.21904959e-05, 6.70952061e-05,\n",
       "       1.03255904e-04, 1.41892875e-04, 1.17308935e-03, 1.32578549e-03,\n",
       "       2.92636504e-03, 3.46270378e-03, 4.30066246e-03, 5.13084874e-03,\n",
       "       5.18542173e-03, 7.35101863e-03, 8.45451633e-03, 9.29840497e-03,\n",
       "       1.10674342e-02, 1.43284331e-02, 1.67536112e-02, 1.70523009e-02,\n",
       "       1.75242537e-02, 2.15554275e-02, 2.20552970e-02, 2.35703649e-02,\n",
       "       2.59490165e-02, 4.80737964e-02, 5.99337982e-02, 1.00529941e-01,\n",
       "       2.63447714e-01, 3.09175326e-01])"
      ]
     },
     "execution_count": 82,
     "metadata": {},
     "output_type": "execute_result"
    }
   ],
   "source": [
    "np.sort(model.feature_importances_)"
   ]
  },
  {
   "cell_type": "markdown",
   "id": "1a3c1c71",
   "metadata": {},
   "source": [
    "Оставим признаки со знаимостью более 10E-4"
   ]
  },
  {
   "cell_type": "code",
   "execution_count": 83,
   "id": "ad4bf2a9",
   "metadata": {},
   "outputs": [],
   "source": [
    "df_imp = pd.DataFrame(data = [model.feature_importances_], columns = features_train.columns).T"
   ]
  },
  {
   "cell_type": "markdown",
   "id": "97b20602",
   "metadata": {},
   "source": [
    "список наименее значимых признаков"
   ]
  },
  {
   "cell_type": "code",
   "execution_count": 84,
   "id": "138e0c04",
   "metadata": {},
   "outputs": [
    {
     "data": {
      "text/html": [
       "<div>\n",
       "<style scoped>\n",
       "    .dataframe tbody tr th:only-of-type {\n",
       "        vertical-align: middle;\n",
       "    }\n",
       "\n",
       "    .dataframe tbody tr th {\n",
       "        vertical-align: top;\n",
       "    }\n",
       "\n",
       "    .dataframe thead th {\n",
       "        text-align: right;\n",
       "    }\n",
       "</style>\n",
       "<table border=\"1\" class=\"dataframe\">\n",
       "  <thead>\n",
       "    <tr style=\"text-align: right;\">\n",
       "      <th></th>\n",
       "      <th>0</th>\n",
       "    </tr>\n",
       "  </thead>\n",
       "  <tbody>\n",
       "    <tr>\n",
       "      <th>Bulk 8</th>\n",
       "      <td>3.452932e-08</td>\n",
       "    </tr>\n",
       "    <tr>\n",
       "      <th>Bulk 9</th>\n",
       "      <td>6.219050e-05</td>\n",
       "    </tr>\n",
       "    <tr>\n",
       "      <th>Bulk 13</th>\n",
       "      <td>6.709521e-05</td>\n",
       "    </tr>\n",
       "    <tr>\n",
       "      <th>Wire 5</th>\n",
       "      <td>0.000000e+00</td>\n",
       "    </tr>\n",
       "    <tr>\n",
       "      <th>Wire 8</th>\n",
       "      <td>1.418929e-04</td>\n",
       "    </tr>\n",
       "    <tr>\n",
       "      <th>Wire 9</th>\n",
       "      <td>1.032559e-04</td>\n",
       "    </tr>\n",
       "  </tbody>\n",
       "</table>\n",
       "</div>"
      ],
      "text/plain": [
       "                    0\n",
       "Bulk 8   3.452932e-08\n",
       "Bulk 9   6.219050e-05\n",
       "Bulk 13  6.709521e-05\n",
       "Wire 5   0.000000e+00\n",
       "Wire 8   1.418929e-04\n",
       "Wire 9   1.032559e-04"
      ]
     },
     "execution_count": 84,
     "metadata": {},
     "output_type": "execute_result"
    }
   ],
   "source": [
    "df_imp[df_imp[0] < 10E-4]"
   ]
  },
  {
   "cell_type": "code",
   "execution_count": 85,
   "id": "a760cff1",
   "metadata": {},
   "outputs": [
    {
     "data": {
      "text/plain": [
       "Index(['Bulk 8', 'Bulk 9', 'Bulk 13', 'Wire 5', 'Wire 8', 'Wire 9'], dtype='object')"
      ]
     },
     "execution_count": 85,
     "metadata": {},
     "output_type": "execute_result"
    }
   ],
   "source": [
    "unimp_col = df_imp[df_imp[0] < 10E-4].T.columns\n",
    "unimp_col"
   ]
  },
  {
   "cell_type": "markdown",
   "id": "49dbeabb",
   "metadata": {},
   "source": [
    "<a id='11'></a>\n",
    "## LightGBM"
   ]
  },
  {
   "cell_type": "code",
   "execution_count": 86,
   "id": "3dd3f3fe",
   "metadata": {},
   "outputs": [],
   "source": [
    "model = LGBMRegressor(random_state = 12345)"
   ]
  },
  {
   "cell_type": "markdown",
   "id": "4e58f034",
   "metadata": {},
   "source": [
    "Согласно документации количество листьев недолжно превышать $2^{depth} = 512$ при depth = 9, учтем это при подборе гиперпараметров"
   ]
  },
  {
   "cell_type": "code",
   "execution_count": 87,
   "id": "7c6f7f3c",
   "metadata": {},
   "outputs": [],
   "source": [
    "param_grid = { \n",
    "    'n_estimators': [500],\n",
    "    'max_depth' : [1, 2, 3, 4, 5, 7, 9],\n",
    "    'num_leaves' : [5, 10, 50]\n",
    "}"
   ]
  },
  {
   "cell_type": "code",
   "execution_count": 88,
   "id": "69cb3c1d",
   "metadata": {},
   "outputs": [
    {
     "name": "stdout",
     "output_type": "stream",
     "text": [
      "CPU times: user 45.5 s, sys: 0 ns, total: 45.5 s\n",
      "Wall time: 5.74 s\n"
     ]
    },
    {
     "data": {
      "text/plain": [
       "GridSearchCV(cv=3, estimator=LGBMRegressor(random_state=12345),\n",
       "             param_grid={'max_depth': [1, 2, 3, 4, 5, 7, 9],\n",
       "                         'n_estimators': [500], 'num_leaves': [5, 10, 50]})"
      ]
     },
     "execution_count": 88,
     "metadata": {},
     "output_type": "execute_result"
    }
   ],
   "source": [
    "%%time\n",
    "CV_gb = GridSearchCV(estimator=model, param_grid=param_grid, cv= 3)\n",
    "CV_gb.fit(features_train, target_train)"
   ]
  },
  {
   "cell_type": "code",
   "execution_count": 89,
   "id": "992f083f",
   "metadata": {
    "scrolled": true
   },
   "outputs": [
    {
     "data": {
      "text/plain": [
       "{'max_depth': 4, 'n_estimators': 500, 'num_leaves': 5}"
      ]
     },
     "execution_count": 89,
     "metadata": {},
     "output_type": "execute_result"
    }
   ],
   "source": [
    "CV_gb.best_params_"
   ]
  },
  {
   "cell_type": "code",
   "execution_count": 90,
   "id": "56455524",
   "metadata": {},
   "outputs": [
    {
     "data": {
      "text/plain": [
       "<AxesSubplot:xlabel='max_depth', ylabel='R2'>"
      ]
     },
     "execution_count": 90,
     "metadata": {},
     "output_type": "execute_result"
    },
    {
     "data": {
      "image/png": "[encoded data removed]",
      "text/plain": [
       "<Figure size 432x288 with 1 Axes>"
      ]
     },
     "metadata": {},
     "output_type": "display_data"
    }
   ],
   "source": [
    "sns.lineplot(data = cv_table(CV_gb), x = 'max_depth', y = 'R2', hue = 'num_leaves')"
   ]
  },
  {
   "cell_type": "code",
   "execution_count": 91,
   "id": "aa5ac5ac",
   "metadata": {},
   "outputs": [],
   "source": [
    "model = LGBMRegressor(max_depth = 4, n_estimators = 500,  num_leaves = 5, random_state = 12345)"
   ]
  },
  {
   "cell_type": "code",
   "execution_count": 92,
   "id": "c520b898",
   "metadata": {},
   "outputs": [
    {
     "data": {
      "text/plain": [
       "LGBMRegressor(max_depth=4, n_estimators=500, num_leaves=5, random_state=12345)"
      ]
     },
     "execution_count": 92,
     "metadata": {},
     "output_type": "execute_result"
    }
   ],
   "source": [
    "model.fit(features_train, target_train)"
   ]
  },
  {
   "cell_type": "code",
   "execution_count": 93,
   "id": "b9d3463b",
   "metadata": {},
   "outputs": [],
   "source": [
    "predicted_test = model.predict(features_test)"
   ]
  },
  {
   "cell_type": "code",
   "execution_count": 94,
   "id": "02180d59",
   "metadata": {},
   "outputs": [
    {
     "name": "stdout",
     "output_type": "stream",
     "text": [
      "r2 градиентного бустинга на тестовой выборке 0.7677822808363184\n",
      "mae 5.5076095940219885\n",
      "оптимальные параметры {'max_depth': 4, 'n_estimators': 500, 'num_leaves': 5}\n"
     ]
    }
   ],
   "source": [
    "print('r2 градиентного бустинга на тестовой выборке', r2_score(target_test, predicted_test))\n",
    "print('mae' , mean_absolute_error(target_test, predicted_test))\n",
    "print('оптимальные параметры' , CV_gb.best_params_)"
   ]
  },
  {
   "cell_type": "code",
   "execution_count": 95,
   "id": "e4d4ba05",
   "metadata": {},
   "outputs": [],
   "source": [
    "res3 = [r2_score(target_test, predicted_test), mean_absolute_error(target_test, predicted_test)]"
   ]
  },
  {
   "cell_type": "code",
   "execution_count": 103,
   "id": "878b6d09",
   "metadata": {},
   "outputs": [],
   "source": [
    "def _color_red_or_green(val):\n",
    "    color = 'red' if val == True else 'green'\n",
    "    return 'color: %s' % color"
   ]
  },
  {
   "cell_type": "code",
   "execution_count": 104,
   "id": "509baa38",
   "metadata": {},
   "outputs": [
    {
     "data": {
      "text/html": [
       "<style  type=\"text/css\" >\n",
       "#T_80561_row0_col0,#T_80561_row1_col1,#T_80561_row2_col2,#T_80561_row3_col3,#T_80561_row4_col4,#T_80561_row5_col5,#T_80561_row6_col6,#T_80561_row7_col7,#T_80561_row8_col8,#T_80561_row9_col9,#T_80561_row10_col10,#T_80561_row11_col11,#T_80561_row12_col12,#T_80561_row13_col13,#T_80561_row14_col14{\n",
       "            color:  red;\n",
       "        }#T_80561_row0_col1,#T_80561_row0_col2,#T_80561_row0_col3,#T_80561_row0_col4,#T_80561_row0_col5,#T_80561_row0_col6,#T_80561_row0_col7,#T_80561_row0_col8,#T_80561_row0_col9,#T_80561_row0_col10,#T_80561_row0_col11,#T_80561_row0_col12,#T_80561_row0_col13,#T_80561_row0_col14,#T_80561_row1_col0,#T_80561_row1_col2,#T_80561_row1_col3,#T_80561_row1_col4,#T_80561_row1_col5,#T_80561_row1_col6,#T_80561_row1_col7,#T_80561_row1_col8,#T_80561_row1_col9,#T_80561_row1_col10,#T_80561_row1_col11,#T_80561_row1_col12,#T_80561_row1_col13,#T_80561_row1_col14,#T_80561_row2_col0,#T_80561_row2_col1,#T_80561_row2_col3,#T_80561_row2_col4,#T_80561_row2_col5,#T_80561_row2_col6,#T_80561_row2_col7,#T_80561_row2_col8,#T_80561_row2_col9,#T_80561_row2_col10,#T_80561_row2_col11,#T_80561_row2_col12,#T_80561_row2_col13,#T_80561_row2_col14,#T_80561_row3_col0,#T_80561_row3_col1,#T_80561_row3_col2,#T_80561_row3_col4,#T_80561_row3_col5,#T_80561_row3_col6,#T_80561_row3_col7,#T_80561_row3_col8,#T_80561_row3_col9,#T_80561_row3_col10,#T_80561_row3_col11,#T_80561_row3_col12,#T_80561_row3_col13,#T_80561_row3_col14,#T_80561_row4_col0,#T_80561_row4_col1,#T_80561_row4_col2,#T_80561_row4_col3,#T_80561_row4_col5,#T_80561_row4_col6,#T_80561_row4_col7,#T_80561_row4_col8,#T_80561_row4_col9,#T_80561_row4_col10,#T_80561_row4_col11,#T_80561_row4_col12,#T_80561_row4_col13,#T_80561_row4_col14,#T_80561_row5_col0,#T_80561_row5_col1,#T_80561_row5_col2,#T_80561_row5_col3,#T_80561_row5_col4,#T_80561_row5_col6,#T_80561_row5_col7,#T_80561_row5_col8,#T_80561_row5_col9,#T_80561_row5_col10,#T_80561_row5_col11,#T_80561_row5_col12,#T_80561_row5_col13,#T_80561_row5_col14,#T_80561_row6_col0,#T_80561_row6_col1,#T_80561_row6_col2,#T_80561_row6_col3,#T_80561_row6_col4,#T_80561_row6_col5,#T_80561_row6_col7,#T_80561_row6_col8,#T_80561_row6_col9,#T_80561_row6_col10,#T_80561_row6_col11,#T_80561_row6_col12,#T_80561_row6_col13,#T_80561_row6_col14,#T_80561_row7_col0,#T_80561_row7_col1,#T_80561_row7_col2,#T_80561_row7_col3,#T_80561_row7_col4,#T_80561_row7_col5,#T_80561_row7_col6,#T_80561_row7_col8,#T_80561_row7_col9,#T_80561_row7_col10,#T_80561_row7_col11,#T_80561_row7_col12,#T_80561_row7_col13,#T_80561_row7_col14,#T_80561_row8_col0,#T_80561_row8_col1,#T_80561_row8_col2,#T_80561_row8_col3,#T_80561_row8_col4,#T_80561_row8_col5,#T_80561_row8_col6,#T_80561_row8_col7,#T_80561_row8_col9,#T_80561_row8_col10,#T_80561_row8_col11,#T_80561_row8_col12,#T_80561_row8_col13,#T_80561_row8_col14,#T_80561_row9_col0,#T_80561_row9_col1,#T_80561_row9_col2,#T_80561_row9_col3,#T_80561_row9_col4,#T_80561_row9_col5,#T_80561_row9_col6,#T_80561_row9_col7,#T_80561_row9_col8,#T_80561_row9_col10,#T_80561_row9_col11,#T_80561_row9_col12,#T_80561_row9_col13,#T_80561_row9_col14,#T_80561_row10_col0,#T_80561_row10_col1,#T_80561_row10_col2,#T_80561_row10_col3,#T_80561_row10_col4,#T_80561_row10_col5,#T_80561_row10_col6,#T_80561_row10_col7,#T_80561_row10_col8,#T_80561_row10_col9,#T_80561_row10_col11,#T_80561_row10_col12,#T_80561_row10_col13,#T_80561_row10_col14,#T_80561_row11_col0,#T_80561_row11_col1,#T_80561_row11_col2,#T_80561_row11_col3,#T_80561_row11_col4,#T_80561_row11_col5,#T_80561_row11_col6,#T_80561_row11_col7,#T_80561_row11_col8,#T_80561_row11_col9,#T_80561_row11_col10,#T_80561_row11_col12,#T_80561_row11_col13,#T_80561_row11_col14,#T_80561_row12_col0,#T_80561_row12_col1,#T_80561_row12_col2,#T_80561_row12_col3,#T_80561_row12_col4,#T_80561_row12_col5,#T_80561_row12_col6,#T_80561_row12_col7,#T_80561_row12_col8,#T_80561_row12_col9,#T_80561_row12_col10,#T_80561_row12_col11,#T_80561_row12_col13,#T_80561_row12_col14,#T_80561_row13_col0,#T_80561_row13_col1,#T_80561_row13_col2,#T_80561_row13_col3,#T_80561_row13_col4,#T_80561_row13_col5,#T_80561_row13_col6,#T_80561_row13_col7,#T_80561_row13_col8,#T_80561_row13_col9,#T_80561_row13_col10,#T_80561_row13_col11,#T_80561_row13_col12,#T_80561_row13_col14,#T_80561_row14_col0,#T_80561_row14_col1,#T_80561_row14_col2,#T_80561_row14_col3,#T_80561_row14_col4,#T_80561_row14_col5,#T_80561_row14_col6,#T_80561_row14_col7,#T_80561_row14_col8,#T_80561_row14_col9,#T_80561_row14_col10,#T_80561_row14_col11,#T_80561_row14_col12,#T_80561_row14_col13{\n",
       "            color:  green;\n",
       "        }</style><table id=\"T_80561_\" ><thead>    <tr>        <th class=\"blank level0\" ></th>        <th class=\"col_heading level0 col0\" >Bulk 1</th>        <th class=\"col_heading level0 col1\" >Bulk 2</th>        <th class=\"col_heading level0 col2\" >Bulk 3</th>        <th class=\"col_heading level0 col3\" >Bulk 4</th>        <th class=\"col_heading level0 col4\" >Bulk 5</th>        <th class=\"col_heading level0 col5\" >Bulk 6</th>        <th class=\"col_heading level0 col6\" >Bulk 7</th>        <th class=\"col_heading level0 col7\" >Bulk 8</th>        <th class=\"col_heading level0 col8\" >Bulk 9</th>        <th class=\"col_heading level0 col9\" >Bulk 10</th>        <th class=\"col_heading level0 col10\" >Bulk 11</th>        <th class=\"col_heading level0 col11\" >Bulk 12</th>        <th class=\"col_heading level0 col12\" >Bulk 13</th>        <th class=\"col_heading level0 col13\" >Bulk 14</th>        <th class=\"col_heading level0 col14\" >Bulk 15</th>    </tr></thead><tbody>\n",
       "                <tr>\n",
       "                        <th id=\"T_80561_level0_row0\" class=\"row_heading level0 row0\" >Bulk 1</th>\n",
       "                        <td id=\"T_80561_row0_col0\" class=\"data row0 col0\" >True</td>\n",
       "                        <td id=\"T_80561_row0_col1\" class=\"data row0 col1\" >False</td>\n",
       "                        <td id=\"T_80561_row0_col2\" class=\"data row0 col2\" >False</td>\n",
       "                        <td id=\"T_80561_row0_col3\" class=\"data row0 col3\" >False</td>\n",
       "                        <td id=\"T_80561_row0_col4\" class=\"data row0 col4\" >False</td>\n",
       "                        <td id=\"T_80561_row0_col5\" class=\"data row0 col5\" >False</td>\n",
       "                        <td id=\"T_80561_row0_col6\" class=\"data row0 col6\" >False</td>\n",
       "                        <td id=\"T_80561_row0_col7\" class=\"data row0 col7\" >False</td>\n",
       "                        <td id=\"T_80561_row0_col8\" class=\"data row0 col8\" >False</td>\n",
       "                        <td id=\"T_80561_row0_col9\" class=\"data row0 col9\" >False</td>\n",
       "                        <td id=\"T_80561_row0_col10\" class=\"data row0 col10\" >False</td>\n",
       "                        <td id=\"T_80561_row0_col11\" class=\"data row0 col11\" >False</td>\n",
       "                        <td id=\"T_80561_row0_col12\" class=\"data row0 col12\" >False</td>\n",
       "                        <td id=\"T_80561_row0_col13\" class=\"data row0 col13\" >False</td>\n",
       "                        <td id=\"T_80561_row0_col14\" class=\"data row0 col14\" >False</td>\n",
       "            </tr>\n",
       "            <tr>\n",
       "                        <th id=\"T_80561_level0_row1\" class=\"row_heading level0 row1\" >Bulk 2</th>\n",
       "                        <td id=\"T_80561_row1_col0\" class=\"data row1 col0\" >False</td>\n",
       "                        <td id=\"T_80561_row1_col1\" class=\"data row1 col1\" >True</td>\n",
       "                        <td id=\"T_80561_row1_col2\" class=\"data row1 col2\" >False</td>\n",
       "                        <td id=\"T_80561_row1_col3\" class=\"data row1 col3\" >False</td>\n",
       "                        <td id=\"T_80561_row1_col4\" class=\"data row1 col4\" >False</td>\n",
       "                        <td id=\"T_80561_row1_col5\" class=\"data row1 col5\" >False</td>\n",
       "                        <td id=\"T_80561_row1_col6\" class=\"data row1 col6\" >False</td>\n",
       "                        <td id=\"T_80561_row1_col7\" class=\"data row1 col7\" >False</td>\n",
       "                        <td id=\"T_80561_row1_col8\" class=\"data row1 col8\" >False</td>\n",
       "                        <td id=\"T_80561_row1_col9\" class=\"data row1 col9\" >False</td>\n",
       "                        <td id=\"T_80561_row1_col10\" class=\"data row1 col10\" >False</td>\n",
       "                        <td id=\"T_80561_row1_col11\" class=\"data row1 col11\" >False</td>\n",
       "                        <td id=\"T_80561_row1_col12\" class=\"data row1 col12\" >False</td>\n",
       "                        <td id=\"T_80561_row1_col13\" class=\"data row1 col13\" >False</td>\n",
       "                        <td id=\"T_80561_row1_col14\" class=\"data row1 col14\" >False</td>\n",
       "            </tr>\n",
       "            <tr>\n",
       "                        <th id=\"T_80561_level0_row2\" class=\"row_heading level0 row2\" >Bulk 3</th>\n",
       "                        <td id=\"T_80561_row2_col0\" class=\"data row2 col0\" >False</td>\n",
       "                        <td id=\"T_80561_row2_col1\" class=\"data row2 col1\" >False</td>\n",
       "                        <td id=\"T_80561_row2_col2\" class=\"data row2 col2\" >True</td>\n",
       "                        <td id=\"T_80561_row2_col3\" class=\"data row2 col3\" >False</td>\n",
       "                        <td id=\"T_80561_row2_col4\" class=\"data row2 col4\" >False</td>\n",
       "                        <td id=\"T_80561_row2_col5\" class=\"data row2 col5\" >False</td>\n",
       "                        <td id=\"T_80561_row2_col6\" class=\"data row2 col6\" >False</td>\n",
       "                        <td id=\"T_80561_row2_col7\" class=\"data row2 col7\" >False</td>\n",
       "                        <td id=\"T_80561_row2_col8\" class=\"data row2 col8\" >False</td>\n",
       "                        <td id=\"T_80561_row2_col9\" class=\"data row2 col9\" >False</td>\n",
       "                        <td id=\"T_80561_row2_col10\" class=\"data row2 col10\" >False</td>\n",
       "                        <td id=\"T_80561_row2_col11\" class=\"data row2 col11\" >False</td>\n",
       "                        <td id=\"T_80561_row2_col12\" class=\"data row2 col12\" >False</td>\n",
       "                        <td id=\"T_80561_row2_col13\" class=\"data row2 col13\" >False</td>\n",
       "                        <td id=\"T_80561_row2_col14\" class=\"data row2 col14\" >False</td>\n",
       "            </tr>\n",
       "            <tr>\n",
       "                        <th id=\"T_80561_level0_row3\" class=\"row_heading level0 row3\" >Bulk 4</th>\n",
       "                        <td id=\"T_80561_row3_col0\" class=\"data row3 col0\" >False</td>\n",
       "                        <td id=\"T_80561_row3_col1\" class=\"data row3 col1\" >False</td>\n",
       "                        <td id=\"T_80561_row3_col2\" class=\"data row3 col2\" >False</td>\n",
       "                        <td id=\"T_80561_row3_col3\" class=\"data row3 col3\" >True</td>\n",
       "                        <td id=\"T_80561_row3_col4\" class=\"data row3 col4\" >False</td>\n",
       "                        <td id=\"T_80561_row3_col5\" class=\"data row3 col5\" >False</td>\n",
       "                        <td id=\"T_80561_row3_col6\" class=\"data row3 col6\" >False</td>\n",
       "                        <td id=\"T_80561_row3_col7\" class=\"data row3 col7\" >False</td>\n",
       "                        <td id=\"T_80561_row3_col8\" class=\"data row3 col8\" >False</td>\n",
       "                        <td id=\"T_80561_row3_col9\" class=\"data row3 col9\" >False</td>\n",
       "                        <td id=\"T_80561_row3_col10\" class=\"data row3 col10\" >False</td>\n",
       "                        <td id=\"T_80561_row3_col11\" class=\"data row3 col11\" >False</td>\n",
       "                        <td id=\"T_80561_row3_col12\" class=\"data row3 col12\" >False</td>\n",
       "                        <td id=\"T_80561_row3_col13\" class=\"data row3 col13\" >False</td>\n",
       "                        <td id=\"T_80561_row3_col14\" class=\"data row3 col14\" >False</td>\n",
       "            </tr>\n",
       "            <tr>\n",
       "                        <th id=\"T_80561_level0_row4\" class=\"row_heading level0 row4\" >Bulk 5</th>\n",
       "                        <td id=\"T_80561_row4_col0\" class=\"data row4 col0\" >False</td>\n",
       "                        <td id=\"T_80561_row4_col1\" class=\"data row4 col1\" >False</td>\n",
       "                        <td id=\"T_80561_row4_col2\" class=\"data row4 col2\" >False</td>\n",
       "                        <td id=\"T_80561_row4_col3\" class=\"data row4 col3\" >False</td>\n",
       "                        <td id=\"T_80561_row4_col4\" class=\"data row4 col4\" >True</td>\n",
       "                        <td id=\"T_80561_row4_col5\" class=\"data row4 col5\" >False</td>\n",
       "                        <td id=\"T_80561_row4_col6\" class=\"data row4 col6\" >False</td>\n",
       "                        <td id=\"T_80561_row4_col7\" class=\"data row4 col7\" >False</td>\n",
       "                        <td id=\"T_80561_row4_col8\" class=\"data row4 col8\" >False</td>\n",
       "                        <td id=\"T_80561_row4_col9\" class=\"data row4 col9\" >False</td>\n",
       "                        <td id=\"T_80561_row4_col10\" class=\"data row4 col10\" >False</td>\n",
       "                        <td id=\"T_80561_row4_col11\" class=\"data row4 col11\" >False</td>\n",
       "                        <td id=\"T_80561_row4_col12\" class=\"data row4 col12\" >False</td>\n",
       "                        <td id=\"T_80561_row4_col13\" class=\"data row4 col13\" >False</td>\n",
       "                        <td id=\"T_80561_row4_col14\" class=\"data row4 col14\" >False</td>\n",
       "            </tr>\n",
       "            <tr>\n",
       "                        <th id=\"T_80561_level0_row5\" class=\"row_heading level0 row5\" >Bulk 6</th>\n",
       "                        <td id=\"T_80561_row5_col0\" class=\"data row5 col0\" >False</td>\n",
       "                        <td id=\"T_80561_row5_col1\" class=\"data row5 col1\" >False</td>\n",
       "                        <td id=\"T_80561_row5_col2\" class=\"data row5 col2\" >False</td>\n",
       "                        <td id=\"T_80561_row5_col3\" class=\"data row5 col3\" >False</td>\n",
       "                        <td id=\"T_80561_row5_col4\" class=\"data row5 col4\" >False</td>\n",
       "                        <td id=\"T_80561_row5_col5\" class=\"data row5 col5\" >True</td>\n",
       "                        <td id=\"T_80561_row5_col6\" class=\"data row5 col6\" >False</td>\n",
       "                        <td id=\"T_80561_row5_col7\" class=\"data row5 col7\" >False</td>\n",
       "                        <td id=\"T_80561_row5_col8\" class=\"data row5 col8\" >False</td>\n",
       "                        <td id=\"T_80561_row5_col9\" class=\"data row5 col9\" >False</td>\n",
       "                        <td id=\"T_80561_row5_col10\" class=\"data row5 col10\" >False</td>\n",
       "                        <td id=\"T_80561_row5_col11\" class=\"data row5 col11\" >False</td>\n",
       "                        <td id=\"T_80561_row5_col12\" class=\"data row5 col12\" >False</td>\n",
       "                        <td id=\"T_80561_row5_col13\" class=\"data row5 col13\" >False</td>\n",
       "                        <td id=\"T_80561_row5_col14\" class=\"data row5 col14\" >False</td>\n",
       "            </tr>\n",
       "            <tr>\n",
       "                        <th id=\"T_80561_level0_row6\" class=\"row_heading level0 row6\" >Bulk 7</th>\n",
       "                        <td id=\"T_80561_row6_col0\" class=\"data row6 col0\" >False</td>\n",
       "                        <td id=\"T_80561_row6_col1\" class=\"data row6 col1\" >False</td>\n",
       "                        <td id=\"T_80561_row6_col2\" class=\"data row6 col2\" >False</td>\n",
       "                        <td id=\"T_80561_row6_col3\" class=\"data row6 col3\" >False</td>\n",
       "                        <td id=\"T_80561_row6_col4\" class=\"data row6 col4\" >False</td>\n",
       "                        <td id=\"T_80561_row6_col5\" class=\"data row6 col5\" >False</td>\n",
       "                        <td id=\"T_80561_row6_col6\" class=\"data row6 col6\" >True</td>\n",
       "                        <td id=\"T_80561_row6_col7\" class=\"data row6 col7\" >False</td>\n",
       "                        <td id=\"T_80561_row6_col8\" class=\"data row6 col8\" >False</td>\n",
       "                        <td id=\"T_80561_row6_col9\" class=\"data row6 col9\" >False</td>\n",
       "                        <td id=\"T_80561_row6_col10\" class=\"data row6 col10\" >False</td>\n",
       "                        <td id=\"T_80561_row6_col11\" class=\"data row6 col11\" >False</td>\n",
       "                        <td id=\"T_80561_row6_col12\" class=\"data row6 col12\" >False</td>\n",
       "                        <td id=\"T_80561_row6_col13\" class=\"data row6 col13\" >False</td>\n",
       "                        <td id=\"T_80561_row6_col14\" class=\"data row6 col14\" >False</td>\n",
       "            </tr>\n",
       "            <tr>\n",
       "                        <th id=\"T_80561_level0_row7\" class=\"row_heading level0 row7\" >Bulk 8</th>\n",
       "                        <td id=\"T_80561_row7_col0\" class=\"data row7 col0\" >False</td>\n",
       "                        <td id=\"T_80561_row7_col1\" class=\"data row7 col1\" >False</td>\n",
       "                        <td id=\"T_80561_row7_col2\" class=\"data row7 col2\" >False</td>\n",
       "                        <td id=\"T_80561_row7_col3\" class=\"data row7 col3\" >False</td>\n",
       "                        <td id=\"T_80561_row7_col4\" class=\"data row7 col4\" >False</td>\n",
       "                        <td id=\"T_80561_row7_col5\" class=\"data row7 col5\" >False</td>\n",
       "                        <td id=\"T_80561_row7_col6\" class=\"data row7 col6\" >False</td>\n",
       "                        <td id=\"T_80561_row7_col7\" class=\"data row7 col7\" >True</td>\n",
       "                        <td id=\"T_80561_row7_col8\" class=\"data row7 col8\" >False</td>\n",
       "                        <td id=\"T_80561_row7_col9\" class=\"data row7 col9\" >False</td>\n",
       "                        <td id=\"T_80561_row7_col10\" class=\"data row7 col10\" >False</td>\n",
       "                        <td id=\"T_80561_row7_col11\" class=\"data row7 col11\" >False</td>\n",
       "                        <td id=\"T_80561_row7_col12\" class=\"data row7 col12\" >False</td>\n",
       "                        <td id=\"T_80561_row7_col13\" class=\"data row7 col13\" >False</td>\n",
       "                        <td id=\"T_80561_row7_col14\" class=\"data row7 col14\" >False</td>\n",
       "            </tr>\n",
       "            <tr>\n",
       "                        <th id=\"T_80561_level0_row8\" class=\"row_heading level0 row8\" >Bulk 9</th>\n",
       "                        <td id=\"T_80561_row8_col0\" class=\"data row8 col0\" >False</td>\n",
       "                        <td id=\"T_80561_row8_col1\" class=\"data row8 col1\" >False</td>\n",
       "                        <td id=\"T_80561_row8_col2\" class=\"data row8 col2\" >False</td>\n",
       "                        <td id=\"T_80561_row8_col3\" class=\"data row8 col3\" >False</td>\n",
       "                        <td id=\"T_80561_row8_col4\" class=\"data row8 col4\" >False</td>\n",
       "                        <td id=\"T_80561_row8_col5\" class=\"data row8 col5\" >False</td>\n",
       "                        <td id=\"T_80561_row8_col6\" class=\"data row8 col6\" >False</td>\n",
       "                        <td id=\"T_80561_row8_col7\" class=\"data row8 col7\" >False</td>\n",
       "                        <td id=\"T_80561_row8_col8\" class=\"data row8 col8\" >True</td>\n",
       "                        <td id=\"T_80561_row8_col9\" class=\"data row8 col9\" >False</td>\n",
       "                        <td id=\"T_80561_row8_col10\" class=\"data row8 col10\" >False</td>\n",
       "                        <td id=\"T_80561_row8_col11\" class=\"data row8 col11\" >False</td>\n",
       "                        <td id=\"T_80561_row8_col12\" class=\"data row8 col12\" >False</td>\n",
       "                        <td id=\"T_80561_row8_col13\" class=\"data row8 col13\" >False</td>\n",
       "                        <td id=\"T_80561_row8_col14\" class=\"data row8 col14\" >False</td>\n",
       "            </tr>\n",
       "            <tr>\n",
       "                        <th id=\"T_80561_level0_row9\" class=\"row_heading level0 row9\" >Bulk 10</th>\n",
       "                        <td id=\"T_80561_row9_col0\" class=\"data row9 col0\" >False</td>\n",
       "                        <td id=\"T_80561_row9_col1\" class=\"data row9 col1\" >False</td>\n",
       "                        <td id=\"T_80561_row9_col2\" class=\"data row9 col2\" >False</td>\n",
       "                        <td id=\"T_80561_row9_col3\" class=\"data row9 col3\" >False</td>\n",
       "                        <td id=\"T_80561_row9_col4\" class=\"data row9 col4\" >False</td>\n",
       "                        <td id=\"T_80561_row9_col5\" class=\"data row9 col5\" >False</td>\n",
       "                        <td id=\"T_80561_row9_col6\" class=\"data row9 col6\" >False</td>\n",
       "                        <td id=\"T_80561_row9_col7\" class=\"data row9 col7\" >False</td>\n",
       "                        <td id=\"T_80561_row9_col8\" class=\"data row9 col8\" >False</td>\n",
       "                        <td id=\"T_80561_row9_col9\" class=\"data row9 col9\" >True</td>\n",
       "                        <td id=\"T_80561_row9_col10\" class=\"data row9 col10\" >False</td>\n",
       "                        <td id=\"T_80561_row9_col11\" class=\"data row9 col11\" >False</td>\n",
       "                        <td id=\"T_80561_row9_col12\" class=\"data row9 col12\" >False</td>\n",
       "                        <td id=\"T_80561_row9_col13\" class=\"data row9 col13\" >False</td>\n",
       "                        <td id=\"T_80561_row9_col14\" class=\"data row9 col14\" >False</td>\n",
       "            </tr>\n",
       "            <tr>\n",
       "                        <th id=\"T_80561_level0_row10\" class=\"row_heading level0 row10\" >Bulk 11</th>\n",
       "                        <td id=\"T_80561_row10_col0\" class=\"data row10 col0\" >False</td>\n",
       "                        <td id=\"T_80561_row10_col1\" class=\"data row10 col1\" >False</td>\n",
       "                        <td id=\"T_80561_row10_col2\" class=\"data row10 col2\" >False</td>\n",
       "                        <td id=\"T_80561_row10_col3\" class=\"data row10 col3\" >False</td>\n",
       "                        <td id=\"T_80561_row10_col4\" class=\"data row10 col4\" >False</td>\n",
       "                        <td id=\"T_80561_row10_col5\" class=\"data row10 col5\" >False</td>\n",
       "                        <td id=\"T_80561_row10_col6\" class=\"data row10 col6\" >False</td>\n",
       "                        <td id=\"T_80561_row10_col7\" class=\"data row10 col7\" >False</td>\n",
       "                        <td id=\"T_80561_row10_col8\" class=\"data row10 col8\" >False</td>\n",
       "                        <td id=\"T_80561_row10_col9\" class=\"data row10 col9\" >False</td>\n",
       "                        <td id=\"T_80561_row10_col10\" class=\"data row10 col10\" >True</td>\n",
       "                        <td id=\"T_80561_row10_col11\" class=\"data row10 col11\" >False</td>\n",
       "                        <td id=\"T_80561_row10_col12\" class=\"data row10 col12\" >False</td>\n",
       "                        <td id=\"T_80561_row10_col13\" class=\"data row10 col13\" >False</td>\n",
       "                        <td id=\"T_80561_row10_col14\" class=\"data row10 col14\" >False</td>\n",
       "            </tr>\n",
       "            <tr>\n",
       "                        <th id=\"T_80561_level0_row11\" class=\"row_heading level0 row11\" >Bulk 12</th>\n",
       "                        <td id=\"T_80561_row11_col0\" class=\"data row11 col0\" >False</td>\n",
       "                        <td id=\"T_80561_row11_col1\" class=\"data row11 col1\" >False</td>\n",
       "                        <td id=\"T_80561_row11_col2\" class=\"data row11 col2\" >False</td>\n",
       "                        <td id=\"T_80561_row11_col3\" class=\"data row11 col3\" >False</td>\n",
       "                        <td id=\"T_80561_row11_col4\" class=\"data row11 col4\" >False</td>\n",
       "                        <td id=\"T_80561_row11_col5\" class=\"data row11 col5\" >False</td>\n",
       "                        <td id=\"T_80561_row11_col6\" class=\"data row11 col6\" >False</td>\n",
       "                        <td id=\"T_80561_row11_col7\" class=\"data row11 col7\" >False</td>\n",
       "                        <td id=\"T_80561_row11_col8\" class=\"data row11 col8\" >False</td>\n",
       "                        <td id=\"T_80561_row11_col9\" class=\"data row11 col9\" >False</td>\n",
       "                        <td id=\"T_80561_row11_col10\" class=\"data row11 col10\" >False</td>\n",
       "                        <td id=\"T_80561_row11_col11\" class=\"data row11 col11\" >True</td>\n",
       "                        <td id=\"T_80561_row11_col12\" class=\"data row11 col12\" >False</td>\n",
       "                        <td id=\"T_80561_row11_col13\" class=\"data row11 col13\" >False</td>\n",
       "                        <td id=\"T_80561_row11_col14\" class=\"data row11 col14\" >False</td>\n",
       "            </tr>\n",
       "            <tr>\n",
       "                        <th id=\"T_80561_level0_row12\" class=\"row_heading level0 row12\" >Bulk 13</th>\n",
       "                        <td id=\"T_80561_row12_col0\" class=\"data row12 col0\" >False</td>\n",
       "                        <td id=\"T_80561_row12_col1\" class=\"data row12 col1\" >False</td>\n",
       "                        <td id=\"T_80561_row12_col2\" class=\"data row12 col2\" >False</td>\n",
       "                        <td id=\"T_80561_row12_col3\" class=\"data row12 col3\" >False</td>\n",
       "                        <td id=\"T_80561_row12_col4\" class=\"data row12 col4\" >False</td>\n",
       "                        <td id=\"T_80561_row12_col5\" class=\"data row12 col5\" >False</td>\n",
       "                        <td id=\"T_80561_row12_col6\" class=\"data row12 col6\" >False</td>\n",
       "                        <td id=\"T_80561_row12_col7\" class=\"data row12 col7\" >False</td>\n",
       "                        <td id=\"T_80561_row12_col8\" class=\"data row12 col8\" >False</td>\n",
       "                        <td id=\"T_80561_row12_col9\" class=\"data row12 col9\" >False</td>\n",
       "                        <td id=\"T_80561_row12_col10\" class=\"data row12 col10\" >False</td>\n",
       "                        <td id=\"T_80561_row12_col11\" class=\"data row12 col11\" >False</td>\n",
       "                        <td id=\"T_80561_row12_col12\" class=\"data row12 col12\" >True</td>\n",
       "                        <td id=\"T_80561_row12_col13\" class=\"data row12 col13\" >False</td>\n",
       "                        <td id=\"T_80561_row12_col14\" class=\"data row12 col14\" >False</td>\n",
       "            </tr>\n",
       "            <tr>\n",
       "                        <th id=\"T_80561_level0_row13\" class=\"row_heading level0 row13\" >Bulk 14</th>\n",
       "                        <td id=\"T_80561_row13_col0\" class=\"data row13 col0\" >False</td>\n",
       "                        <td id=\"T_80561_row13_col1\" class=\"data row13 col1\" >False</td>\n",
       "                        <td id=\"T_80561_row13_col2\" class=\"data row13 col2\" >False</td>\n",
       "                        <td id=\"T_80561_row13_col3\" class=\"data row13 col3\" >False</td>\n",
       "                        <td id=\"T_80561_row13_col4\" class=\"data row13 col4\" >False</td>\n",
       "                        <td id=\"T_80561_row13_col5\" class=\"data row13 col5\" >False</td>\n",
       "                        <td id=\"T_80561_row13_col6\" class=\"data row13 col6\" >False</td>\n",
       "                        <td id=\"T_80561_row13_col7\" class=\"data row13 col7\" >False</td>\n",
       "                        <td id=\"T_80561_row13_col8\" class=\"data row13 col8\" >False</td>\n",
       "                        <td id=\"T_80561_row13_col9\" class=\"data row13 col9\" >False</td>\n",
       "                        <td id=\"T_80561_row13_col10\" class=\"data row13 col10\" >False</td>\n",
       "                        <td id=\"T_80561_row13_col11\" class=\"data row13 col11\" >False</td>\n",
       "                        <td id=\"T_80561_row13_col12\" class=\"data row13 col12\" >False</td>\n",
       "                        <td id=\"T_80561_row13_col13\" class=\"data row13 col13\" >True</td>\n",
       "                        <td id=\"T_80561_row13_col14\" class=\"data row13 col14\" >False</td>\n",
       "            </tr>\n",
       "            <tr>\n",
       "                        <th id=\"T_80561_level0_row14\" class=\"row_heading level0 row14\" >Bulk 15</th>\n",
       "                        <td id=\"T_80561_row14_col0\" class=\"data row14 col0\" >False</td>\n",
       "                        <td id=\"T_80561_row14_col1\" class=\"data row14 col1\" >False</td>\n",
       "                        <td id=\"T_80561_row14_col2\" class=\"data row14 col2\" >False</td>\n",
       "                        <td id=\"T_80561_row14_col3\" class=\"data row14 col3\" >False</td>\n",
       "                        <td id=\"T_80561_row14_col4\" class=\"data row14 col4\" >False</td>\n",
       "                        <td id=\"T_80561_row14_col5\" class=\"data row14 col5\" >False</td>\n",
       "                        <td id=\"T_80561_row14_col6\" class=\"data row14 col6\" >False</td>\n",
       "                        <td id=\"T_80561_row14_col7\" class=\"data row14 col7\" >False</td>\n",
       "                        <td id=\"T_80561_row14_col8\" class=\"data row14 col8\" >False</td>\n",
       "                        <td id=\"T_80561_row14_col9\" class=\"data row14 col9\" >False</td>\n",
       "                        <td id=\"T_80561_row14_col10\" class=\"data row14 col10\" >False</td>\n",
       "                        <td id=\"T_80561_row14_col11\" class=\"data row14 col11\" >False</td>\n",
       "                        <td id=\"T_80561_row14_col12\" class=\"data row14 col12\" >False</td>\n",
       "                        <td id=\"T_80561_row14_col13\" class=\"data row14 col13\" >False</td>\n",
       "                        <td id=\"T_80561_row14_col14\" class=\"data row14 col14\" >True</td>\n",
       "            </tr>\n",
       "    </tbody></table>"
      ],
      "text/plain": [
       "<pandas.io.formats.style.Styler at 0x7f0366e87460>"
      ]
     },
     "execution_count": 104,
     "metadata": {},
     "output_type": "execute_result"
    }
   ],
   "source": [
    "((df[['Bulk ' + str(i) for i in range (1, 16)]].corr() > 0.8)\n",
    "                                               .style.applymap(_color_red_or_green))"
   ]
  },
  {
   "cell_type": "code",
   "execution_count": 105,
   "id": "f47636db",
   "metadata": {},
   "outputs": [
    {
     "data": {
      "text/html": [
       "<style  type=\"text/css\" >\n",
       "#T_9ee89_row0_col0,#T_9ee89_row1_col1,#T_9ee89_row2_col2,#T_9ee89_row3_col3,#T_9ee89_row5_col5,#T_9ee89_row6_col6,#T_9ee89_row7_col7,#T_9ee89_row8_col8{\n",
       "            color:  red;\n",
       "        }#T_9ee89_row0_col1,#T_9ee89_row0_col2,#T_9ee89_row0_col3,#T_9ee89_row0_col4,#T_9ee89_row0_col5,#T_9ee89_row0_col6,#T_9ee89_row0_col7,#T_9ee89_row0_col8,#T_9ee89_row1_col0,#T_9ee89_row1_col2,#T_9ee89_row1_col3,#T_9ee89_row1_col4,#T_9ee89_row1_col5,#T_9ee89_row1_col6,#T_9ee89_row1_col7,#T_9ee89_row1_col8,#T_9ee89_row2_col0,#T_9ee89_row2_col1,#T_9ee89_row2_col3,#T_9ee89_row2_col4,#T_9ee89_row2_col5,#T_9ee89_row2_col6,#T_9ee89_row2_col7,#T_9ee89_row2_col8,#T_9ee89_row3_col0,#T_9ee89_row3_col1,#T_9ee89_row3_col2,#T_9ee89_row3_col4,#T_9ee89_row3_col5,#T_9ee89_row3_col6,#T_9ee89_row3_col7,#T_9ee89_row3_col8,#T_9ee89_row4_col0,#T_9ee89_row4_col1,#T_9ee89_row4_col2,#T_9ee89_row4_col3,#T_9ee89_row4_col4,#T_9ee89_row4_col5,#T_9ee89_row4_col6,#T_9ee89_row4_col7,#T_9ee89_row4_col8,#T_9ee89_row5_col0,#T_9ee89_row5_col1,#T_9ee89_row5_col2,#T_9ee89_row5_col3,#T_9ee89_row5_col4,#T_9ee89_row5_col6,#T_9ee89_row5_col7,#T_9ee89_row5_col8,#T_9ee89_row6_col0,#T_9ee89_row6_col1,#T_9ee89_row6_col2,#T_9ee89_row6_col3,#T_9ee89_row6_col4,#T_9ee89_row6_col5,#T_9ee89_row6_col7,#T_9ee89_row6_col8,#T_9ee89_row7_col0,#T_9ee89_row7_col1,#T_9ee89_row7_col2,#T_9ee89_row7_col3,#T_9ee89_row7_col4,#T_9ee89_row7_col5,#T_9ee89_row7_col6,#T_9ee89_row7_col8,#T_9ee89_row8_col0,#T_9ee89_row8_col1,#T_9ee89_row8_col2,#T_9ee89_row8_col3,#T_9ee89_row8_col4,#T_9ee89_row8_col5,#T_9ee89_row8_col6,#T_9ee89_row8_col7{\n",
       "            color:  green;\n",
       "        }</style><table id=\"T_9ee89_\" ><thead>    <tr>        <th class=\"blank level0\" ></th>        <th class=\"col_heading level0 col0\" >Wire 1</th>        <th class=\"col_heading level0 col1\" >Wire 2</th>        <th class=\"col_heading level0 col2\" >Wire 3</th>        <th class=\"col_heading level0 col3\" >Wire 4</th>        <th class=\"col_heading level0 col4\" >Wire 5</th>        <th class=\"col_heading level0 col5\" >Wire 6</th>        <th class=\"col_heading level0 col6\" >Wire 7</th>        <th class=\"col_heading level0 col7\" >Wire 8</th>        <th class=\"col_heading level0 col8\" >Wire 9</th>    </tr></thead><tbody>\n",
       "                <tr>\n",
       "                        <th id=\"T_9ee89_level0_row0\" class=\"row_heading level0 row0\" >Wire 1</th>\n",
       "                        <td id=\"T_9ee89_row0_col0\" class=\"data row0 col0\" >True</td>\n",
       "                        <td id=\"T_9ee89_row0_col1\" class=\"data row0 col1\" >False</td>\n",
       "                        <td id=\"T_9ee89_row0_col2\" class=\"data row0 col2\" >False</td>\n",
       "                        <td id=\"T_9ee89_row0_col3\" class=\"data row0 col3\" >False</td>\n",
       "                        <td id=\"T_9ee89_row0_col4\" class=\"data row0 col4\" >False</td>\n",
       "                        <td id=\"T_9ee89_row0_col5\" class=\"data row0 col5\" >False</td>\n",
       "                        <td id=\"T_9ee89_row0_col6\" class=\"data row0 col6\" >False</td>\n",
       "                        <td id=\"T_9ee89_row0_col7\" class=\"data row0 col7\" >False</td>\n",
       "                        <td id=\"T_9ee89_row0_col8\" class=\"data row0 col8\" >False</td>\n",
       "            </tr>\n",
       "            <tr>\n",
       "                        <th id=\"T_9ee89_level0_row1\" class=\"row_heading level0 row1\" >Wire 2</th>\n",
       "                        <td id=\"T_9ee89_row1_col0\" class=\"data row1 col0\" >False</td>\n",
       "                        <td id=\"T_9ee89_row1_col1\" class=\"data row1 col1\" >True</td>\n",
       "                        <td id=\"T_9ee89_row1_col2\" class=\"data row1 col2\" >False</td>\n",
       "                        <td id=\"T_9ee89_row1_col3\" class=\"data row1 col3\" >False</td>\n",
       "                        <td id=\"T_9ee89_row1_col4\" class=\"data row1 col4\" >False</td>\n",
       "                        <td id=\"T_9ee89_row1_col5\" class=\"data row1 col5\" >False</td>\n",
       "                        <td id=\"T_9ee89_row1_col6\" class=\"data row1 col6\" >False</td>\n",
       "                        <td id=\"T_9ee89_row1_col7\" class=\"data row1 col7\" >False</td>\n",
       "                        <td id=\"T_9ee89_row1_col8\" class=\"data row1 col8\" >False</td>\n",
       "            </tr>\n",
       "            <tr>\n",
       "                        <th id=\"T_9ee89_level0_row2\" class=\"row_heading level0 row2\" >Wire 3</th>\n",
       "                        <td id=\"T_9ee89_row2_col0\" class=\"data row2 col0\" >False</td>\n",
       "                        <td id=\"T_9ee89_row2_col1\" class=\"data row2 col1\" >False</td>\n",
       "                        <td id=\"T_9ee89_row2_col2\" class=\"data row2 col2\" >True</td>\n",
       "                        <td id=\"T_9ee89_row2_col3\" class=\"data row2 col3\" >False</td>\n",
       "                        <td id=\"T_9ee89_row2_col4\" class=\"data row2 col4\" >False</td>\n",
       "                        <td id=\"T_9ee89_row2_col5\" class=\"data row2 col5\" >False</td>\n",
       "                        <td id=\"T_9ee89_row2_col6\" class=\"data row2 col6\" >False</td>\n",
       "                        <td id=\"T_9ee89_row2_col7\" class=\"data row2 col7\" >False</td>\n",
       "                        <td id=\"T_9ee89_row2_col8\" class=\"data row2 col8\" >False</td>\n",
       "            </tr>\n",
       "            <tr>\n",
       "                        <th id=\"T_9ee89_level0_row3\" class=\"row_heading level0 row3\" >Wire 4</th>\n",
       "                        <td id=\"T_9ee89_row3_col0\" class=\"data row3 col0\" >False</td>\n",
       "                        <td id=\"T_9ee89_row3_col1\" class=\"data row3 col1\" >False</td>\n",
       "                        <td id=\"T_9ee89_row3_col2\" class=\"data row3 col2\" >False</td>\n",
       "                        <td id=\"T_9ee89_row3_col3\" class=\"data row3 col3\" >True</td>\n",
       "                        <td id=\"T_9ee89_row3_col4\" class=\"data row3 col4\" >False</td>\n",
       "                        <td id=\"T_9ee89_row3_col5\" class=\"data row3 col5\" >False</td>\n",
       "                        <td id=\"T_9ee89_row3_col6\" class=\"data row3 col6\" >False</td>\n",
       "                        <td id=\"T_9ee89_row3_col7\" class=\"data row3 col7\" >False</td>\n",
       "                        <td id=\"T_9ee89_row3_col8\" class=\"data row3 col8\" >False</td>\n",
       "            </tr>\n",
       "            <tr>\n",
       "                        <th id=\"T_9ee89_level0_row4\" class=\"row_heading level0 row4\" >Wire 5</th>\n",
       "                        <td id=\"T_9ee89_row4_col0\" class=\"data row4 col0\" >False</td>\n",
       "                        <td id=\"T_9ee89_row4_col1\" class=\"data row4 col1\" >False</td>\n",
       "                        <td id=\"T_9ee89_row4_col2\" class=\"data row4 col2\" >False</td>\n",
       "                        <td id=\"T_9ee89_row4_col3\" class=\"data row4 col3\" >False</td>\n",
       "                        <td id=\"T_9ee89_row4_col4\" class=\"data row4 col4\" >False</td>\n",
       "                        <td id=\"T_9ee89_row4_col5\" class=\"data row4 col5\" >False</td>\n",
       "                        <td id=\"T_9ee89_row4_col6\" class=\"data row4 col6\" >False</td>\n",
       "                        <td id=\"T_9ee89_row4_col7\" class=\"data row4 col7\" >False</td>\n",
       "                        <td id=\"T_9ee89_row4_col8\" class=\"data row4 col8\" >False</td>\n",
       "            </tr>\n",
       "            <tr>\n",
       "                        <th id=\"T_9ee89_level0_row5\" class=\"row_heading level0 row5\" >Wire 6</th>\n",
       "                        <td id=\"T_9ee89_row5_col0\" class=\"data row5 col0\" >False</td>\n",
       "                        <td id=\"T_9ee89_row5_col1\" class=\"data row5 col1\" >False</td>\n",
       "                        <td id=\"T_9ee89_row5_col2\" class=\"data row5 col2\" >False</td>\n",
       "                        <td id=\"T_9ee89_row5_col3\" class=\"data row5 col3\" >False</td>\n",
       "                        <td id=\"T_9ee89_row5_col4\" class=\"data row5 col4\" >False</td>\n",
       "                        <td id=\"T_9ee89_row5_col5\" class=\"data row5 col5\" >True</td>\n",
       "                        <td id=\"T_9ee89_row5_col6\" class=\"data row5 col6\" >False</td>\n",
       "                        <td id=\"T_9ee89_row5_col7\" class=\"data row5 col7\" >False</td>\n",
       "                        <td id=\"T_9ee89_row5_col8\" class=\"data row5 col8\" >False</td>\n",
       "            </tr>\n",
       "            <tr>\n",
       "                        <th id=\"T_9ee89_level0_row6\" class=\"row_heading level0 row6\" >Wire 7</th>\n",
       "                        <td id=\"T_9ee89_row6_col0\" class=\"data row6 col0\" >False</td>\n",
       "                        <td id=\"T_9ee89_row6_col1\" class=\"data row6 col1\" >False</td>\n",
       "                        <td id=\"T_9ee89_row6_col2\" class=\"data row6 col2\" >False</td>\n",
       "                        <td id=\"T_9ee89_row6_col3\" class=\"data row6 col3\" >False</td>\n",
       "                        <td id=\"T_9ee89_row6_col4\" class=\"data row6 col4\" >False</td>\n",
       "                        <td id=\"T_9ee89_row6_col5\" class=\"data row6 col5\" >False</td>\n",
       "                        <td id=\"T_9ee89_row6_col6\" class=\"data row6 col6\" >True</td>\n",
       "                        <td id=\"T_9ee89_row6_col7\" class=\"data row6 col7\" >False</td>\n",
       "                        <td id=\"T_9ee89_row6_col8\" class=\"data row6 col8\" >False</td>\n",
       "            </tr>\n",
       "            <tr>\n",
       "                        <th id=\"T_9ee89_level0_row7\" class=\"row_heading level0 row7\" >Wire 8</th>\n",
       "                        <td id=\"T_9ee89_row7_col0\" class=\"data row7 col0\" >False</td>\n",
       "                        <td id=\"T_9ee89_row7_col1\" class=\"data row7 col1\" >False</td>\n",
       "                        <td id=\"T_9ee89_row7_col2\" class=\"data row7 col2\" >False</td>\n",
       "                        <td id=\"T_9ee89_row7_col3\" class=\"data row7 col3\" >False</td>\n",
       "                        <td id=\"T_9ee89_row7_col4\" class=\"data row7 col4\" >False</td>\n",
       "                        <td id=\"T_9ee89_row7_col5\" class=\"data row7 col5\" >False</td>\n",
       "                        <td id=\"T_9ee89_row7_col6\" class=\"data row7 col6\" >False</td>\n",
       "                        <td id=\"T_9ee89_row7_col7\" class=\"data row7 col7\" >True</td>\n",
       "                        <td id=\"T_9ee89_row7_col8\" class=\"data row7 col8\" >False</td>\n",
       "            </tr>\n",
       "            <tr>\n",
       "                        <th id=\"T_9ee89_level0_row8\" class=\"row_heading level0 row8\" >Wire 9</th>\n",
       "                        <td id=\"T_9ee89_row8_col0\" class=\"data row8 col0\" >False</td>\n",
       "                        <td id=\"T_9ee89_row8_col1\" class=\"data row8 col1\" >False</td>\n",
       "                        <td id=\"T_9ee89_row8_col2\" class=\"data row8 col2\" >False</td>\n",
       "                        <td id=\"T_9ee89_row8_col3\" class=\"data row8 col3\" >False</td>\n",
       "                        <td id=\"T_9ee89_row8_col4\" class=\"data row8 col4\" >False</td>\n",
       "                        <td id=\"T_9ee89_row8_col5\" class=\"data row8 col5\" >False</td>\n",
       "                        <td id=\"T_9ee89_row8_col6\" class=\"data row8 col6\" >False</td>\n",
       "                        <td id=\"T_9ee89_row8_col7\" class=\"data row8 col7\" >False</td>\n",
       "                        <td id=\"T_9ee89_row8_col8\" class=\"data row8 col8\" >True</td>\n",
       "            </tr>\n",
       "    </tbody></table>"
      ],
      "text/plain": [
       "<pandas.io.formats.style.Styler at 0x7f035c423640>"
      ]
     },
     "execution_count": 105,
     "metadata": {},
     "output_type": "execute_result"
    }
   ],
   "source": [
    "((df[['Wire ' + str(i) for i in range (1, 10)]].corr() > 0.8)\n",
    "                                               .style.applymap(_color_red_or_green))"
   ]
  },
  {
   "cell_type": "code",
   "execution_count": 106,
   "id": "b6d36e9b",
   "metadata": {},
   "outputs": [
    {
     "data": {
      "text/html": [
       "<div>\n",
       "<style scoped>\n",
       "    .dataframe tbody tr th:only-of-type {\n",
       "        vertical-align: middle;\n",
       "    }\n",
       "\n",
       "    .dataframe tbody tr th {\n",
       "        vertical-align: top;\n",
       "    }\n",
       "\n",
       "    .dataframe thead th {\n",
       "        text-align: right;\n",
       "    }\n",
       "</style>\n",
       "<table border=\"1\" class=\"dataframe\">\n",
       "  <thead>\n",
       "    <tr style=\"text-align: right;\">\n",
       "      <th></th>\n",
       "      <th>average_rp</th>\n",
       "      <th>average_ap</th>\n",
       "    </tr>\n",
       "  </thead>\n",
       "  <tbody>\n",
       "    <tr>\n",
       "      <th>average_rp</th>\n",
       "      <td>1.000000</td>\n",
       "      <td>0.942967</td>\n",
       "    </tr>\n",
       "    <tr>\n",
       "      <th>average_ap</th>\n",
       "      <td>0.942967</td>\n",
       "      <td>1.000000</td>\n",
       "    </tr>\n",
       "  </tbody>\n",
       "</table>\n",
       "</div>"
      ],
      "text/plain": [
       "            average_rp  average_ap\n",
       "average_rp    1.000000    0.942967\n",
       "average_ap    0.942967    1.000000"
      ]
     },
     "execution_count": 106,
     "metadata": {},
     "output_type": "execute_result"
    }
   ],
   "source": [
    "df[['average_rp', 'average_ap']].corr()"
   ]
  },
  {
   "cell_type": "markdown",
   "id": "68a21f32",
   "metadata": {},
   "source": [
    "активная и реактивная мощность почти линейно связаны, одну из них можно убрать из обучающей выборки"
   ]
  },
  {
   "cell_type": "code",
   "execution_count": 107,
   "id": "046c9eb7",
   "metadata": {
    "scrolled": true
   },
   "outputs": [
    {
     "data": {
      "text/plain": [
       "<AxesSubplot:xlabel='average_rp', ylabel='average_ap'>"
      ]
     },
     "execution_count": 107,
     "metadata": {},
     "output_type": "execute_result"
    },
    {
     "data": {
      "image/png": "[encoded data removed]",
      "text/plain": [
       "<Figure size 432x288 with 1 Axes>"
      ]
     },
     "metadata": {},
     "output_type": "display_data"
    }
   ],
   "source": [
    "sns.scatterplot(data = df, x = 'average_rp', y = 'average_ap')"
   ]
  },
  {
   "cell_type": "markdown",
   "id": "b8918e39",
   "metadata": {},
   "source": [
    "<a id='12'></a>\n",
    "## Обучение модели-лидера на значимых призаках"
   ]
  },
  {
   "cell_type": "code",
   "execution_count": 108,
   "id": "ef3bb5b3",
   "metadata": {},
   "outputs": [
    {
     "data": {
      "text/html": [
       "<div>\n",
       "<style scoped>\n",
       "    .dataframe tbody tr th:only-of-type {\n",
       "        vertical-align: middle;\n",
       "    }\n",
       "\n",
       "    .dataframe tbody tr th {\n",
       "        vertical-align: top;\n",
       "    }\n",
       "\n",
       "    .dataframe thead th {\n",
       "        text-align: right;\n",
       "    }\n",
       "</style>\n",
       "<table border=\"1\" class=\"dataframe\">\n",
       "  <thead>\n",
       "    <tr style=\"text-align: right;\">\n",
       "      <th></th>\n",
       "      <th>initial_temp</th>\n",
       "      <th>average_ap</th>\n",
       "      <th>time_rw</th>\n",
       "      <th>time_rs</th>\n",
       "      <th>Bulk 1</th>\n",
       "      <th>Bulk 2</th>\n",
       "      <th>Bulk 3</th>\n",
       "      <th>Bulk 4</th>\n",
       "      <th>Bulk 5</th>\n",
       "      <th>Bulk 6</th>\n",
       "      <th>...</th>\n",
       "      <th>Bulk 12</th>\n",
       "      <th>Bulk 14</th>\n",
       "      <th>Bulk 15</th>\n",
       "      <th>gas</th>\n",
       "      <th>Wire 1</th>\n",
       "      <th>Wire 2</th>\n",
       "      <th>Wire 3</th>\n",
       "      <th>Wire 4</th>\n",
       "      <th>Wire 6</th>\n",
       "      <th>Wire 7</th>\n",
       "    </tr>\n",
       "    <tr>\n",
       "      <th>key</th>\n",
       "      <th></th>\n",
       "      <th></th>\n",
       "      <th></th>\n",
       "      <th></th>\n",
       "      <th></th>\n",
       "      <th></th>\n",
       "      <th></th>\n",
       "      <th></th>\n",
       "      <th></th>\n",
       "      <th></th>\n",
       "      <th></th>\n",
       "      <th></th>\n",
       "      <th></th>\n",
       "      <th></th>\n",
       "      <th></th>\n",
       "      <th></th>\n",
       "      <th></th>\n",
       "      <th></th>\n",
       "      <th></th>\n",
       "      <th></th>\n",
       "      <th></th>\n",
       "    </tr>\n",
       "  </thead>\n",
       "  <tbody>\n",
       "    <tr>\n",
       "      <th>1</th>\n",
       "      <td>1571.0</td>\n",
       "      <td>1.380497</td>\n",
       "      <td>8.550000</td>\n",
       "      <td>5.800000</td>\n",
       "      <td>0.0</td>\n",
       "      <td>0.0</td>\n",
       "      <td>0.0</td>\n",
       "      <td>43.0</td>\n",
       "      <td>0.0</td>\n",
       "      <td>0.0</td>\n",
       "      <td>...</td>\n",
       "      <td>206.0</td>\n",
       "      <td>150.0</td>\n",
       "      <td>154.0</td>\n",
       "      <td>29.749986</td>\n",
       "      <td>60.059998</td>\n",
       "      <td>0.00000</td>\n",
       "      <td>0.0</td>\n",
       "      <td>0.0</td>\n",
       "      <td>0.0</td>\n",
       "      <td>0.0</td>\n",
       "    </tr>\n",
       "    <tr>\n",
       "      <th>2</th>\n",
       "      <td>1581.0</td>\n",
       "      <td>0.999706</td>\n",
       "      <td>11.233333</td>\n",
       "      <td>10.516667</td>\n",
       "      <td>0.0</td>\n",
       "      <td>0.0</td>\n",
       "      <td>0.0</td>\n",
       "      <td>73.0</td>\n",
       "      <td>0.0</td>\n",
       "      <td>0.0</td>\n",
       "      <td>...</td>\n",
       "      <td>206.0</td>\n",
       "      <td>149.0</td>\n",
       "      <td>154.0</td>\n",
       "      <td>12.555561</td>\n",
       "      <td>96.052315</td>\n",
       "      <td>0.00000</td>\n",
       "      <td>0.0</td>\n",
       "      <td>0.0</td>\n",
       "      <td>0.0</td>\n",
       "      <td>0.0</td>\n",
       "    </tr>\n",
       "    <tr>\n",
       "      <th>3</th>\n",
       "      <td>1596.0</td>\n",
       "      <td>0.389889</td>\n",
       "      <td>6.250000</td>\n",
       "      <td>15.416667</td>\n",
       "      <td>0.0</td>\n",
       "      <td>0.0</td>\n",
       "      <td>0.0</td>\n",
       "      <td>34.0</td>\n",
       "      <td>0.0</td>\n",
       "      <td>0.0</td>\n",
       "      <td>...</td>\n",
       "      <td>205.0</td>\n",
       "      <td>152.0</td>\n",
       "      <td>153.0</td>\n",
       "      <td>28.554793</td>\n",
       "      <td>91.160157</td>\n",
       "      <td>0.00000</td>\n",
       "      <td>0.0</td>\n",
       "      <td>0.0</td>\n",
       "      <td>0.0</td>\n",
       "      <td>0.0</td>\n",
       "    </tr>\n",
       "    <tr>\n",
       "      <th>4</th>\n",
       "      <td>1601.0</td>\n",
       "      <td>1.220955</td>\n",
       "      <td>4.633333</td>\n",
       "      <td>1.833333</td>\n",
       "      <td>0.0</td>\n",
       "      <td>0.0</td>\n",
       "      <td>0.0</td>\n",
       "      <td>81.0</td>\n",
       "      <td>0.0</td>\n",
       "      <td>0.0</td>\n",
       "      <td>...</td>\n",
       "      <td>207.0</td>\n",
       "      <td>153.0</td>\n",
       "      <td>154.0</td>\n",
       "      <td>18.841219</td>\n",
       "      <td>89.063515</td>\n",
       "      <td>0.00000</td>\n",
       "      <td>0.0</td>\n",
       "      <td>0.0</td>\n",
       "      <td>0.0</td>\n",
       "      <td>0.0</td>\n",
       "    </tr>\n",
       "    <tr>\n",
       "      <th>5</th>\n",
       "      <td>1576.0</td>\n",
       "      <td>1.423828</td>\n",
       "      <td>8.100000</td>\n",
       "      <td>4.600000</td>\n",
       "      <td>0.0</td>\n",
       "      <td>0.0</td>\n",
       "      <td>0.0</td>\n",
       "      <td>78.0</td>\n",
       "      <td>0.0</td>\n",
       "      <td>0.0</td>\n",
       "      <td>...</td>\n",
       "      <td>203.0</td>\n",
       "      <td>151.0</td>\n",
       "      <td>152.0</td>\n",
       "      <td>5.413692</td>\n",
       "      <td>89.238236</td>\n",
       "      <td>9.11456</td>\n",
       "      <td>0.0</td>\n",
       "      <td>0.0</td>\n",
       "      <td>0.0</td>\n",
       "      <td>0.0</td>\n",
       "    </tr>\n",
       "  </tbody>\n",
       "</table>\n",
       "<p>5 rows × 23 columns</p>\n",
       "</div>"
      ],
      "text/plain": [
       "     initial_temp  average_ap    time_rw    time_rs  Bulk 1  Bulk 2  Bulk 3  \\\n",
       "key                                                                           \n",
       "1          1571.0    1.380497   8.550000   5.800000     0.0     0.0     0.0   \n",
       "2          1581.0    0.999706  11.233333  10.516667     0.0     0.0     0.0   \n",
       "3          1596.0    0.389889   6.250000  15.416667     0.0     0.0     0.0   \n",
       "4          1601.0    1.220955   4.633333   1.833333     0.0     0.0     0.0   \n",
       "5          1576.0    1.423828   8.100000   4.600000     0.0     0.0     0.0   \n",
       "\n",
       "     Bulk 4  Bulk 5  Bulk 6  ...  Bulk 12  Bulk 14  Bulk 15        gas  \\\n",
       "key                          ...                                         \n",
       "1      43.0     0.0     0.0  ...    206.0    150.0    154.0  29.749986   \n",
       "2      73.0     0.0     0.0  ...    206.0    149.0    154.0  12.555561   \n",
       "3      34.0     0.0     0.0  ...    205.0    152.0    153.0  28.554793   \n",
       "4      81.0     0.0     0.0  ...    207.0    153.0    154.0  18.841219   \n",
       "5      78.0     0.0     0.0  ...    203.0    151.0    152.0   5.413692   \n",
       "\n",
       "        Wire 1   Wire 2  Wire 3  Wire 4  Wire 6  Wire 7  \n",
       "key                                                      \n",
       "1    60.059998  0.00000     0.0     0.0     0.0     0.0  \n",
       "2    96.052315  0.00000     0.0     0.0     0.0     0.0  \n",
       "3    91.160157  0.00000     0.0     0.0     0.0     0.0  \n",
       "4    89.063515  0.00000     0.0     0.0     0.0     0.0  \n",
       "5    89.238236  9.11456     0.0     0.0     0.0     0.0  \n",
       "\n",
       "[5 rows x 23 columns]"
      ]
     },
     "execution_count": 108,
     "metadata": {},
     "output_type": "execute_result"
    }
   ],
   "source": [
    "features = df.drop(['final_temp'] + list(unimp_col) + ['average_rp'], axis = 1)\n",
    "features.head()"
   ]
  },
  {
   "cell_type": "code",
   "execution_count": 109,
   "id": "e1ec7376",
   "metadata": {},
   "outputs": [],
   "source": [
    "target = df['final_temp']"
   ]
  },
  {
   "cell_type": "code",
   "execution_count": 110,
   "id": "b7efda7c",
   "metadata": {},
   "outputs": [],
   "source": [
    "features_train, features_test, target_train, target_test = train_test_split(features, target, test_size = 0.2, random_state = 12345)"
   ]
  },
  {
   "cell_type": "code",
   "execution_count": 111,
   "id": "f5f8ddef",
   "metadata": {},
   "outputs": [
    {
     "data": {
      "text/plain": [
       "LGBMRegressor(max_depth=4, n_estimators=500, num_leaves=5, random_state=12345)"
      ]
     },
     "execution_count": 111,
     "metadata": {},
     "output_type": "execute_result"
    },
    {
     "name": "stdout",
     "output_type": "stream",
     "text": [
      "0.764221692529274 5.594778291202059\n"
     ]
    }
   ],
   "source": [
    "model = LGBMRegressor(max_depth = 4, n_estimators = 500,  num_leaves = 5, random_state = 12345)\n",
    "model.fit(features_train, target_train)\n",
    "predicted_test = model.predict(features_test)\n",
    "print(r2_score(target_test, predicted_test), mean_absolute_error(target_test, predicted_test))"
   ]
  },
  {
   "cell_type": "markdown",
   "id": "80240297",
   "metadata": {},
   "source": [
    "Качество немного снизилось"
   ]
  },
  {
   "cell_type": "markdown",
   "id": "9e830eeb",
   "metadata": {},
   "source": [
    "<a id='13'></a>\n",
    "## Общий вывод"
   ]
  },
  {
   "cell_type": "code",
   "execution_count": 112,
   "id": "6b98627a",
   "metadata": {},
   "outputs": [
    {
     "data": {
      "text/html": [
       "<div>\n",
       "<style scoped>\n",
       "    .dataframe tbody tr th:only-of-type {\n",
       "        vertical-align: middle;\n",
       "    }\n",
       "\n",
       "    .dataframe tbody tr th {\n",
       "        vertical-align: top;\n",
       "    }\n",
       "\n",
       "    .dataframe thead th {\n",
       "        text-align: right;\n",
       "    }\n",
       "</style>\n",
       "<table border=\"1\" class=\"dataframe\">\n",
       "  <thead>\n",
       "    <tr style=\"text-align: right;\">\n",
       "      <th></th>\n",
       "      <th>модель</th>\n",
       "      <th>R2</th>\n",
       "      <th>MAE</th>\n",
       "    </tr>\n",
       "  </thead>\n",
       "  <tbody>\n",
       "    <tr>\n",
       "      <th>0</th>\n",
       "      <td>Линейная регрессия</td>\n",
       "      <td>0.693950</td>\n",
       "      <td>6.745480</td>\n",
       "    </tr>\n",
       "    <tr>\n",
       "      <th>1</th>\n",
       "      <td>Случайный лес</td>\n",
       "      <td>0.739241</td>\n",
       "      <td>5.894766</td>\n",
       "    </tr>\n",
       "    <tr>\n",
       "      <th>2</th>\n",
       "      <td>LightGBM</td>\n",
       "      <td>0.767782</td>\n",
       "      <td>5.507610</td>\n",
       "    </tr>\n",
       "  </tbody>\n",
       "</table>\n",
       "</div>"
      ],
      "text/plain": [
       "               модель        R2       MAE\n",
       "0  Линейная регрессия  0.693950  6.745480\n",
       "1       Случайный лес  0.739241  5.894766\n",
       "2            LightGBM  0.767782  5.507610"
      ]
     },
     "execution_count": 112,
     "metadata": {},
     "output_type": "execute_result"
    }
   ],
   "source": [
    "final = pd.DataFrame(data = [['Линейная регрессия'] + res_1, ['Случайный лес'] + res2, ['LightGBM'] + res3] )\n",
    "final.columns = ['модель', 'R2', 'MAE']\n",
    "final"
   ]
  },
  {
   "cell_type": "markdown",
   "id": "ce85f62e",
   "metadata": {},
   "source": [
    "Ожидаемо наилучший результат получили на бустинге - МАЕ = 5.5 градуса, случайный лес дал похожие результаты, но немного хуже и время обучения оказалось значительно выше - поэтому выбор модели одназначен - LightGBM. На нейросетях ничего осмысленного не получилось - даже воспроизвести результат линейной регрессии на одном нейроне. Возможно мало данных и методы оптимизации вшитые в keras дают такой абсурд."
   ]
  },
  {
   "cell_type": "markdown",
   "id": "b44b54a1",
   "metadata": {},
   "source": [
    "## Отчет по решению\n",
    "\n",
    "1) Из исходных данных сформирировали признаки\n",
    "\n",
    "* __initial_temp__ - начальная температура\n",
    "\n",
    "* $t_{rw}$ - время работы электродов, $t_{rs}$ - время простоя электродов,\n",
    "\n",
    "* __average_rp__, __average_ap__ - средняя реактивная и активная мощность нагревающих стержней\n",
    "\n",
    "* $Bulk_{i}$, $Wire_{i}$ - обьемы супучих и проволочных добавок\n",
    "\n",
    "* __Gas__ - обьем продуваемого газа\n",
    "\n",
    "Целевой признак - финальная температура - __final_temp__\n",
    "\n",
    "3) На этапе предобработки были удалены партии с совпадающими временами начального и конечного замера температуры, партии с аномальными значениями мощности (отрицательные значения договорились считать ошибками) а так же с начальными температурами меньшими тепературами плавления стали \n",
    "\n",
    "2) Построили несколько моделей: линейная регрессия, случайный лес, градиентный бустинг.\n",
    "\n",
    "\n",
    "3) Наилучший результат достигнут на LightGBM (500 деревьев, максимальная глубина 4, количество листьев 5) - __MAE = 5.5 градусов__\n",
    "\n",
    "\n",
    "4) Анализ значимости признаков показал, что __Bulk 8__, __Bulk 9__, __Bulk 13__ и __Wire 5__, __Wire 8__, __Wire 9__ не значимы, а реактивные и активные мощности сильно коррелированы  (corr = 0.94). После удаления незначимых добавок и реактивной мощности качество LightGBM незначительно ухудшилось - __MAE = 5.6 градусов__"
   ]
  }
 ],
 "metadata": {
  "kernelspec": {
   "display_name": "Python 3",
   "language": "python",
   "name": "python3"
  },
  "language_info": {
   "codemirror_mode": {
    "name": "ipython",
    "version": 3
   },
   "file_extension": ".py",
   "mimetype": "text/x-python",
   "name": "python",
   "nbconvert_exporter": "python",
   "pygments_lexer": "ipython3",
   "version": "3.8.8"
  },
  "toc": {
   "base_numbering": 1,
   "nav_menu": {},
   "number_sections": true,
   "sideBar": true,
   "skip_h1_title": true,
   "title_cell": "Table of Contents",
   "title_sidebar": "Contents",
   "toc_cell": false,
   "toc_position": {},
   "toc_section_display": true,
   "toc_window_display": false
  }
 },
 "nbformat": 4,
 "nbformat_minor": 5
}
