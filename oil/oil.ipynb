{
 "cells": [
  {
   "cell_type": "markdown",
   "metadata": {},
   "source": [
    "# Выбор локации для нефтяной скважины\n",
    "По данным о месторождениях в нескольких локациях методами машинного обучения определен регион, где добыча принесет наибольшую прибыль. Проанализирована возможная прибыль и риски техникой Bootstrap."
   ]
  },
  {
   "cell_type": "markdown",
   "metadata": {},
   "source": [
    "## Описание данных\n",
    "* __id__ — уникальный идентификатор скважины;\n",
    "* __f0, f1, f2__ — три признака точек;\n",
    "* __product__ — объём запасов в скважине (тыс. баррелей)."
   ]
  },
  {
   "cell_type": "markdown",
   "metadata": {},
   "source": [
    "## Оглавление\n",
    "* [Загрузка и подготовка данных](#1)\n",
    "* [Обучение и проверка модели](#2)\n",
    "* [Подготовка к расчёту прибыли](#3)\n",
    "* [Функция для расчета прибыли](#4)\n",
    "* [Расчёт прибыли и рисков](#5)\n",
    "* [Общий вывод](#6)"
   ]
  },
  {
   "cell_type": "markdown",
   "metadata": {},
   "source": [
    "<a id='1'></a>\n",
    "## Загрузка и подготовка данных"
   ]
  },
  {
   "cell_type": "code",
   "execution_count": 2,
   "metadata": {},
   "outputs": [],
   "source": [
    "from numpy.random import RandomState\n",
    "import pandas as pd\n",
    "import numpy as np\n",
    "from scipy import stats\n",
    "from sklearn.model_selection import train_test_split\n",
    "from sklearn.preprocessing import StandardScaler\n",
    "from sklearn.linear_model import LinearRegression\n",
    "from sklearn.metrics import mean_squared_error\n",
    "from sklearn.metrics import r2_score\n",
    "import matplotlib.pyplot as plt\n",
    "import seaborn as sns"
   ]
  },
  {
   "cell_type": "code",
   "execution_count": 3,
   "metadata": {},
   "outputs": [],
   "source": [
    "df_1 = pd.read_csv('/datasets/geo_data_0.csv')\n",
    "df_2 = pd.read_csv('/datasets/geo_data_1.csv')\n",
    "df_3 = pd.read_csv('/datasets/geo_data_2.csv')"
   ]
  },
  {
   "cell_type": "code",
   "execution_count": 4,
   "metadata": {},
   "outputs": [
    {
     "data": {
      "text/html": [
       "<div>\n",
       "<style scoped>\n",
       "    .dataframe tbody tr th:only-of-type {\n",
       "        vertical-align: middle;\n",
       "    }\n",
       "\n",
       "    .dataframe tbody tr th {\n",
       "        vertical-align: top;\n",
       "    }\n",
       "\n",
       "    .dataframe thead th {\n",
       "        text-align: right;\n",
       "    }\n",
       "</style>\n",
       "<table border=\"1\" class=\"dataframe\">\n",
       "  <thead>\n",
       "    <tr style=\"text-align: right;\">\n",
       "      <th></th>\n",
       "      <th>id</th>\n",
       "      <th>f0</th>\n",
       "      <th>f1</th>\n",
       "      <th>f2</th>\n",
       "      <th>product</th>\n",
       "    </tr>\n",
       "  </thead>\n",
       "  <tbody>\n",
       "    <tr>\n",
       "      <td>0</td>\n",
       "      <td>txEyH</td>\n",
       "      <td>0.705745</td>\n",
       "      <td>-0.497823</td>\n",
       "      <td>1.221170</td>\n",
       "      <td>105.280062</td>\n",
       "    </tr>\n",
       "    <tr>\n",
       "      <td>1</td>\n",
       "      <td>2acmU</td>\n",
       "      <td>1.334711</td>\n",
       "      <td>-0.340164</td>\n",
       "      <td>4.365080</td>\n",
       "      <td>73.037750</td>\n",
       "    </tr>\n",
       "    <tr>\n",
       "      <td>2</td>\n",
       "      <td>409Wp</td>\n",
       "      <td>1.022732</td>\n",
       "      <td>0.151990</td>\n",
       "      <td>1.419926</td>\n",
       "      <td>85.265647</td>\n",
       "    </tr>\n",
       "    <tr>\n",
       "      <td>3</td>\n",
       "      <td>iJLyR</td>\n",
       "      <td>-0.032172</td>\n",
       "      <td>0.139033</td>\n",
       "      <td>2.978566</td>\n",
       "      <td>168.620776</td>\n",
       "    </tr>\n",
       "    <tr>\n",
       "      <td>4</td>\n",
       "      <td>Xdl7t</td>\n",
       "      <td>1.988431</td>\n",
       "      <td>0.155413</td>\n",
       "      <td>4.751769</td>\n",
       "      <td>154.036647</td>\n",
       "    </tr>\n",
       "    <tr>\n",
       "      <td>...</td>\n",
       "      <td>...</td>\n",
       "      <td>...</td>\n",
       "      <td>...</td>\n",
       "      <td>...</td>\n",
       "      <td>...</td>\n",
       "    </tr>\n",
       "    <tr>\n",
       "      <td>99995</td>\n",
       "      <td>DLsed</td>\n",
       "      <td>0.971957</td>\n",
       "      <td>0.370953</td>\n",
       "      <td>6.075346</td>\n",
       "      <td>110.744026</td>\n",
       "    </tr>\n",
       "    <tr>\n",
       "      <td>99996</td>\n",
       "      <td>QKivN</td>\n",
       "      <td>1.392429</td>\n",
       "      <td>-0.382606</td>\n",
       "      <td>1.273912</td>\n",
       "      <td>122.346843</td>\n",
       "    </tr>\n",
       "    <tr>\n",
       "      <td>99997</td>\n",
       "      <td>3rnvd</td>\n",
       "      <td>1.029585</td>\n",
       "      <td>0.018787</td>\n",
       "      <td>-1.348308</td>\n",
       "      <td>64.375443</td>\n",
       "    </tr>\n",
       "    <tr>\n",
       "      <td>99998</td>\n",
       "      <td>7kl59</td>\n",
       "      <td>0.998163</td>\n",
       "      <td>-0.528582</td>\n",
       "      <td>1.583869</td>\n",
       "      <td>74.040764</td>\n",
       "    </tr>\n",
       "    <tr>\n",
       "      <td>99999</td>\n",
       "      <td>1CWhH</td>\n",
       "      <td>1.764754</td>\n",
       "      <td>-0.266417</td>\n",
       "      <td>5.722849</td>\n",
       "      <td>149.633246</td>\n",
       "    </tr>\n",
       "  </tbody>\n",
       "</table>\n",
       "<p>100000 rows × 5 columns</p>\n",
       "</div>"
      ],
      "text/plain": [
       "          id        f0        f1        f2     product\n",
       "0      txEyH  0.705745 -0.497823  1.221170  105.280062\n",
       "1      2acmU  1.334711 -0.340164  4.365080   73.037750\n",
       "2      409Wp  1.022732  0.151990  1.419926   85.265647\n",
       "3      iJLyR -0.032172  0.139033  2.978566  168.620776\n",
       "4      Xdl7t  1.988431  0.155413  4.751769  154.036647\n",
       "...      ...       ...       ...       ...         ...\n",
       "99995  DLsed  0.971957  0.370953  6.075346  110.744026\n",
       "99996  QKivN  1.392429 -0.382606  1.273912  122.346843\n",
       "99997  3rnvd  1.029585  0.018787 -1.348308   64.375443\n",
       "99998  7kl59  0.998163 -0.528582  1.583869   74.040764\n",
       "99999  1CWhH  1.764754 -0.266417  5.722849  149.633246\n",
       "\n",
       "[100000 rows x 5 columns]"
      ]
     },
     "execution_count": 4,
     "metadata": {},
     "output_type": "execute_result"
    }
   ],
   "source": [
    "df_1"
   ]
  },
  {
   "cell_type": "code",
   "execution_count": 5,
   "metadata": {},
   "outputs": [
    {
     "name": "stdout",
     "output_type": "stream",
     "text": [
      "<class 'pandas.core.frame.DataFrame'>\n",
      "RangeIndex: 100000 entries, 0 to 99999\n",
      "Data columns (total 5 columns):\n",
      "id         100000 non-null object\n",
      "f0         100000 non-null float64\n",
      "f1         100000 non-null float64\n",
      "f2         100000 non-null float64\n",
      "product    100000 non-null float64\n",
      "dtypes: float64(4), object(1)\n",
      "memory usage: 3.8+ MB\n",
      "<class 'pandas.core.frame.DataFrame'>\n",
      "RangeIndex: 100000 entries, 0 to 99999\n",
      "Data columns (total 5 columns):\n",
      "id         100000 non-null object\n",
      "f0         100000 non-null float64\n",
      "f1         100000 non-null float64\n",
      "f2         100000 non-null float64\n",
      "product    100000 non-null float64\n",
      "dtypes: float64(4), object(1)\n",
      "memory usage: 3.8+ MB\n",
      "<class 'pandas.core.frame.DataFrame'>\n",
      "RangeIndex: 100000 entries, 0 to 99999\n",
      "Data columns (total 5 columns):\n",
      "id         100000 non-null object\n",
      "f0         100000 non-null float64\n",
      "f1         100000 non-null float64\n",
      "f2         100000 non-null float64\n",
      "product    100000 non-null float64\n",
      "dtypes: float64(4), object(1)\n",
      "memory usage: 3.8+ MB\n"
     ]
    }
   ],
   "source": [
    "df_1.info()\n",
    "df_2.info()\n",
    "df_3.info()"
   ]
  },
  {
   "cell_type": "code",
   "execution_count": 6,
   "metadata": {},
   "outputs": [
    {
     "data": {
      "text/plain": [
       "0"
      ]
     },
     "execution_count": 6,
     "metadata": {},
     "output_type": "execute_result"
    }
   ],
   "source": [
    "df_1.duplicated().sum()"
   ]
  },
  {
   "cell_type": "markdown",
   "metadata": {},
   "source": [
    "## Промежуточный вывод\n",
    "\n",
    "Данные уже предабработаны и готовы к анализу"
   ]
  },
  {
   "cell_type": "markdown",
   "metadata": {},
   "source": [
    "<a id='2'></a>\n",
    "## Обучение и проверка модели"
   ]
  },
  {
   "cell_type": "markdown",
   "metadata": {},
   "source": [
    "Создадим список __data__ со всеми датафреймами чтобы избежать повторяющегося кода. Для каждого региона сделаем разбивку на обучающую и валидационную выборку (соотношение 75:25). Обучим модель линейной регрессии отдельно на каждом регионе и сохраним предсказания запасов нефти с ответами на валидационной выборке. Так же запомнить метрики __RMSE__,  __$R^2$__ для каждого региона, чтобы найти тот, в котором точнее всего работает модель"
   ]
  },
  {
   "cell_type": "code",
   "execution_count": 7,
   "metadata": {},
   "outputs": [
    {
     "data": {
      "image/png": "[encoded data removed]",
      "text/plain": [
       "<Figure size 432x288 with 1 Axes>"
      ]
     },
     "metadata": {
      "needs_background": "light"
     },
     "output_type": "display_data"
    },
    {
     "data": {
      "image/png": "[encoded data removed]",
      "text/plain": [
       "<Figure size 432x288 with 1 Axes>"
      ]
     },
     "metadata": {
      "needs_background": "light"
     },
     "output_type": "display_data"
    },
    {
     "data": {
      "image/png": "[encoded data removed]",
      "text/plain": [
       "<Figure size 432x288 with 1 Axes>"
      ]
     },
     "metadata": {
      "needs_background": "light"
     },
     "output_type": "display_data"
    }
   ],
   "source": [
    "data = [df_1, df_2, df_3]\n",
    "results = {'region number': [], 'average prediction': [], 'real average': [],  'RMSE': [], '$R^2$': []}\n",
    "i = 0\n",
    "predictions = []\n",
    "answers = []\n",
    "for df in data:\n",
    "    results['region number'].append(i + 1)\n",
    "    i += 1\n",
    "    \n",
    "    target = df['product']\n",
    "    features = df.drop(['id', 'product'] , axis=1)\n",
    "    features_train, features_valid, target_train, target_valid = train_test_split(\n",
    "        features, target, test_size=0.25, random_state=12345)\n",
    "    \n",
    "    scaler = StandardScaler()\n",
    "    scaler.fit(features_train)\n",
    "    features_train = scaler.transform(features_train)\n",
    "    features_valid = scaler.transform(features_valid)\n",
    "    \n",
    "    model = LinearRegression()\n",
    "    model.fit(features_train, target_train)\n",
    "    predicted_valid = model.predict(features_valid)\n",
    "    \n",
    "    predictions.append(predicted_valid)\n",
    "    answers.append(target_valid)\n",
    "    \n",
    "    results['average prediction'].append(predicted_valid.mean())\n",
    "    \n",
    "    results['real average'].append(target.mean())\n",
    "    \n",
    "    mse = mean_squared_error(target_valid, predicted_valid)\n",
    "    results['RMSE'].append(mse ** 0.5)\n",
    "    \n",
    "    r2 = r2_score(target_valid, predicted_valid)\n",
    "    results['$R^2$'].append (r2)\n",
    "\n",
    "    title = 'Product distribution in region ' + str(i)\n",
    "    ax = sns.histplot(x=predicted_valid, color = 'r', alpha = 0.5, label = 'predicted')\n",
    "    ax = sns.histplot(x=target_valid, alpha = 0.7, legend = True, label = 'target')\n",
    "    ax.set(title = title)\n",
    "    plt.legend()\n",
    "    plt.show()"
   ]
  },
  {
   "cell_type": "code",
   "execution_count": 8,
   "metadata": {},
   "outputs": [
    {
     "data": {
      "text/html": [
       "<div>\n",
       "<style scoped>\n",
       "    .dataframe tbody tr th:only-of-type {\n",
       "        vertical-align: middle;\n",
       "    }\n",
       "\n",
       "    .dataframe tbody tr th {\n",
       "        vertical-align: top;\n",
       "    }\n",
       "\n",
       "    .dataframe thead th {\n",
       "        text-align: right;\n",
       "    }\n",
       "</style>\n",
       "<table border=\"1\" class=\"dataframe\">\n",
       "  <thead>\n",
       "    <tr style=\"text-align: right;\">\n",
       "      <th></th>\n",
       "      <th>average prediction</th>\n",
       "      <th>real average</th>\n",
       "      <th>RMSE</th>\n",
       "      <th>$R^2$</th>\n",
       "    </tr>\n",
       "    <tr>\n",
       "      <th>region number</th>\n",
       "      <th></th>\n",
       "      <th></th>\n",
       "      <th></th>\n",
       "      <th></th>\n",
       "    </tr>\n",
       "  </thead>\n",
       "  <tbody>\n",
       "    <tr>\n",
       "      <td>1</td>\n",
       "      <td>92.592568</td>\n",
       "      <td>92.500</td>\n",
       "      <td>37.579422</td>\n",
       "      <td>0.279943</td>\n",
       "    </tr>\n",
       "    <tr>\n",
       "      <td>2</td>\n",
       "      <td>68.728547</td>\n",
       "      <td>68.825</td>\n",
       "      <td>0.893099</td>\n",
       "      <td>0.999623</td>\n",
       "    </tr>\n",
       "    <tr>\n",
       "      <td>3</td>\n",
       "      <td>94.965046</td>\n",
       "      <td>95.000</td>\n",
       "      <td>40.029709</td>\n",
       "      <td>0.205248</td>\n",
       "    </tr>\n",
       "  </tbody>\n",
       "</table>\n",
       "</div>"
      ],
      "text/plain": [
       "               average prediction  real average       RMSE     $R^2$\n",
       "region number                                                       \n",
       "1                       92.592568        92.500  37.579422  0.279943\n",
       "2                       68.728547        68.825   0.893099  0.999623\n",
       "3                       94.965046        95.000  40.029709  0.205248"
      ]
     },
     "execution_count": 8,
     "metadata": {},
     "output_type": "execute_result"
    }
   ],
   "source": [
    "results = pd.DataFrame(results)\n",
    "results.set_index('region number')"
   ]
  },
  {
   "cell_type": "markdown",
   "metadata": {},
   "source": [
    "## Промежуточный вывод\n",
    "Самые богатые нефтью - регионы 1 и 3, самый бедный - второй регион. Тем не менее линейная регрессия работает гораздо лучше во втором регионе - хорошо предсказывает скважины где нет нефти и где ее много. Из-за специфики распределения скважин по прастранству признаков в 1 и 3 регионе линейная регрессия в них работает плохо - не \"видит\" пустых и богатых нефтью скважин. Метрики $R^2$ и __RMSE__ так же существенно лучше во втором регионе "
   ]
  },
  {
   "cell_type": "markdown",
   "metadata": {},
   "source": [
    "<a id='3'></a>\n",
    "## Подготовка к расчёту прибыли\n",
    "Напишем функцию для расчета реальной прибыли. На вход она принимает значения запасов нефти для произвольного количества месторождений, возвращает прибыль в млрд. рублей  "
   ]
  },
  {
   "cell_type": "code",
   "execution_count": 12,
   "metadata": {},
   "outputs": [
    {
     "name": "stdout",
     "output_type": "stream",
     "text": [
      "в среднем необходимо более 111 тыс. баррелей на скважину для рентабильности разработки\n"
     ]
    }
   ],
   "source": [
    "BUDGET = 10e9\n",
    "INCOME_PER_UNIT  = 450e3\n",
    "N = 200\n",
    "ESSENTIAL_RESOURCE = BUDGET / (INCOME_PER_UNIT * N)\n",
    "print('в среднем необходимо более', round(ESSENTIAL_RESOURCE), 'тыс. баррелей на скважину для рентабильности разработки')"
   ]
  },
  {
   "cell_type": "markdown",
   "metadata": {},
   "source": [
    "__Промежуточный вывод__\n",
    "\n",
    "Для окупаемости разработки необходимо в среднем более 111 тыс баррелей на месторождение, это значение превышает средние запасы во всех регионах. В связи с этим принципиально выбрать такой регион, в котором модель линейной регрессии будет выбирать богатые нефтью месторождения и отсеивать скважины с маленькими запасами. Пока наиболее проиритетным в этом смысле является второй регион - модель лучше всего работает именно в нем."
   ]
  },
  {
   "cell_type": "markdown",
   "metadata": {},
   "source": [
    "<a id='4'></a>\n",
    "## Функция для расчета прибыли"
   ]
  },
  {
   "cell_type": "code",
   "execution_count": 19,
   "metadata": {},
   "outputs": [],
   "source": [
    "def profit(target):\n",
    "    result = sum(target) - BUDGET/INCOME_PER_UNIT\n",
    "    return INCOME_PER_UNIT * result / 10e9"
   ]
  },
  {
   "cell_type": "markdown",
   "metadata": {},
   "source": [
    "<a id='5'></a>\n",
    "## Расчёт прибыли и рисков "
   ]
  },
  {
   "cell_type": "markdown",
   "metadata": {},
   "source": [
    "Техникой __bootstrap__ смоделируем применение наших моделей в условиях реальной задачи. В каждом регионе есть 500 новых месторождений с известными f0, f1, f2, но неизвестными запасами нефти. Поэтому выберем случайно 500 месторождений из валидационной выборки. С помощью модели оставляем 200 лучших из них. Зная реальные запасы нефти считаем прибыль которую бы мы получили в случае их разработки. Для кажого региона повторяем процедуру 1000 раз. Оцениваем доверительные интервалы и риски убытков для кажлго региона"
   ]
  },
  {
   "cell_type": "code",
   "execution_count": 20,
   "metadata": {},
   "outputs": [
    {
     "data": {
      "text/html": [
       "<div>\n",
       "<style scoped>\n",
       "    .dataframe tbody tr th:only-of-type {\n",
       "        vertical-align: middle;\n",
       "    }\n",
       "\n",
       "    .dataframe tbody tr th {\n",
       "        vertical-align: top;\n",
       "    }\n",
       "\n",
       "    .dataframe thead th {\n",
       "        text-align: right;\n",
       "    }\n",
       "</style>\n",
       "<table border=\"1\" class=\"dataframe\">\n",
       "  <thead>\n",
       "    <tr style=\"text-align: right;\">\n",
       "      <th></th>\n",
       "      <th>predictions</th>\n",
       "      <th>answers</th>\n",
       "    </tr>\n",
       "  </thead>\n",
       "  <tbody>\n",
       "    <tr>\n",
       "      <td>71751</td>\n",
       "      <td>95.894952</td>\n",
       "      <td>10.038645</td>\n",
       "    </tr>\n",
       "    <tr>\n",
       "      <td>80493</td>\n",
       "      <td>77.572583</td>\n",
       "      <td>114.551489</td>\n",
       "    </tr>\n",
       "    <tr>\n",
       "      <td>2655</td>\n",
       "      <td>77.892640</td>\n",
       "      <td>132.603635</td>\n",
       "    </tr>\n",
       "    <tr>\n",
       "      <td>53233</td>\n",
       "      <td>90.175134</td>\n",
       "      <td>169.072125</td>\n",
       "    </tr>\n",
       "    <tr>\n",
       "      <td>91141</td>\n",
       "      <td>70.510088</td>\n",
       "      <td>122.325180</td>\n",
       "    </tr>\n",
       "    <tr>\n",
       "      <td>...</td>\n",
       "      <td>...</td>\n",
       "      <td>...</td>\n",
       "    </tr>\n",
       "    <tr>\n",
       "      <td>12581</td>\n",
       "      <td>103.037104</td>\n",
       "      <td>170.116726</td>\n",
       "    </tr>\n",
       "    <tr>\n",
       "      <td>18456</td>\n",
       "      <td>85.403255</td>\n",
       "      <td>93.632175</td>\n",
       "    </tr>\n",
       "    <tr>\n",
       "      <td>73035</td>\n",
       "      <td>61.509833</td>\n",
       "      <td>127.352259</td>\n",
       "    </tr>\n",
       "    <tr>\n",
       "      <td>63834</td>\n",
       "      <td>118.180397</td>\n",
       "      <td>99.782700</td>\n",
       "    </tr>\n",
       "    <tr>\n",
       "      <td>43558</td>\n",
       "      <td>118.169392</td>\n",
       "      <td>177.821022</td>\n",
       "    </tr>\n",
       "  </tbody>\n",
       "</table>\n",
       "<p>25000 rows × 2 columns</p>\n",
       "</div>"
      ],
      "text/plain": [
       "       predictions     answers\n",
       "71751    95.894952   10.038645\n",
       "80493    77.572583  114.551489\n",
       "2655     77.892640  132.603635\n",
       "53233    90.175134  169.072125\n",
       "91141    70.510088  122.325180\n",
       "...            ...         ...\n",
       "12581   103.037104  170.116726\n",
       "18456    85.403255   93.632175\n",
       "73035    61.509833  127.352259\n",
       "63834   118.180397   99.782700\n",
       "43558   118.169392  177.821022\n",
       "\n",
       "[25000 rows x 2 columns]"
      ]
     },
     "execution_count": 20,
     "metadata": {},
     "output_type": "execute_result"
    }
   ],
   "source": [
    "results = pd.DataFrame({'predictions': predictions[0], 'answers': answers[0]})\n",
    "results"
   ]
  },
  {
   "cell_type": "code",
   "execution_count": 21,
   "metadata": {},
   "outputs": [],
   "source": [
    "state = np.random.RandomState(12345)\n",
    "values_list = []\n",
    "risks = []\n",
    "for i in range(len(answers)):\n",
    "    values = []\n",
    "    temp_df = pd.DataFrame({'predictions': predictions[i], 'answers': answers[i]})\n",
    "    for j in range (1000):\n",
    "        subsample = temp_df.sample(n = 500, replace=True, random_state=state)\n",
    "        value = profit(subsample.sort_values(by = 'predictions', ascending = False)[:200]['answers'])\n",
    "        values.append(value)\n",
    "    values_list.append(values)\n",
    "    risks.append(stats.percentileofscore(values, 0))"
   ]
  },
  {
   "cell_type": "code",
   "execution_count": 22,
   "metadata": {},
   "outputs": [
    {
     "data": {
      "text/html": [
       "<div>\n",
       "<style scoped>\n",
       "    .dataframe tbody tr th:only-of-type {\n",
       "        vertical-align: middle;\n",
       "    }\n",
       "\n",
       "    .dataframe tbody tr th {\n",
       "        vertical-align: top;\n",
       "    }\n",
       "\n",
       "    .dataframe thead th {\n",
       "        text-align: right;\n",
       "    }\n",
       "</style>\n",
       "<table border=\"1\" class=\"dataframe\">\n",
       "  <thead>\n",
       "    <tr style=\"text-align: right;\">\n",
       "      <th></th>\n",
       "      <th>region 1 profit</th>\n",
       "      <th>region 2 profit</th>\n",
       "      <th>region 3 profit</th>\n",
       "    </tr>\n",
       "  </thead>\n",
       "  <tbody>\n",
       "    <tr>\n",
       "      <td>mean</td>\n",
       "      <td>0.039616</td>\n",
       "      <td>0.046116</td>\n",
       "      <td>0.039295</td>\n",
       "    </tr>\n",
       "    <tr>\n",
       "      <td>2.5%</td>\n",
       "      <td>-0.011122</td>\n",
       "      <td>0.007805</td>\n",
       "      <td>-0.011223</td>\n",
       "    </tr>\n",
       "    <tr>\n",
       "      <td>97.5%</td>\n",
       "      <td>0.090977</td>\n",
       "      <td>0.086295</td>\n",
       "      <td>0.093456</td>\n",
       "    </tr>\n",
       "  </tbody>\n",
       "</table>\n",
       "</div>"
      ],
      "text/plain": [
       "       region 1 profit  region 2 profit  region 3 profit\n",
       "mean          0.039616         0.046116         0.039295\n",
       "2.5%         -0.011122         0.007805        -0.011223\n",
       "97.5%         0.090977         0.086295         0.093456"
      ]
     },
     "execution_count": 22,
     "metadata": {},
     "output_type": "execute_result"
    }
   ],
   "source": [
    "final_result = pd.DataFrame({'region 1 profit': values_list[0],'region 2 profit': values_list[1] ,'region 3 profit': values_list[2]})\n",
    "final_result.describe(percentiles = [.025, .975] ).loc[['mean', '2.5%', '97.5%']]"
   ]
  },
  {
   "cell_type": "code",
   "execution_count": 23,
   "metadata": {},
   "outputs": [
    {
     "data": {
      "text/plain": [
       "Text(0, 0.5, 'Profit, billion rubles')"
      ]
     },
     "execution_count": 23,
     "metadata": {},
     "output_type": "execute_result"
    },
    {
     "data": {
      "image/png": "[encoded data removed]",
      "text/plain": [
       "<Figure size 432x288 with 1 Axes>"
      ]
     },
     "metadata": {
      "needs_background": "light"
     },
     "output_type": "display_data"
    }
   ],
   "source": [
    "sns.boxplot(data = final_result)\n",
    "plt.ylabel('Profit, billion rubles')"
   ]
  },
  {
   "cell_type": "code",
   "execution_count": 24,
   "metadata": {},
   "outputs": [
    {
     "name": "stdout",
     "output_type": "stream",
     "text": [
      "Риск отрицательной прибыли в регоине 1 - 6.9 %\n",
      "Риск отрицательной прибыли в регоине 2 - 0.7 %\n",
      "Риск отрицательной прибыли в регоине 3 - 6.5 %\n"
     ]
    }
   ],
   "source": [
    "for i in range(len(data)):\n",
    "    print('Риск отрицательной прибыли в регоине ' + str(i + 1) + ' -', risks[i], '%')"
   ]
  },
  {
   "cell_type": "markdown",
   "metadata": {},
   "source": [
    "<a id='6'></a>\n",
    "## Общий вывод\n",
    "\n",
    "* Самые богатые нефтью - регионы 1 и 3 (93 и 95 тыс баррелей), самый бедный - 2 регион (69 тыс. баррелей). Тем не менее линейная регрессия работает гораздо лучше во втором регионе - хорошо предсказывает скважины где нет нефти и где ее много.\n",
    "\n",
    "\n",
    "* Для окупаемости разработки необходимо в среднем более 111 тыс баррелей на месторождение, это значение превышает средние запасы во всех регионах.\n",
    "\n",
    "\n",
    "* В качестве модели использовалась линейная регрессия по требованию заказчика \n",
    "\n",
    "\n",
    "* Линейная регрессия точнее всего сработала во втором регионе. Несмотря на наименьший запас нефти, вероятность получить положительную прибыль - 99.3%. Во втором регионе так же максимальная средняя ожидаемая прибыль - 46 млн. рублей."
   ]
  }
 ],
 "metadata": {
  "kernelspec": {
   "display_name": "Python 3",
   "language": "python",
   "name": "python3"
  },
  "language_info": {
   "codemirror_mode": {
    "name": "ipython",
    "version": 3
   },
   "file_extension": ".py",
   "mimetype": "text/x-python",
   "name": "python",
   "nbconvert_exporter": "python",
   "pygments_lexer": "ipython3",
   "version": "3.8.8"
  },
  "toc": {
   "base_numbering": 1,
   "nav_menu": {},
   "number_sections": true,
   "sideBar": true,
   "skip_h1_title": false,
   "title_cell": "Table of Contents",
   "title_sidebar": "Contents",
   "toc_cell": false,
   "toc_position": {
    "height": "623.556px",
    "left": "383px",
    "top": "197.778px",
    "width": "315.014px"
   },
   "toc_section_display": true,
   "toc_window_display": false
  }
 },
 "nbformat": 4,
 "nbformat_minor": 2
}
