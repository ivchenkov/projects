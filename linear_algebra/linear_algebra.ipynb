{
 "cells": [
  {
   "cell_type": "markdown",
   "metadata": {
    "toc": true
   },
   "source": [
    "# Защита данных клиентов"
   ]
  },
  {
   "cell_type": "markdown",
   "metadata": {},
   "source": [
    "С помощью линейного преобразования зашифрованы данные клиентов. \n",
    "Теоретически обоснована инвариантность предсказаний линейной регрессии."
   ]
  },
  {
   "cell_type": "markdown",
   "metadata": {},
   "source": [
    "## Описание данных\n",
    "\n",
    "* Признаки: пол, возраст и зарплата застрахованного, количество членов его семьи.\n",
    "* Целевой признак: количество страховых выплат клиенту за последние 5 лет."
   ]
  },
  {
   "cell_type": "markdown",
   "metadata": {},
   "source": [
    "<h1>Оглавление<span class=\"tocSkip\"></span></h1>\n",
    "<div class=\"toc\"><ul class=\"toc-item\"><li><span><a href=\"#Загрузка-данных\" data-toc-modified-id=\"Загрузка-данных-1\"><span class=\"toc-item-num\">1&nbsp;&nbsp;</span>Загрузка данных</a></span></li><li><span><a href=\"#Умножение-матриц\" data-toc-modified-id=\"Умножение-матриц-2\"><span class=\"toc-item-num\">2&nbsp;&nbsp;</span>Умножение матриц</a></span></li><li><span><a href=\"#Алгоритм-преобразования\" data-toc-modified-id=\"Алгоритм-преобразования-3\"><span class=\"toc-item-num\">3&nbsp;&nbsp;</span>Алгоритм преобразования</a></span></li><li><span><a href=\"#Проверка-алгоритма\" data-toc-modified-id=\"Проверка-алгоритма-4\"><span class=\"toc-item-num\">4&nbsp;&nbsp;</span>Проверка алгоритма</a></span><ul class=\"toc-item\"><li><span><a href=\"#Генерируем-матрицу\" data-toc-modified-id=\"Генерируем-матрицу-4.1\"><span class=\"toc-item-num\">4.1&nbsp;&nbsp;</span>Генерируем матрицу</a></span></li><li><span><a href=\"#Разбиваем-данные,-преобразуем-их\" data-toc-modified-id=\"Разбиваем-данные,-преобразуем-их-4.2\"><span class=\"toc-item-num\">4.2&nbsp;&nbsp;</span>Разбиваем данные, преобразуем их</a></span></li><li><span><a href=\"#Обучаем-линейную-регрессию-на-преобразованных-и-на-исходных-данных,-считаем-$R^2$\" data-toc-modified-id=\"Обучаем-линейную-регрессию-на-преобразованных-и-на-исходных-данных,-считаем-$R^2$-4.3\"><span class=\"toc-item-num\">4.3&nbsp;&nbsp;</span>Обучаем линейную регрессию на преобразованных и на исходных данных, считаем $R^2$</a></span></li><li><span><a href=\"#На-всякий-случай-проверим-равенство-$\\overline{Xw}-=-Xw$\" data-toc-modified-id=\"На-всякий-случай-проверим-равенство-$\\overline{Xw}-=-Xw$-4.4\"><span class=\"toc-item-num\">4.4&nbsp;&nbsp;</span>На всякий случай проверим равенство $\\overline{Xw} = Xw$</a></span></li></ul></li><li><span><a href=\"#Общий-вывод\" data-toc-modified-id=\"Общий-вывод-5\"><span class=\"toc-item-num\">5&nbsp;&nbsp;</span>Общий вывод</a></span></li><li><span><a href=\"#Чек-лист-проверки\" data-toc-modified-id=\"Чек-лист-проверки-6\"><span class=\"toc-item-num\">6&nbsp;&nbsp;</span>Чек-лист проверки</a></span></li></ul></div>"
   ]
  },
  {
   "cell_type": "markdown",
   "metadata": {},
   "source": [
    "## Загрузка данных"
   ]
  },
  {
   "cell_type": "code",
   "execution_count": 7,
   "metadata": {},
   "outputs": [],
   "source": [
    "import pandas as pd\n",
    "import numpy as np\n",
    "from sklearn.linear_model import LinearRegression\n",
    "from sklearn.metrics import r2_score, mean_absolute_error"
   ]
  },
  {
   "cell_type": "code",
   "execution_count": 12,
   "metadata": {},
   "outputs": [
    {
     "data": {
      "text/html": [
       "<div>\n",
       "<style scoped>\n",
       "    .dataframe tbody tr th:only-of-type {\n",
       "        vertical-align: middle;\n",
       "    }\n",
       "\n",
       "    .dataframe tbody tr th {\n",
       "        vertical-align: top;\n",
       "    }\n",
       "\n",
       "    .dataframe thead th {\n",
       "        text-align: right;\n",
       "    }\n",
       "</style>\n",
       "<table border=\"1\" class=\"dataframe\">\n",
       "  <thead>\n",
       "    <tr style=\"text-align: right;\">\n",
       "      <th></th>\n",
       "      <th>Пол</th>\n",
       "      <th>Возраст</th>\n",
       "      <th>Зарплата</th>\n",
       "      <th>Члены семьи</th>\n",
       "      <th>Страховые выплаты</th>\n",
       "    </tr>\n",
       "  </thead>\n",
       "  <tbody>\n",
       "    <tr>\n",
       "      <td>0</td>\n",
       "      <td>1</td>\n",
       "      <td>41.0</td>\n",
       "      <td>49600.0</td>\n",
       "      <td>1</td>\n",
       "      <td>0</td>\n",
       "    </tr>\n",
       "    <tr>\n",
       "      <td>1</td>\n",
       "      <td>0</td>\n",
       "      <td>46.0</td>\n",
       "      <td>38000.0</td>\n",
       "      <td>1</td>\n",
       "      <td>1</td>\n",
       "    </tr>\n",
       "    <tr>\n",
       "      <td>2</td>\n",
       "      <td>0</td>\n",
       "      <td>29.0</td>\n",
       "      <td>21000.0</td>\n",
       "      <td>0</td>\n",
       "      <td>0</td>\n",
       "    </tr>\n",
       "    <tr>\n",
       "      <td>3</td>\n",
       "      <td>0</td>\n",
       "      <td>21.0</td>\n",
       "      <td>41700.0</td>\n",
       "      <td>2</td>\n",
       "      <td>0</td>\n",
       "    </tr>\n",
       "    <tr>\n",
       "      <td>4</td>\n",
       "      <td>1</td>\n",
       "      <td>28.0</td>\n",
       "      <td>26100.0</td>\n",
       "      <td>0</td>\n",
       "      <td>0</td>\n",
       "    </tr>\n",
       "    <tr>\n",
       "      <td>...</td>\n",
       "      <td>...</td>\n",
       "      <td>...</td>\n",
       "      <td>...</td>\n",
       "      <td>...</td>\n",
       "      <td>...</td>\n",
       "    </tr>\n",
       "    <tr>\n",
       "      <td>4995</td>\n",
       "      <td>0</td>\n",
       "      <td>28.0</td>\n",
       "      <td>35700.0</td>\n",
       "      <td>2</td>\n",
       "      <td>0</td>\n",
       "    </tr>\n",
       "    <tr>\n",
       "      <td>4996</td>\n",
       "      <td>0</td>\n",
       "      <td>34.0</td>\n",
       "      <td>52400.0</td>\n",
       "      <td>1</td>\n",
       "      <td>0</td>\n",
       "    </tr>\n",
       "    <tr>\n",
       "      <td>4997</td>\n",
       "      <td>0</td>\n",
       "      <td>20.0</td>\n",
       "      <td>33900.0</td>\n",
       "      <td>2</td>\n",
       "      <td>0</td>\n",
       "    </tr>\n",
       "    <tr>\n",
       "      <td>4998</td>\n",
       "      <td>1</td>\n",
       "      <td>22.0</td>\n",
       "      <td>32700.0</td>\n",
       "      <td>3</td>\n",
       "      <td>0</td>\n",
       "    </tr>\n",
       "    <tr>\n",
       "      <td>4999</td>\n",
       "      <td>1</td>\n",
       "      <td>28.0</td>\n",
       "      <td>40600.0</td>\n",
       "      <td>1</td>\n",
       "      <td>0</td>\n",
       "    </tr>\n",
       "  </tbody>\n",
       "</table>\n",
       "<p>5000 rows × 5 columns</p>\n",
       "</div>"
      ],
      "text/plain": [
       "      Пол  Возраст  Зарплата  Члены семьи  Страховые выплаты\n",
       "0       1     41.0   49600.0            1                  0\n",
       "1       0     46.0   38000.0            1                  1\n",
       "2       0     29.0   21000.0            0                  0\n",
       "3       0     21.0   41700.0            2                  0\n",
       "4       1     28.0   26100.0            0                  0\n",
       "...   ...      ...       ...          ...                ...\n",
       "4995    0     28.0   35700.0            2                  0\n",
       "4996    0     34.0   52400.0            1                  0\n",
       "4997    0     20.0   33900.0            2                  0\n",
       "4998    1     22.0   32700.0            3                  0\n",
       "4999    1     28.0   40600.0            1                  0\n",
       "\n",
       "[5000 rows x 5 columns]"
      ]
     },
     "execution_count": 12,
     "metadata": {},
     "output_type": "execute_result"
    }
   ],
   "source": [
    "df = pd.read_csv('/datasets/insurance.csv')\n",
    "df"
   ]
  },
  {
   "cell_type": "code",
   "execution_count": 4,
   "metadata": {},
   "outputs": [
    {
     "name": "stdout",
     "output_type": "stream",
     "text": [
      "<class 'pandas.core.frame.DataFrame'>\n",
      "RangeIndex: 5000 entries, 0 to 4999\n",
      "Data columns (total 5 columns):\n",
      "Пол                  5000 non-null int64\n",
      "Возраст              5000 non-null float64\n",
      "Зарплата             5000 non-null float64\n",
      "Члены семьи          5000 non-null int64\n",
      "Страховые выплаты    5000 non-null int64\n",
      "dtypes: float64(2), int64(3)\n",
      "memory usage: 195.4 KB\n"
     ]
    }
   ],
   "source": [
    "df.info()"
   ]
  },
  {
   "cell_type": "markdown",
   "metadata": {},
   "source": [
    "__Промежуточный вывод__\n",
    "\n",
    "Данные не требуют предобработки и готовы к анализу."
   ]
  },
  {
   "cell_type": "markdown",
   "metadata": {},
   "source": [
    "## Теоретическая часть"
   ]
  },
  {
   "cell_type": "markdown",
   "metadata": {},
   "source": [
    "Обозначения:\n",
    "\n",
    "- $X$ — матрица признаков (нулевой столбец состоит из единиц)\n",
    "\n",
    "- $y$ — вектор целевого признака\n",
    "\n",
    "- $P$ — матрица, на которую умножаются признаки\n",
    "\n",
    "- $w$ — вектор весов линейной регрессии (нулевой элемент равен сдвигу)"
   ]
  },
  {
   "cell_type": "markdown",
   "metadata": {},
   "source": [
    "Предсказания:\n",
    "\n",
    "$$\n",
    "a = Xw\n",
    "$$\n",
    "\n",
    "Задача обучения:\n",
    "\n",
    "$$\n",
    "w = \\arg\\min_w MSE(Xw, y)\n",
    "$$\n",
    "\n",
    "Формула обучения:\n",
    "\n",
    "$$\n",
    "w = (X^T X)^{-1} X^T y\n",
    "$$"
   ]
  },
  {
   "cell_type": "markdown",
   "metadata": {},
   "source": [
    "**Ответ:** \n",
    "\n",
    "При преобразовании признаков $X$, посредсвтом умножения на невырожденную матрицу $P$ справа, метрики $MSE$ и $R^2$ линейных регрессий на преобразованных и на исходных данных совпадают.\n",
    "\n",
    "**Обоснование:** \n",
    "\n",
    "Обозначения:\n",
    "\n",
    "- $\\overline X = X \\cdot P$ — матрица признаков после преобразования\n",
    "\n",
    "- $\\overline w$ — вектор весов линейной регрессии полученный на преобразованных данных\n",
    "\n",
    "Вычислим как связан новый вектор $\\overline w$ с ветором $w$ и матрицей $P$:\n",
    "\n",
    "$\\overline w = ( \\overline X^T \\overline X )^{-1} \\overline X^T y  = ( P^T X^T X P )^{-1} P^T X^T y = P^{-1} (X^T X)^{-1} (P^T)^{-1} (P^T) X^T y = P^{-1} (X^T X)^{-1} X^T y = P^{-1} w$\n",
    "\n",
    "Тогда:\n",
    "\n",
    "$$\n",
    "MSE(\\overline{X w}, y) = MSE(X P P^{-1} w, y) = MSE(Xw, y)\n",
    "$$\n",
    "\n",
    "Аналогично:\n",
    "\n",
    "$$\n",
    "R^2(\\overline{X w}, y) = R^2(Xw, y)\n",
    "$$\n",
    "\n",
    "Ну и в целом предсказания двух регрессий очевидно будут совпадать из-за равнства $\\overline{Xw} = Xw$\n",
    "\n",
    "\n",
    "Интересно, что если умножить весь сет данных (включая целевой признак) на ортогональную матрицу ($A^T = A^{-1}$) слева, то $\\overline w = w$  \n",
    "\n",
    "В таком случае:\n",
    "\n",
    "- $\\overline X = A \\cdot X  $ — матрица признаков после преобразования\n",
    "\n",
    "- $\\overline w$ — вектор весов линейной регрессии полученный на преобразованных данных\n",
    "\n",
    "- $\\overline y = Ay$ — вектор целевого признака после преобразования\n",
    "\n",
    "$\\overline w = ( \\overline X^T \\overline X )^{-1} \\overline X^T  \\overline y  = ( X^T A^T A X )^{-1} X^T A^T A y  =(X^T X)^{-1} X^T y = w$"
   ]
  },
  {
   "cell_type": "markdown",
   "metadata": {},
   "source": [
    "## Алгоритм преобразования"
   ]
  },
  {
   "cell_type": "markdown",
   "metadata": {},
   "source": [
    "**Алгоритм**\n",
    "\n",
    "* генерируем случайную матрицу $P$ размера $nxn$, где $n$ - количество признаков (в нашем случае $n = 4$). Коэффициенты сделаем лежащими в диапозоне от 0 до 100. Сгенерировать матрицу с нулевым определителем крайне маловероятно.\n",
    "\n",
    "\n",
    "* преобразуем данные $\\overline X = X \\cdot P$, целевой признак не трогаем\n",
    "\n",
    "\n",
    "* обучаем линейную регрессию на преобразованных данных, считаем $R^2$.\n",
    "\n",
    "\n",
    "* обучаем линейную регрессию на исходных данных, считаем $R^2$, сравниваем его с предыдущим значением. Метрики должны совпадать"
   ]
  },
  {
   "cell_type": "markdown",
   "metadata": {},
   "source": [
    "## Проверка алгоритма\n",
    "### Генерируем матрицу"
   ]
  },
  {
   "cell_type": "code",
   "execution_count": 9,
   "metadata": {},
   "outputs": [
    {
     "data": {
      "text/plain": [
       "array([[0.5488135 , 0.71518937, 0.60276338, 0.54488318],\n",
       "       [0.4236548 , 0.64589411, 0.43758721, 0.891773  ],\n",
       "       [0.96366276, 0.38344152, 0.79172504, 0.52889492],\n",
       "       [0.56804456, 0.92559664, 0.07103606, 0.0871293 ]])"
      ]
     },
     "execution_count": 9,
     "metadata": {},
     "output_type": "execute_result"
    }
   ],
   "source": [
    "n = 4\n",
    "np.random.seed(0)\n",
    "p = np.random.rand(n, n)\n",
    "p"
   ]
  },
  {
   "cell_type": "markdown",
   "metadata": {},
   "source": [
    "Убедимся в обратимости матрицы:"
   ]
  },
  {
   "cell_type": "code",
   "execution_count": 10,
   "metadata": {},
   "outputs": [
    {
     "data": {
      "text/plain": [
       "0.1393885146242566"
      ]
     },
     "execution_count": 10,
     "metadata": {},
     "output_type": "execute_result"
    }
   ],
   "source": [
    "np.linalg.det(p)"
   ]
  },
  {
   "cell_type": "markdown",
   "metadata": {},
   "source": [
    "### Разбиваем данные, преобразуем их"
   ]
  },
  {
   "cell_type": "code",
   "execution_count": 13,
   "metadata": {},
   "outputs": [],
   "source": [
    "features = df.drop(['Страховые выплаты'], axis = 1)\n",
    "target = df['Страховые выплаты']"
   ]
  },
  {
   "cell_type": "code",
   "execution_count": 14,
   "metadata": {},
   "outputs": [
    {
     "data": {
      "text/html": [
       "<div>\n",
       "<style scoped>\n",
       "    .dataframe tbody tr th:only-of-type {\n",
       "        vertical-align: middle;\n",
       "    }\n",
       "\n",
       "    .dataframe tbody tr th {\n",
       "        vertical-align: top;\n",
       "    }\n",
       "\n",
       "    .dataframe thead th {\n",
       "        text-align: right;\n",
       "    }\n",
       "</style>\n",
       "<table border=\"1\" class=\"dataframe\">\n",
       "  <thead>\n",
       "    <tr style=\"text-align: right;\">\n",
       "      <th></th>\n",
       "      <th>f0</th>\n",
       "      <th>f1</th>\n",
       "      <th>f2</th>\n",
       "      <th>f3</th>\n",
       "    </tr>\n",
       "  </thead>\n",
       "  <tbody>\n",
       "    <tr>\n",
       "      <td>0</td>\n",
       "      <td>47816.159626</td>\n",
       "      <td>19046.821778</td>\n",
       "      <td>39288.176764</td>\n",
       "      <td>26270.382725</td>\n",
       "    </tr>\n",
       "    <tr>\n",
       "      <td>1</td>\n",
       "      <td>36639.241064</td>\n",
       "      <td>14601.414441</td>\n",
       "      <td>30105.751495</td>\n",
       "      <td>20139.115638</td>\n",
       "    </tr>\n",
       "    <tr>\n",
       "      <td>2</td>\n",
       "      <td>20249.203960</td>\n",
       "      <td>8071.002825</td>\n",
       "      <td>16638.915829</td>\n",
       "      <td>11132.654732</td>\n",
       "    </tr>\n",
       "    <tr>\n",
       "      <td>3</td>\n",
       "      <td>40194.769953</td>\n",
       "      <td>16004.926305</td>\n",
       "      <td>33024.265492</td>\n",
       "      <td>22073.819645</td>\n",
       "    </tr>\n",
       "    <tr>\n",
       "      <td>4</td>\n",
       "      <td>25164.009197</td>\n",
       "      <td>10026.623866</td>\n",
       "      <td>20676.878699</td>\n",
       "      <td>13829.671933</td>\n",
       "    </tr>\n",
       "    <tr>\n",
       "      <td>...</td>\n",
       "      <td>...</td>\n",
       "      <td>...</td>\n",
       "      <td>...</td>\n",
       "      <td>...</td>\n",
       "    </tr>\n",
       "    <tr>\n",
       "      <td>4995</td>\n",
       "      <td>34415.758973</td>\n",
       "      <td>13708.798451</td>\n",
       "      <td>28276.978374</td>\n",
       "      <td>18906.692538</td>\n",
       "    </tr>\n",
       "    <tr>\n",
       "      <td>4996</td>\n",
       "      <td>50510.900958</td>\n",
       "      <td>20115.221583</td>\n",
       "      <td>41501.340997</td>\n",
       "      <td>27744.501206</td>\n",
       "    </tr>\n",
       "    <tr>\n",
       "      <td>4997</td>\n",
       "      <td>32677.776766</td>\n",
       "      <td>13013.436564</td>\n",
       "      <td>26848.372607</td>\n",
       "      <td>17947.547498</td>\n",
       "    </tr>\n",
       "    <tr>\n",
       "      <td>4998</td>\n",
       "      <td>31523.345621</td>\n",
       "      <td>12556.239315</td>\n",
       "      <td>25899.851536</td>\n",
       "      <td>17315.289153</td>\n",
       "    </tr>\n",
       "    <tr>\n",
       "      <td>4999</td>\n",
       "      <td>39137.687269</td>\n",
       "      <td>15587.451485</td>\n",
       "      <td>32156.962788</td>\n",
       "      <td>21498.735398</td>\n",
       "    </tr>\n",
       "  </tbody>\n",
       "</table>\n",
       "<p>5000 rows × 4 columns</p>\n",
       "</div>"
      ],
      "text/plain": [
       "                f0            f1            f2            f3\n",
       "0     47816.159626  19046.821778  39288.176764  26270.382725\n",
       "1     36639.241064  14601.414441  30105.751495  20139.115638\n",
       "2     20249.203960   8071.002825  16638.915829  11132.654732\n",
       "3     40194.769953  16004.926305  33024.265492  22073.819645\n",
       "4     25164.009197  10026.623866  20676.878699  13829.671933\n",
       "...            ...           ...           ...           ...\n",
       "4995  34415.758973  13708.798451  28276.978374  18906.692538\n",
       "4996  50510.900958  20115.221583  41501.340997  27744.501206\n",
       "4997  32677.776766  13013.436564  26848.372607  17947.547498\n",
       "4998  31523.345621  12556.239315  25899.851536  17315.289153\n",
       "4999  39137.687269  15587.451485  32156.962788  21498.735398\n",
       "\n",
       "[5000 rows x 4 columns]"
      ]
     },
     "execution_count": 14,
     "metadata": {},
     "output_type": "execute_result"
    }
   ],
   "source": [
    "new_features = pd.DataFrame (data = features.values @ p, columns = ['f0', 'f1', 'f2', 'f3'])\n",
    "new_features"
   ]
  },
  {
   "cell_type": "markdown",
   "metadata": {},
   "source": [
    "### Обучаем линейную регрессию на преобразованных и на исходных данных, считаем $R^2$"
   ]
  },
  {
   "cell_type": "code",
   "execution_count": 15,
   "metadata": {},
   "outputs": [
    {
     "name": "stdout",
     "output_type": "stream",
     "text": [
      "R2 линейной регресии на преобразованных данных 0.4249455028666629\n"
     ]
    }
   ],
   "source": [
    "model = LinearRegression()\n",
    "model.fit(new_features, target)\n",
    "predicted = model.predict(new_features)\n",
    "print(\"R2 линейной регресии на преобразованных данных\", r2_score(target, predicted) )"
   ]
  },
  {
   "cell_type": "code",
   "execution_count": 16,
   "metadata": {},
   "outputs": [
    {
     "name": "stdout",
     "output_type": "stream",
     "text": [
      "R2 линейной регресии на исходных данных 0.42494550286668\n"
     ]
    }
   ],
   "source": [
    "model = LinearRegression()\n",
    "model.fit(features, target)\n",
    "predicted = model.predict(features)\n",
    "r2_score(target, predicted)\n",
    "print(\"R2 линейной регресии на исходных данных\", r2_score(target, predicted))"
   ]
  },
  {
   "cell_type": "markdown",
   "metadata": {},
   "source": [
    "### На всякий случай проверим равенство $\\overline{Xw} = Xw$"
   ]
  },
  {
   "cell_type": "code",
   "execution_count": 55,
   "metadata": {},
   "outputs": [
    {
     "data": {
      "text/html": [
       "<div>\n",
       "<style scoped>\n",
       "    .dataframe tbody tr th:only-of-type {\n",
       "        vertical-align: middle;\n",
       "    }\n",
       "\n",
       "    .dataframe tbody tr th {\n",
       "        vertical-align: top;\n",
       "    }\n",
       "\n",
       "    .dataframe thead th {\n",
       "        text-align: right;\n",
       "    }\n",
       "</style>\n",
       "<table border=\"1\" class=\"dataframe\">\n",
       "  <thead>\n",
       "    <tr style=\"text-align: right;\">\n",
       "      <th></th>\n",
       "      <th>$X_{new}w_{new}$</th>\n",
       "      <th>$Xw$</th>\n",
       "    </tr>\n",
       "  </thead>\n",
       "  <tbody>\n",
       "    <tr>\n",
       "      <td>0</td>\n",
       "      <td>0.511727</td>\n",
       "      <td>0.511727</td>\n",
       "    </tr>\n",
       "    <tr>\n",
       "      <td>1</td>\n",
       "      <td>0.684316</td>\n",
       "      <td>0.684316</td>\n",
       "    </tr>\n",
       "    <tr>\n",
       "      <td>2</td>\n",
       "      <td>0.093734</td>\n",
       "      <td>0.093734</td>\n",
       "    </tr>\n",
       "    <tr>\n",
       "      <td>3</td>\n",
       "      <td>-0.222589</td>\n",
       "      <td>-0.222589</td>\n",
       "    </tr>\n",
       "    <tr>\n",
       "      <td>4</td>\n",
       "      <td>0.065084</td>\n",
       "      <td>0.065084</td>\n",
       "    </tr>\n",
       "    <tr>\n",
       "      <td>...</td>\n",
       "      <td>...</td>\n",
       "      <td>...</td>\n",
       "    </tr>\n",
       "    <tr>\n",
       "      <td>4995</td>\n",
       "      <td>0.028390</td>\n",
       "      <td>0.028390</td>\n",
       "    </tr>\n",
       "    <tr>\n",
       "      <td>4996</td>\n",
       "      <td>0.253367</td>\n",
       "      <td>0.253367</td>\n",
       "    </tr>\n",
       "    <tr>\n",
       "      <td>4997</td>\n",
       "      <td>-0.256970</td>\n",
       "      <td>-0.256970</td>\n",
       "    </tr>\n",
       "    <tr>\n",
       "      <td>4998</td>\n",
       "      <td>-0.190992</td>\n",
       "      <td>-0.190992</td>\n",
       "    </tr>\n",
       "    <tr>\n",
       "      <td>4999</td>\n",
       "      <td>0.049050</td>\n",
       "      <td>0.049050</td>\n",
       "    </tr>\n",
       "  </tbody>\n",
       "</table>\n",
       "<p>5000 rows × 2 columns</p>\n",
       "</div>"
      ],
      "text/plain": [
       "      $X_{new}w_{new}$      $Xw$\n",
       "0             0.511727  0.511727\n",
       "1             0.684316  0.684316\n",
       "2             0.093734  0.093734\n",
       "3            -0.222589 -0.222589\n",
       "4             0.065084  0.065084\n",
       "...                ...       ...\n",
       "4995          0.028390  0.028390\n",
       "4996          0.253367  0.253367\n",
       "4997         -0.256970 -0.256970\n",
       "4998         -0.190992 -0.190992\n",
       "4999          0.049050  0.049050\n",
       "\n",
       "[5000 rows x 2 columns]"
      ]
     },
     "execution_count": 55,
     "metadata": {},
     "output_type": "execute_result"
    }
   ],
   "source": [
    "model = LinearRegression()\n",
    "model.fit(new_features, target)\n",
    "x_w_1 = model.predict(new_features)\n",
    "\n",
    "\n",
    "model = LinearRegression()\n",
    "model.fit(features, target)\n",
    "x_w_2 = model.predict(features)\n",
    "\n",
    "pd_w =  pd.DataFrame(x_w_1, x_w_2)\n",
    "pd_w = pd_w.reset_index()\n",
    "pd_w.columns = ['$X_{new}w_{new}$', '$Xw$']\n",
    "pd_w"
   ]
  },
  {
   "cell_type": "code",
   "execution_count": 56,
   "metadata": {},
   "outputs": [
    {
     "data": {
      "text/html": [
       "<div>\n",
       "<style scoped>\n",
       "    .dataframe tbody tr th:only-of-type {\n",
       "        vertical-align: middle;\n",
       "    }\n",
       "\n",
       "    .dataframe tbody tr th {\n",
       "        vertical-align: top;\n",
       "    }\n",
       "\n",
       "    .dataframe thead th {\n",
       "        text-align: right;\n",
       "    }\n",
       "</style>\n",
       "<table border=\"1\" class=\"dataframe\">\n",
       "  <thead>\n",
       "    <tr style=\"text-align: right;\">\n",
       "      <th></th>\n",
       "      <th>$X_{new}w_{new}$</th>\n",
       "      <th>$Xw$</th>\n",
       "      <th>$(X_{new}w_{new} - Xw) ^ 2$</th>\n",
       "    </tr>\n",
       "  </thead>\n",
       "  <tbody>\n",
       "    <tr>\n",
       "      <td>0</td>\n",
       "      <td>0.511727</td>\n",
       "      <td>0.511727</td>\n",
       "      <td>7.385371e-24</td>\n",
       "    </tr>\n",
       "    <tr>\n",
       "      <td>1</td>\n",
       "      <td>0.684316</td>\n",
       "      <td>0.684316</td>\n",
       "      <td>6.642330e-24</td>\n",
       "    </tr>\n",
       "    <tr>\n",
       "      <td>2</td>\n",
       "      <td>0.093734</td>\n",
       "      <td>0.093734</td>\n",
       "      <td>5.247921e-24</td>\n",
       "    </tr>\n",
       "    <tr>\n",
       "      <td>3</td>\n",
       "      <td>-0.222589</td>\n",
       "      <td>-0.222589</td>\n",
       "      <td>5.825049e-24</td>\n",
       "    </tr>\n",
       "    <tr>\n",
       "      <td>4</td>\n",
       "      <td>0.065084</td>\n",
       "      <td>0.065084</td>\n",
       "      <td>7.369690e-24</td>\n",
       "    </tr>\n",
       "    <tr>\n",
       "      <td>...</td>\n",
       "      <td>...</td>\n",
       "      <td>...</td>\n",
       "      <td>...</td>\n",
       "    </tr>\n",
       "    <tr>\n",
       "      <td>4995</td>\n",
       "      <td>0.028390</td>\n",
       "      <td>0.028390</td>\n",
       "      <td>6.489281e-24</td>\n",
       "    </tr>\n",
       "    <tr>\n",
       "      <td>4996</td>\n",
       "      <td>0.253367</td>\n",
       "      <td>0.253367</td>\n",
       "      <td>7.286740e-24</td>\n",
       "    </tr>\n",
       "    <tr>\n",
       "      <td>4997</td>\n",
       "      <td>-0.256970</td>\n",
       "      <td>-0.256970</td>\n",
       "      <td>6.027748e-24</td>\n",
       "    </tr>\n",
       "    <tr>\n",
       "      <td>4998</td>\n",
       "      <td>-0.190992</td>\n",
       "      <td>-0.190992</td>\n",
       "      <td>7.090876e-24</td>\n",
       "    </tr>\n",
       "    <tr>\n",
       "      <td>4999</td>\n",
       "      <td>0.049050</td>\n",
       "      <td>0.049050</td>\n",
       "      <td>8.426829e-24</td>\n",
       "    </tr>\n",
       "  </tbody>\n",
       "</table>\n",
       "<p>5000 rows × 3 columns</p>\n",
       "</div>"
      ],
      "text/plain": [
       "      $X_{new}w_{new}$      $Xw$  $(X_{new}w_{new} - Xw) ^ 2$\n",
       "0             0.511727  0.511727                 7.385371e-24\n",
       "1             0.684316  0.684316                 6.642330e-24\n",
       "2             0.093734  0.093734                 5.247921e-24\n",
       "3            -0.222589 -0.222589                 5.825049e-24\n",
       "4             0.065084  0.065084                 7.369690e-24\n",
       "...                ...       ...                          ...\n",
       "4995          0.028390  0.028390                 6.489281e-24\n",
       "4996          0.253367  0.253367                 7.286740e-24\n",
       "4997         -0.256970 -0.256970                 6.027748e-24\n",
       "4998         -0.190992 -0.190992                 7.090876e-24\n",
       "4999          0.049050  0.049050                 8.426829e-24\n",
       "\n",
       "[5000 rows x 3 columns]"
      ]
     },
     "execution_count": 56,
     "metadata": {},
     "output_type": "execute_result"
    }
   ],
   "source": [
    "pd_w['$(X_{new}w_{new} - Xw) ^ 2$'] = (pd_w['$X_{new}w_{new}$'] - pd_w['$Xw$']) ** 2\n",
    "pd_w"
   ]
  },
  {
   "cell_type": "code",
   "execution_count": 57,
   "metadata": {},
   "outputs": [
    {
     "data": {
      "text/plain": [
       "3.3772000702627354e-20"
      ]
     },
     "execution_count": 57,
     "metadata": {},
     "output_type": "execute_result"
    }
   ],
   "source": [
    "pd_w['$(X_{new}w_{new} - Xw) ^ 2$'].sum()"
   ]
  },
  {
   "cell_type": "markdown",
   "metadata": {},
   "source": [
    "Все верно!)"
   ]
  },
  {
   "cell_type": "markdown",
   "metadata": {},
   "source": [
    "## Общий вывод\n",
    "\n",
    "Теоретические выкладки полностью подтвердились на практике. На проебразованных и исходных данных метрики линейной регрессии совпадают после линейного преобразования признаков."
   ]
  }
 ],
 "metadata": {
  "kernelspec": {
   "display_name": "Python 3",
   "language": "python",
   "name": "python3"
  },
  "language_info": {
   "codemirror_mode": {
    "name": "ipython",
    "version": 3
   },
   "file_extension": ".py",
   "mimetype": "text/x-python",
   "name": "python",
   "nbconvert_exporter": "python",
   "pygments_lexer": "ipython3",
   "version": "3.8.8"
  },
  "toc": {
   "base_numbering": 1,
   "nav_menu": {},
   "number_sections": true,
   "sideBar": true,
   "skip_h1_title": true,
   "title_cell": "Table of Contents",
   "title_sidebar": "Contents",
   "toc_cell": true,
   "toc_position": {
    "height": "calc(100% - 180px)",
    "left": "10px",
    "top": "150px",
    "width": "165px"
   },
   "toc_section_display": true,
   "toc_window_display": false
  }
 },
 "nbformat": 4,
 "nbformat_minor": 2
}
